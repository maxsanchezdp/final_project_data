{
 "cells": [
  {
   "cell_type": "code",
   "execution_count": 154,
   "metadata": {},
   "outputs": [],
   "source": [
    "import itertools\n",
    "import pandas as pd\n",
    "import numpy as np\n",
    "import matplotlib.pyplot as plt\n",
    "%matplotlib inline\n",
    "\n",
    "# Preprocessing\n",
    "from sklearn.model_selection import train_test_split\n",
    "from sklearn.preprocessing import LabelEncoder, StandardScaler\n",
    "\n",
    "#Keras\n",
    "import keras\n",
    "\n",
    "import warnings\n",
    "warnings.filterwarnings('ignore')"
   ]
  },
  {
   "cell_type": "code",
   "execution_count": 2,
   "metadata": {},
   "outputs": [],
   "source": [
    "#Dictionary for genres label encoding:\n",
    "genres = {'blues': 0, 'classical': 1, 'country': 2, 'disco': 3, 'hiphop': 4, \n",
    "          'jazz': 5, 'metal': 6, 'pop': 7, 'reggae': 8, 'rock': 9}"
   ]
  },
  {
   "cell_type": "code",
   "execution_count": 118,
   "metadata": {},
   "outputs": [
    {
     "data": {
      "text/html": [
       "<div>\n",
       "<style scoped>\n",
       "    .dataframe tbody tr th:only-of-type {\n",
       "        vertical-align: middle;\n",
       "    }\n",
       "\n",
       "    .dataframe tbody tr th {\n",
       "        vertical-align: top;\n",
       "    }\n",
       "\n",
       "    .dataframe thead th {\n",
       "        text-align: right;\n",
       "    }\n",
       "</style>\n",
       "<table border=\"1\" class=\"dataframe\">\n",
       "  <thead>\n",
       "    <tr style=\"text-align: right;\">\n",
       "      <th></th>\n",
       "      <th>centroid_mean</th>\n",
       "      <th>centroid_std</th>\n",
       "      <th>chroma_mean</th>\n",
       "      <th>chroma_std</th>\n",
       "      <th>flux_mean</th>\n",
       "      <th>flux_std</th>\n",
       "      <th>genre</th>\n",
       "      <th>mfcc_0_mean</th>\n",
       "      <th>mfcc_0_std</th>\n",
       "      <th>mfcc_10_mean</th>\n",
       "      <th>...</th>\n",
       "      <th>mfcc_8_std</th>\n",
       "      <th>mfcc_9_mean</th>\n",
       "      <th>mfcc_9_std</th>\n",
       "      <th>rmse_mean</th>\n",
       "      <th>rmse_std</th>\n",
       "      <th>roloff_mean</th>\n",
       "      <th>roloff_std</th>\n",
       "      <th>tempo</th>\n",
       "      <th>zcr_mean</th>\n",
       "      <th>zcr_std</th>\n",
       "    </tr>\n",
       "  </thead>\n",
       "  <tbody>\n",
       "    <tr>\n",
       "      <th>0</th>\n",
       "      <td>888.192767</td>\n",
       "      <td>379.074067</td>\n",
       "      <td>0.525691</td>\n",
       "      <td>0.295343</td>\n",
       "      <td>1.557968</td>\n",
       "      <td>1.675129</td>\n",
       "      <td>0</td>\n",
       "      <td>-298.866425</td>\n",
       "      <td>55.572163</td>\n",
       "      <td>-1.312751</td>\n",
       "      <td>...</td>\n",
       "      <td>10.512544</td>\n",
       "      <td>4.846227</td>\n",
       "      <td>12.137277</td>\n",
       "      <td>0.118639</td>\n",
       "      <td>0.061269</td>\n",
       "      <td>1770.389295</td>\n",
       "      <td>1010.104647</td>\n",
       "      <td>172.265625</td>\n",
       "      <td>0.029214</td>\n",
       "      <td>0.015715</td>\n",
       "    </tr>\n",
       "    <tr>\n",
       "      <th>1</th>\n",
       "      <td>1001.220509</td>\n",
       "      <td>363.289566</td>\n",
       "      <td>0.497065</td>\n",
       "      <td>0.294911</td>\n",
       "      <td>1.479048</td>\n",
       "      <td>1.466835</td>\n",
       "      <td>0</td>\n",
       "      <td>-239.033478</td>\n",
       "      <td>48.344673</td>\n",
       "      <td>-6.611788</td>\n",
       "      <td>...</td>\n",
       "      <td>8.462409</td>\n",
       "      <td>2.155131</td>\n",
       "      <td>8.355743</td>\n",
       "      <td>0.160613</td>\n",
       "      <td>0.060511</td>\n",
       "      <td>2055.339246</td>\n",
       "      <td>1014.663475</td>\n",
       "      <td>172.265625</td>\n",
       "      <td>0.034871</td>\n",
       "      <td>0.015003</td>\n",
       "    </tr>\n",
       "    <tr>\n",
       "      <th>2</th>\n",
       "      <td>846.548114</td>\n",
       "      <td>618.517730</td>\n",
       "      <td>0.576510</td>\n",
       "      <td>0.270677</td>\n",
       "      <td>1.633401</td>\n",
       "      <td>2.636701</td>\n",
       "      <td>0</td>\n",
       "      <td>-317.237152</td>\n",
       "      <td>81.588196</td>\n",
       "      <td>-1.960779</td>\n",
       "      <td>...</td>\n",
       "      <td>10.031506</td>\n",
       "      <td>9.536193</td>\n",
       "      <td>8.848726</td>\n",
       "      <td>0.102250</td>\n",
       "      <td>0.037121</td>\n",
       "      <td>1625.756836</td>\n",
       "      <td>1435.688964</td>\n",
       "      <td>123.046875</td>\n",
       "      <td>0.032692</td>\n",
       "      <td>0.029412</td>\n",
       "    </tr>\n",
       "    <tr>\n",
       "      <th>3</th>\n",
       "      <td>973.959994</td>\n",
       "      <td>609.317788</td>\n",
       "      <td>0.564331</td>\n",
       "      <td>0.271416</td>\n",
       "      <td>1.451815</td>\n",
       "      <td>2.326623</td>\n",
       "      <td>0</td>\n",
       "      <td>-300.514404</td>\n",
       "      <td>92.136734</td>\n",
       "      <td>-2.918866</td>\n",
       "      <td>...</td>\n",
       "      <td>10.758454</td>\n",
       "      <td>11.795238</td>\n",
       "      <td>10.521724</td>\n",
       "      <td>0.094613</td>\n",
       "      <td>0.039514</td>\n",
       "      <td>1878.647167</td>\n",
       "      <td>1368.791028</td>\n",
       "      <td>129.199219</td>\n",
       "      <td>0.039325</td>\n",
       "      <td>0.030719</td>\n",
       "    </tr>\n",
       "    <tr>\n",
       "      <th>4</th>\n",
       "      <td>1101.462315</td>\n",
       "      <td>365.249696</td>\n",
       "      <td>0.379367</td>\n",
       "      <td>0.298470</td>\n",
       "      <td>1.422705</td>\n",
       "      <td>1.567510</td>\n",
       "      <td>0</td>\n",
       "      <td>-290.625641</td>\n",
       "      <td>67.902252</td>\n",
       "      <td>-7.053016</td>\n",
       "      <td>...</td>\n",
       "      <td>9.873894</td>\n",
       "      <td>-5.429997</td>\n",
       "      <td>10.567539</td>\n",
       "      <td>0.112067</td>\n",
       "      <td>0.066417</td>\n",
       "      <td>2234.553155</td>\n",
       "      <td>871.327336</td>\n",
       "      <td>95.703125</td>\n",
       "      <td>0.050290</td>\n",
       "      <td>0.033235</td>\n",
       "    </tr>\n",
       "  </tbody>\n",
       "</table>\n",
       "<p>5 rows × 40 columns</p>\n",
       "</div>"
      ],
      "text/plain": [
       "   centroid_mean  centroid_std  chroma_mean  chroma_std  flux_mean  flux_std  \\\n",
       "0     888.192767    379.074067     0.525691    0.295343   1.557968  1.675129   \n",
       "1    1001.220509    363.289566     0.497065    0.294911   1.479048  1.466835   \n",
       "2     846.548114    618.517730     0.576510    0.270677   1.633401  2.636701   \n",
       "3     973.959994    609.317788     0.564331    0.271416   1.451815  2.326623   \n",
       "4    1101.462315    365.249696     0.379367    0.298470   1.422705  1.567510   \n",
       "\n",
       "   genre  mfcc_0_mean  mfcc_0_std  mfcc_10_mean  ...  mfcc_8_std  mfcc_9_mean  \\\n",
       "0      0  -298.866425   55.572163     -1.312751  ...   10.512544     4.846227   \n",
       "1      0  -239.033478   48.344673     -6.611788  ...    8.462409     2.155131   \n",
       "2      0  -317.237152   81.588196     -1.960779  ...   10.031506     9.536193   \n",
       "3      0  -300.514404   92.136734     -2.918866  ...   10.758454    11.795238   \n",
       "4      0  -290.625641   67.902252     -7.053016  ...    9.873894    -5.429997   \n",
       "\n",
       "   mfcc_9_std  rmse_mean  rmse_std  roloff_mean   roloff_std       tempo  \\\n",
       "0   12.137277   0.118639  0.061269  1770.389295  1010.104647  172.265625   \n",
       "1    8.355743   0.160613  0.060511  2055.339246  1014.663475  172.265625   \n",
       "2    8.848726   0.102250  0.037121  1625.756836  1435.688964  123.046875   \n",
       "3   10.521724   0.094613  0.039514  1878.647167  1368.791028  129.199219   \n",
       "4   10.567539   0.112067  0.066417  2234.553155   871.327336   95.703125   \n",
       "\n",
       "   zcr_mean   zcr_std  \n",
       "0  0.029214  0.015715  \n",
       "1  0.034871  0.015003  \n",
       "2  0.032692  0.029412  \n",
       "3  0.039325  0.030719  \n",
       "4  0.050290  0.033235  \n",
       "\n",
       "[5 rows x 40 columns]"
      ]
     },
     "execution_count": 118,
     "metadata": {},
     "output_type": "execute_result"
    }
   ],
   "source": [
    "data=pd.read_csv(\"./Features/features2.csv\")\n",
    "data.head()"
   ]
  },
  {
   "cell_type": "code",
   "execution_count": 119,
   "metadata": {},
   "outputs": [],
   "source": [
    "X=data.drop('genre',axis=1)"
   ]
  },
  {
   "cell_type": "code",
   "execution_count": 120,
   "metadata": {},
   "outputs": [],
   "source": [
    "y=data.genre"
   ]
  },
  {
   "cell_type": "code",
   "execution_count": 121,
   "metadata": {},
   "outputs": [],
   "source": [
    "scaled_features = StandardScaler().fit_transform(X.values)\n",
    "X = pd.DataFrame(scaled_features, index=X.index, columns=X.columns)\n"
   ]
  },
  {
   "cell_type": "code",
   "execution_count": 128,
   "metadata": {},
   "outputs": [],
   "source": [
    "X_train, X_test, y_train, y_test = train_test_split(X, y, test_size=0.2, random_state=42)"
   ]
  },
  {
   "cell_type": "code",
   "execution_count": 129,
   "metadata": {},
   "outputs": [
    {
     "data": {
      "text/plain": [
       "(1584, 39)"
      ]
     },
     "execution_count": 129,
     "metadata": {},
     "output_type": "execute_result"
    }
   ],
   "source": [
    "X_train.shape"
   ]
  },
  {
   "cell_type": "code",
   "execution_count": 142,
   "metadata": {},
   "outputs": [],
   "source": [
    "from keras import models\n",
    "from keras import layers\n",
    "\n",
    "model = models.Sequential()\n",
    "model.add(layers.Dense(256, activation='relu', input_shape=(X_train.shape[1],)))\n",
    "\n",
    "model.add(layers.Dense(128, activation='relu'))\n",
    "\n",
    "model.add(layers.Dense(64, activation='relu'))\n",
    "\n",
    "model.add(layers.Dense(10, activation='softmax'))"
   ]
  },
  {
   "cell_type": "code",
   "execution_count": 143,
   "metadata": {},
   "outputs": [],
   "source": [
    "model.compile(optimizer='adam',\n",
    "              loss='sparse_categorical_crossentropy',\n",
    "              metrics=['accuracy'])"
   ]
  },
  {
   "cell_type": "code",
   "execution_count": 144,
   "metadata": {},
   "outputs": [
    {
     "name": "stdout",
     "output_type": "stream",
     "text": [
      "Epoch 1/100\n",
      "1584/1584 [==============================] - 1s 826us/step - loss: 2.0284 - acc: 0.2816\n",
      "Epoch 2/100\n",
      "1584/1584 [==============================] - 0s 60us/step - loss: 1.4521 - acc: 0.4981\n",
      "Epoch 3/100\n",
      "1584/1584 [==============================] - 0s 58us/step - loss: 1.1133 - acc: 0.6351\n",
      "Epoch 4/100\n",
      "1584/1584 [==============================] - 0s 55us/step - loss: 0.9074 - acc: 0.6982\n",
      "Epoch 5/100\n",
      "1584/1584 [==============================] - 0s 50us/step - loss: 0.7869 - acc: 0.7399\n",
      "Epoch 6/100\n",
      "1584/1584 [==============================] - 0s 65us/step - loss: 0.6831 - acc: 0.7746\n",
      "Epoch 7/100\n",
      "1584/1584 [==============================] - 0s 57us/step - loss: 0.6046 - acc: 0.8018\n",
      "Epoch 8/100\n",
      "1584/1584 [==============================] - 0s 62us/step - loss: 0.5380 - acc: 0.8220\n",
      "Epoch 9/100\n",
      "1584/1584 [==============================] - 0s 51us/step - loss: 0.4984 - acc: 0.8308\n",
      "Epoch 10/100\n",
      "1584/1584 [==============================] - 0s 50us/step - loss: 0.4500 - acc: 0.8548\n",
      "Epoch 11/100\n",
      "1584/1584 [==============================] - 0s 54us/step - loss: 0.4195 - acc: 0.8718\n",
      "Epoch 12/100\n",
      "1584/1584 [==============================] - 0s 56us/step - loss: 0.3743 - acc: 0.8895\n",
      "Epoch 13/100\n",
      "1584/1584 [==============================] - 0s 52us/step - loss: 0.3406 - acc: 0.9015\n",
      "Epoch 14/100\n",
      "1584/1584 [==============================] - 0s 61us/step - loss: 0.3143 - acc: 0.9066\n",
      "Epoch 15/100\n",
      "1584/1584 [==============================] - 0s 51us/step - loss: 0.2867 - acc: 0.9192\n",
      "Epoch 16/100\n",
      "1584/1584 [==============================] - 0s 60us/step - loss: 0.2580 - acc: 0.9299\n",
      "Epoch 17/100\n",
      "1584/1584 [==============================] - 0s 53us/step - loss: 0.2517 - acc: 0.9312\n",
      "Epoch 18/100\n",
      "1584/1584 [==============================] - 0s 64us/step - loss: 0.2354 - acc: 0.9312\n",
      "Epoch 19/100\n",
      "1584/1584 [==============================] - 0s 63us/step - loss: 0.2038 - acc: 0.9438\n",
      "Epoch 20/100\n",
      "1584/1584 [==============================] - 0s 60us/step - loss: 0.1816 - acc: 0.9527\n",
      "Epoch 21/100\n",
      "1584/1584 [==============================] - 0s 66us/step - loss: 0.1716 - acc: 0.9571\n",
      "Epoch 22/100\n",
      "1584/1584 [==============================] - 0s 58us/step - loss: 0.1514 - acc: 0.9646\n",
      "Epoch 23/100\n",
      "1584/1584 [==============================] - 0s 53us/step - loss: 0.1357 - acc: 0.9735\n",
      "Epoch 24/100\n",
      "1584/1584 [==============================] - 0s 64us/step - loss: 0.1262 - acc: 0.9766\n",
      "Epoch 25/100\n",
      "1584/1584 [==============================] - 0s 54us/step - loss: 0.1128 - acc: 0.9792\n",
      "Epoch 26/100\n",
      "1584/1584 [==============================] - 0s 52us/step - loss: 0.0975 - acc: 0.9861\n",
      "Epoch 27/100\n",
      "1584/1584 [==============================] - 0s 57us/step - loss: 0.0984 - acc: 0.9867\n",
      "Epoch 28/100\n",
      "1584/1584 [==============================] - 0s 73us/step - loss: 0.0953 - acc: 0.9842\n",
      "Epoch 29/100\n",
      "1584/1584 [==============================] - 0s 59us/step - loss: 0.0790 - acc: 0.9899\n",
      "Epoch 30/100\n",
      "1584/1584 [==============================] - 0s 79us/step - loss: 0.0689 - acc: 0.9918\n",
      "Epoch 31/100\n",
      "1584/1584 [==============================] - 0s 75us/step - loss: 0.0586 - acc: 0.9949\n",
      "Epoch 32/100\n",
      "1584/1584 [==============================] - 0s 75us/step - loss: 0.0578 - acc: 0.9943\n",
      "Epoch 33/100\n",
      "1584/1584 [==============================] - 0s 60us/step - loss: 0.0525 - acc: 0.9949\n",
      "Epoch 34/100\n",
      "1584/1584 [==============================] - 0s 70us/step - loss: 0.0457 - acc: 0.9962\n",
      "Epoch 35/100\n",
      "1584/1584 [==============================] - 0s 76us/step - loss: 0.0405 - acc: 0.9968\n",
      "Epoch 36/100\n",
      "1584/1584 [==============================] - 0s 59us/step - loss: 0.0343 - acc: 0.9987\n",
      "Epoch 37/100\n",
      "1584/1584 [==============================] - 0s 77us/step - loss: 0.0320 - acc: 0.9987\n",
      "Epoch 38/100\n",
      "1584/1584 [==============================] - 0s 83us/step - loss: 0.0323 - acc: 0.9968\n",
      "Epoch 39/100\n",
      "1584/1584 [==============================] - 0s 53us/step - loss: 0.0307 - acc: 0.9975: 0s - loss: 0.0315 - acc: 0.997\n",
      "Epoch 40/100\n",
      "1584/1584 [==============================] - 0s 79us/step - loss: 0.0304 - acc: 0.9968\n",
      "Epoch 41/100\n",
      "1584/1584 [==============================] - 0s 79us/step - loss: 0.0257 - acc: 0.9981\n",
      "Epoch 42/100\n",
      "1584/1584 [==============================] - 0s 65us/step - loss: 0.0231 - acc: 0.9981\n",
      "Epoch 43/100\n",
      "1584/1584 [==============================] - 0s 66us/step - loss: 0.0210 - acc: 0.9987\n",
      "Epoch 44/100\n",
      "1584/1584 [==============================] - 0s 92us/step - loss: 0.0211 - acc: 0.9981\n",
      "Epoch 45/100\n",
      "1584/1584 [==============================] - 0s 78us/step - loss: 0.0186 - acc: 0.9981\n",
      "Epoch 46/100\n",
      "1584/1584 [==============================] - 0s 65us/step - loss: 0.0170 - acc: 0.9987\n",
      "Epoch 47/100\n",
      "1584/1584 [==============================] - 0s 71us/step - loss: 0.0163 - acc: 0.9994\n",
      "Epoch 48/100\n",
      "1584/1584 [==============================] - 0s 76us/step - loss: 0.0148 - acc: 0.9987\n",
      "Epoch 49/100\n",
      "1584/1584 [==============================] - 0s 74us/step - loss: 0.0162 - acc: 0.9981\n",
      "Epoch 50/100\n",
      "1584/1584 [==============================] - 0s 64us/step - loss: 0.0189 - acc: 0.9975\n",
      "Epoch 51/100\n",
      "1584/1584 [==============================] - 0s 62us/step - loss: 0.0152 - acc: 0.9987\n",
      "Epoch 52/100\n",
      "1584/1584 [==============================] - 0s 58us/step - loss: 0.0123 - acc: 0.9987\n",
      "Epoch 53/100\n",
      "1584/1584 [==============================] - 0s 83us/step - loss: 0.0123 - acc: 0.9987\n",
      "Epoch 54/100\n",
      "1584/1584 [==============================] - 0s 57us/step - loss: 0.0119 - acc: 0.9981\n",
      "Epoch 55/100\n",
      "1584/1584 [==============================] - 0s 61us/step - loss: 0.0156 - acc: 0.9975\n",
      "Epoch 56/100\n",
      "1584/1584 [==============================] - 0s 78us/step - loss: 0.0156 - acc: 0.9981\n",
      "Epoch 57/100\n",
      "1584/1584 [==============================] - 0s 91us/step - loss: 0.0106 - acc: 0.9987\n",
      "Epoch 58/100\n",
      "1584/1584 [==============================] - 0s 76us/step - loss: 0.0136 - acc: 0.9981\n",
      "Epoch 59/100\n",
      "1584/1584 [==============================] - 0s 66us/step - loss: 0.0128 - acc: 0.9987\n",
      "Epoch 60/100\n",
      "1584/1584 [==============================] - 0s 61us/step - loss: 0.0101 - acc: 0.9994\n",
      "Epoch 61/100\n",
      "1584/1584 [==============================] - 0s 60us/step - loss: 0.0143 - acc: 0.9981\n",
      "Epoch 62/100\n",
      "1584/1584 [==============================] - 0s 70us/step - loss: 0.0269 - acc: 0.9931\n",
      "Epoch 63/100\n",
      "1584/1584 [==============================] - 0s 75us/step - loss: 0.0435 - acc: 0.9886\n",
      "Epoch 64/100\n",
      "1584/1584 [==============================] - 0s 59us/step - loss: 0.0307 - acc: 0.9937\n",
      "Epoch 65/100\n",
      "1584/1584 [==============================] - 0s 67us/step - loss: 0.0201 - acc: 0.9962\n",
      "Epoch 66/100\n",
      "1584/1584 [==============================] - 0s 65us/step - loss: 0.0173 - acc: 0.9962\n",
      "Epoch 67/100\n",
      "1584/1584 [==============================] - 0s 68us/step - loss: 0.0134 - acc: 0.9981\n",
      "Epoch 68/100\n",
      "1584/1584 [==============================] - 0s 64us/step - loss: 0.0100 - acc: 0.9981\n",
      "Epoch 69/100\n",
      "1584/1584 [==============================] - 0s 67us/step - loss: 0.0084 - acc: 0.9975\n",
      "Epoch 70/100\n",
      "1584/1584 [==============================] - 0s 66us/step - loss: 0.0083 - acc: 0.9987\n",
      "Epoch 71/100\n",
      "1584/1584 [==============================] - 0s 52us/step - loss: 0.0079 - acc: 0.9987\n",
      "Epoch 72/100\n",
      "1584/1584 [==============================] - 0s 71us/step - loss: 0.0083 - acc: 0.9981\n",
      "Epoch 73/100\n",
      "1584/1584 [==============================] - 0s 65us/step - loss: 0.0125 - acc: 0.9981\n",
      "Epoch 74/100\n",
      "1584/1584 [==============================] - 0s 64us/step - loss: 0.0072 - acc: 0.9987\n",
      "Epoch 75/100\n",
      "1584/1584 [==============================] - 0s 69us/step - loss: 0.0122 - acc: 0.9981\n",
      "Epoch 76/100\n",
      "1584/1584 [==============================] - 0s 65us/step - loss: 0.0092 - acc: 0.9975\n",
      "Epoch 77/100\n",
      "1584/1584 [==============================] - 0s 71us/step - loss: 0.0055 - acc: 0.9987\n",
      "Epoch 78/100\n",
      "1584/1584 [==============================] - 0s 64us/step - loss: 0.0057 - acc: 0.9994\n",
      "Epoch 79/100\n",
      "1584/1584 [==============================] - 0s 64us/step - loss: 0.0098 - acc: 0.9981\n",
      "Epoch 80/100\n",
      "1584/1584 [==============================] - 0s 59us/step - loss: 0.0065 - acc: 0.9981\n",
      "Epoch 81/100\n",
      "1584/1584 [==============================] - 0s 79us/step - loss: 0.0055 - acc: 0.9994\n",
      "Epoch 82/100\n",
      "1584/1584 [==============================] - 0s 72us/step - loss: 0.0060 - acc: 0.9987\n",
      "Epoch 83/100\n",
      "1584/1584 [==============================] - 0s 59us/step - loss: 0.0061 - acc: 0.9981\n",
      "Epoch 84/100\n",
      "1584/1584 [==============================] - 0s 75us/step - loss: 0.0053 - acc: 0.9987\n",
      "Epoch 85/100\n",
      "1584/1584 [==============================] - 0s 67us/step - loss: 0.0056 - acc: 0.9987\n",
      "Epoch 86/100\n",
      "1584/1584 [==============================] - 0s 66us/step - loss: 0.0063 - acc: 0.9987\n",
      "Epoch 87/100\n",
      "1584/1584 [==============================] - 0s 63us/step - loss: 0.0075 - acc: 0.9987\n",
      "Epoch 88/100\n",
      "1584/1584 [==============================] - 0s 91us/step - loss: 0.0060 - acc: 0.9987\n",
      "Epoch 89/100\n",
      "1584/1584 [==============================] - 0s 54us/step - loss: 0.0073 - acc: 0.9981\n",
      "Epoch 90/100\n",
      "1584/1584 [==============================] - 0s 63us/step - loss: 0.0058 - acc: 0.9987\n",
      "Epoch 91/100\n",
      "1584/1584 [==============================] - 0s 61us/step - loss: 0.0067 - acc: 0.9987\n",
      "Epoch 92/100\n",
      "1584/1584 [==============================] - 0s 74us/step - loss: 0.0072 - acc: 0.9987\n",
      "Epoch 93/100\n",
      "1584/1584 [==============================] - 0s 66us/step - loss: 0.0085 - acc: 0.9987\n",
      "Epoch 94/100\n",
      "1584/1584 [==============================] - 0s 63us/step - loss: 0.0062 - acc: 0.9987\n",
      "Epoch 95/100\n",
      "1584/1584 [==============================] - 0s 74us/step - loss: 0.0064 - acc: 0.9981\n",
      "Epoch 96/100\n",
      "1584/1584 [==============================] - 0s 78us/step - loss: 0.0088 - acc: 0.9975\n",
      "Epoch 97/100\n",
      "1584/1584 [==============================] - 0s 61us/step - loss: 0.0068 - acc: 0.9987\n",
      "Epoch 98/100\n",
      "1584/1584 [==============================] - 0s 64us/step - loss: 0.0151 - acc: 0.9956\n",
      "Epoch 99/100\n",
      "1584/1584 [==============================] - 0s 70us/step - loss: 0.0086 - acc: 0.9987\n",
      "Epoch 100/100\n",
      "1584/1584 [==============================] - 0s 60us/step - loss: 0.0048 - acc: 0.9981\n"
     ]
    }
   ],
   "source": [
    "history = model.fit(X_train,\n",
    "                    y_train,\n",
    "                    epochs=100,\n",
    "                    batch_size=128)"
   ]
  },
  {
   "cell_type": "code",
   "execution_count": 145,
   "metadata": {},
   "outputs": [
    {
     "name": "stdout",
     "output_type": "stream",
     "text": [
      "396/396 [==============================] - 0s 911us/step\n"
     ]
    }
   ],
   "source": [
    "test_loss, test_acc = model.evaluate(X_test,y_test)"
   ]
  },
  {
   "cell_type": "code",
   "execution_count": 146,
   "metadata": {},
   "outputs": [
    {
     "name": "stdout",
     "output_type": "stream",
     "text": [
      "0.8226313362217913 0.840909091511158\n"
     ]
    }
   ],
   "source": [
    "print(test_loss, test_acc)"
   ]
  },
  {
   "cell_type": "code",
   "execution_count": 147,
   "metadata": {},
   "outputs": [],
   "source": [
    "y_pred=model.predict(X_test)"
   ]
  },
  {
   "cell_type": "code",
   "execution_count": 148,
   "metadata": {},
   "outputs": [
    {
     "data": {
      "text/plain": [
       "[<matplotlib.lines.Line2D at 0x7fbe69ca50b8>]"
      ]
     },
     "execution_count": 148,
     "metadata": {},
     "output_type": "execute_result"
    },
    {
     "data": {
      "image/png": "[encoded data removed]",
      "text/plain": [
       "<Figure size 432x288 with 1 Axes>"
      ]
     },
     "metadata": {
      "needs_background": "light"
     },
     "output_type": "display_data"
    }
   ],
   "source": [
    "plt.plot(history.history['loss'])\n",
    "plt.plot(history.history['acc'])"
   ]
  },
  {
   "cell_type": "code",
   "execution_count": 149,
   "metadata": {},
   "outputs": [],
   "source": [
    "from sklearn.metrics import classification_report, confusion_matrix"
   ]
  },
  {
   "cell_type": "code",
   "execution_count": 151,
   "metadata": {},
   "outputs": [
    {
     "data": {
      "text/plain": [
       "array([[30,  0,  4,  0,  0,  0,  1,  0,  1,  0],\n",
       "       [ 0, 45,  0,  0,  0,  2,  0,  0,  0,  1],\n",
       "       [ 0,  1, 39,  1,  0,  1,  0,  0,  1,  4],\n",
       "       [ 0,  0,  1, 22,  3,  0,  1,  1,  1,  2],\n",
       "       [ 0,  0,  0,  2, 30,  0,  0,  4,  3,  1],\n",
       "       [ 0,  0,  0,  0,  0, 32,  0,  0,  0,  0],\n",
       "       [ 0,  0,  0,  0,  1,  1, 34,  0,  1,  2],\n",
       "       [ 0,  0,  1,  0,  0,  0,  0, 38,  3,  1],\n",
       "       [ 0,  0,  0,  0,  4,  1,  0,  2, 29,  1],\n",
       "       [ 1,  0,  0,  3,  1,  4,  0,  0,  0, 34]])"
      ]
     },
     "execution_count": 151,
     "metadata": {},
     "output_type": "execute_result"
    }
   ],
   "source": [
    "Y_pred = np.argmax(y_pred, axis=1)\n",
    "confusion_matrix(y_test, Y_pred)"
   ]
  },
  {
   "cell_type": "code",
   "execution_count": null,
   "metadata": {},
   "outputs": [],
   "source": []
  },
  {
   "cell_type": "code",
   "execution_count": null,
   "metadata": {},
   "outputs": [],
   "source": []
  },
  {
   "cell_type": "code",
   "execution_count": null,
   "metadata": {},
   "outputs": [],
   "source": []
  }
 ],
 "metadata": {
  "kernelspec": {
   "display_name": "Python 3",
   "language": "python",
   "name": "python3"
  },
  "language_info": {
   "codemirror_mode": {
    "name": "ipython",
    "version": 3
   },
   "file_extension": ".py",
   "mimetype": "text/x-python",
   "name": "python",
   "nbconvert_exporter": "python",
   "pygments_lexer": "ipython3",
   "version": "3.6.9"
  }
 },
 "nbformat": 4,
 "nbformat_minor": 4
}
