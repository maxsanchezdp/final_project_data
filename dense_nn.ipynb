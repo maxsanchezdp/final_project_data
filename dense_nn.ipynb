{
 "cells": [
  {
   "cell_type": "code",
   "execution_count": 212,
   "metadata": {},
   "outputs": [],
   "source": [
    "import itertools\n",
    "import pandas as pd\n",
    "import numpy as np\n",
    "import matplotlib.pyplot as plt\n",
    "%matplotlib inline\n",
    "from collections import OrderedDict \n",
    "# Preprocessing\n",
    "from sklearn.model_selection import train_test_split\n",
    "from sklearn.preprocessing import LabelEncoder, StandardScaler\n",
    "\n",
    "#Keras\n",
    "import keras\n",
    "\n",
    "import warnings\n",
    "warnings.filterwarnings('ignore')"
   ]
  },
  {
   "cell_type": "code",
   "execution_count": 2,
   "metadata": {},
   "outputs": [],
   "source": [
    "#Dictionary for genres label encoding:\n",
    "genres = {'blues': 0, 'classical': 1, 'country': 2, 'disco': 3, 'hiphop': 4, \n",
    "          'jazz': 5, 'metal': 6, 'pop': 7, 'reggae': 8, 'rock': 9}"
   ]
  },
  {
   "cell_type": "code",
   "execution_count": 118,
   "metadata": {},
   "outputs": [
    {
     "data": {
      "text/html": [
       "<div>\n",
       "<style scoped>\n",
       "    .dataframe tbody tr th:only-of-type {\n",
       "        vertical-align: middle;\n",
       "    }\n",
       "\n",
       "    .dataframe tbody tr th {\n",
       "        vertical-align: top;\n",
       "    }\n",
       "\n",
       "    .dataframe thead th {\n",
       "        text-align: right;\n",
       "    }\n",
       "</style>\n",
       "<table border=\"1\" class=\"dataframe\">\n",
       "  <thead>\n",
       "    <tr style=\"text-align: right;\">\n",
       "      <th></th>\n",
       "      <th>centroid_mean</th>\n",
       "      <th>centroid_std</th>\n",
       "      <th>chroma_mean</th>\n",
       "      <th>chroma_std</th>\n",
       "      <th>flux_mean</th>\n",
       "      <th>flux_std</th>\n",
       "      <th>genre</th>\n",
       "      <th>mfcc_0_mean</th>\n",
       "      <th>mfcc_0_std</th>\n",
       "      <th>mfcc_10_mean</th>\n",
       "      <th>...</th>\n",
       "      <th>mfcc_8_std</th>\n",
       "      <th>mfcc_9_mean</th>\n",
       "      <th>mfcc_9_std</th>\n",
       "      <th>rmse_mean</th>\n",
       "      <th>rmse_std</th>\n",
       "      <th>roloff_mean</th>\n",
       "      <th>roloff_std</th>\n",
       "      <th>tempo</th>\n",
       "      <th>zcr_mean</th>\n",
       "      <th>zcr_std</th>\n",
       "    </tr>\n",
       "  </thead>\n",
       "  <tbody>\n",
       "    <tr>\n",
       "      <th>0</th>\n",
       "      <td>888.192767</td>\n",
       "      <td>379.074067</td>\n",
       "      <td>0.525691</td>\n",
       "      <td>0.295343</td>\n",
       "      <td>1.557968</td>\n",
       "      <td>1.675129</td>\n",
       "      <td>0</td>\n",
       "      <td>-298.866425</td>\n",
       "      <td>55.572163</td>\n",
       "      <td>-1.312751</td>\n",
       "      <td>...</td>\n",
       "      <td>10.512544</td>\n",
       "      <td>4.846227</td>\n",
       "      <td>12.137277</td>\n",
       "      <td>0.118639</td>\n",
       "      <td>0.061269</td>\n",
       "      <td>1770.389295</td>\n",
       "      <td>1010.104647</td>\n",
       "      <td>172.265625</td>\n",
       "      <td>0.029214</td>\n",
       "      <td>0.015715</td>\n",
       "    </tr>\n",
       "    <tr>\n",
       "      <th>1</th>\n",
       "      <td>1001.220509</td>\n",
       "      <td>363.289566</td>\n",
       "      <td>0.497065</td>\n",
       "      <td>0.294911</td>\n",
       "      <td>1.479048</td>\n",
       "      <td>1.466835</td>\n",
       "      <td>0</td>\n",
       "      <td>-239.033478</td>\n",
       "      <td>48.344673</td>\n",
       "      <td>-6.611788</td>\n",
       "      <td>...</td>\n",
       "      <td>8.462409</td>\n",
       "      <td>2.155131</td>\n",
       "      <td>8.355743</td>\n",
       "      <td>0.160613</td>\n",
       "      <td>0.060511</td>\n",
       "      <td>2055.339246</td>\n",
       "      <td>1014.663475</td>\n",
       "      <td>172.265625</td>\n",
       "      <td>0.034871</td>\n",
       "      <td>0.015003</td>\n",
       "    </tr>\n",
       "    <tr>\n",
       "      <th>2</th>\n",
       "      <td>846.548114</td>\n",
       "      <td>618.517730</td>\n",
       "      <td>0.576510</td>\n",
       "      <td>0.270677</td>\n",
       "      <td>1.633401</td>\n",
       "      <td>2.636701</td>\n",
       "      <td>0</td>\n",
       "      <td>-317.237152</td>\n",
       "      <td>81.588196</td>\n",
       "      <td>-1.960779</td>\n",
       "      <td>...</td>\n",
       "      <td>10.031506</td>\n",
       "      <td>9.536193</td>\n",
       "      <td>8.848726</td>\n",
       "      <td>0.102250</td>\n",
       "      <td>0.037121</td>\n",
       "      <td>1625.756836</td>\n",
       "      <td>1435.688964</td>\n",
       "      <td>123.046875</td>\n",
       "      <td>0.032692</td>\n",
       "      <td>0.029412</td>\n",
       "    </tr>\n",
       "    <tr>\n",
       "      <th>3</th>\n",
       "      <td>973.959994</td>\n",
       "      <td>609.317788</td>\n",
       "      <td>0.564331</td>\n",
       "      <td>0.271416</td>\n",
       "      <td>1.451815</td>\n",
       "      <td>2.326623</td>\n",
       "      <td>0</td>\n",
       "      <td>-300.514404</td>\n",
       "      <td>92.136734</td>\n",
       "      <td>-2.918866</td>\n",
       "      <td>...</td>\n",
       "      <td>10.758454</td>\n",
       "      <td>11.795238</td>\n",
       "      <td>10.521724</td>\n",
       "      <td>0.094613</td>\n",
       "      <td>0.039514</td>\n",
       "      <td>1878.647167</td>\n",
       "      <td>1368.791028</td>\n",
       "      <td>129.199219</td>\n",
       "      <td>0.039325</td>\n",
       "      <td>0.030719</td>\n",
       "    </tr>\n",
       "    <tr>\n",
       "      <th>4</th>\n",
       "      <td>1101.462315</td>\n",
       "      <td>365.249696</td>\n",
       "      <td>0.379367</td>\n",
       "      <td>0.298470</td>\n",
       "      <td>1.422705</td>\n",
       "      <td>1.567510</td>\n",
       "      <td>0</td>\n",
       "      <td>-290.625641</td>\n",
       "      <td>67.902252</td>\n",
       "      <td>-7.053016</td>\n",
       "      <td>...</td>\n",
       "      <td>9.873894</td>\n",
       "      <td>-5.429997</td>\n",
       "      <td>10.567539</td>\n",
       "      <td>0.112067</td>\n",
       "      <td>0.066417</td>\n",
       "      <td>2234.553155</td>\n",
       "      <td>871.327336</td>\n",
       "      <td>95.703125</td>\n",
       "      <td>0.050290</td>\n",
       "      <td>0.033235</td>\n",
       "    </tr>\n",
       "  </tbody>\n",
       "</table>\n",
       "<p>5 rows × 40 columns</p>\n",
       "</div>"
      ],
      "text/plain": [
       "   centroid_mean  centroid_std  chroma_mean  chroma_std  flux_mean  flux_std  \\\n",
       "0     888.192767    379.074067     0.525691    0.295343   1.557968  1.675129   \n",
       "1    1001.220509    363.289566     0.497065    0.294911   1.479048  1.466835   \n",
       "2     846.548114    618.517730     0.576510    0.270677   1.633401  2.636701   \n",
       "3     973.959994    609.317788     0.564331    0.271416   1.451815  2.326623   \n",
       "4    1101.462315    365.249696     0.379367    0.298470   1.422705  1.567510   \n",
       "\n",
       "   genre  mfcc_0_mean  mfcc_0_std  mfcc_10_mean  ...  mfcc_8_std  mfcc_9_mean  \\\n",
       "0      0  -298.866425   55.572163     -1.312751  ...   10.512544     4.846227   \n",
       "1      0  -239.033478   48.344673     -6.611788  ...    8.462409     2.155131   \n",
       "2      0  -317.237152   81.588196     -1.960779  ...   10.031506     9.536193   \n",
       "3      0  -300.514404   92.136734     -2.918866  ...   10.758454    11.795238   \n",
       "4      0  -290.625641   67.902252     -7.053016  ...    9.873894    -5.429997   \n",
       "\n",
       "   mfcc_9_std  rmse_mean  rmse_std  roloff_mean   roloff_std       tempo  \\\n",
       "0   12.137277   0.118639  0.061269  1770.389295  1010.104647  172.265625   \n",
       "1    8.355743   0.160613  0.060511  2055.339246  1014.663475  172.265625   \n",
       "2    8.848726   0.102250  0.037121  1625.756836  1435.688964  123.046875   \n",
       "3   10.521724   0.094613  0.039514  1878.647167  1368.791028  129.199219   \n",
       "4   10.567539   0.112067  0.066417  2234.553155   871.327336   95.703125   \n",
       "\n",
       "   zcr_mean   zcr_std  \n",
       "0  0.029214  0.015715  \n",
       "1  0.034871  0.015003  \n",
       "2  0.032692  0.029412  \n",
       "3  0.039325  0.030719  \n",
       "4  0.050290  0.033235  \n",
       "\n",
       "[5 rows x 40 columns]"
      ]
     },
     "execution_count": 118,
     "metadata": {},
     "output_type": "execute_result"
    }
   ],
   "source": [
    "data=pd.read_csv(\"./Features/features2.csv\")\n",
    "data.head()"
   ]
  },
  {
   "cell_type": "code",
   "execution_count": 119,
   "metadata": {},
   "outputs": [],
   "source": [
    "X=data.drop('genre',axis=1)"
   ]
  },
  {
   "cell_type": "code",
   "execution_count": 120,
   "metadata": {},
   "outputs": [],
   "source": [
    "y=data.genre"
   ]
  },
  {
   "cell_type": "code",
   "execution_count": 121,
   "metadata": {},
   "outputs": [],
   "source": [
    "scaled_features = StandardScaler().fit_transform(X.values)\n",
    "X = pd.DataFrame(scaled_features, index=X.index, columns=X.columns)\n"
   ]
  },
  {
   "cell_type": "code",
   "execution_count": 239,
   "metadata": {},
   "outputs": [],
   "source": [
    "X_train, X_test, y_train, y_test = train_test_split(X, y, test_size=0.2, random_state=42)"
   ]
  },
  {
   "cell_type": "code",
   "execution_count": 240,
   "metadata": {},
   "outputs": [
    {
     "data": {
      "text/plain": [
       "(1584, 39)"
      ]
     },
     "execution_count": 240,
     "metadata": {},
     "output_type": "execute_result"
    }
   ],
   "source": [
    "X_train.shape"
   ]
  },
  {
   "cell_type": "code",
   "execution_count": 241,
   "metadata": {},
   "outputs": [],
   "source": [
    "from keras import models\n",
    "from keras import layers\n",
    "\n",
    "model = models.Sequential()\n",
    "model.add(layers.Dense(256, activation='relu', input_shape=(X_train.shape[1],)))\n",
    "\n",
    "model.add(layers.Dense(128, activation='relu'))\n",
    "\n",
    "model.add(layers.Dense(64, activation='relu'))\n",
    "\n",
    "model.add(layers.Dense(10, activation='softmax'))"
   ]
  },
  {
   "cell_type": "code",
   "execution_count": 242,
   "metadata": {},
   "outputs": [],
   "source": [
    "model.compile(optimizer='adam',\n",
    "              loss='sparse_categorical_crossentropy',\n",
    "              metrics=['accuracy'])"
   ]
  },
  {
   "cell_type": "code",
   "execution_count": 243,
   "metadata": {},
   "outputs": [
    {
     "name": "stdout",
     "output_type": "stream",
     "text": [
      "Train on 1425 samples, validate on 159 samples\n",
      "Epoch 1/50\n",
      "1425/1425 [==============================] - 4s 3ms/step - loss: 2.0656 - acc: 0.2968 - val_loss: 1.6174 - val_acc: 0.5220\n",
      "Epoch 2/50\n",
      "1425/1425 [==============================] - 0s 105us/step - loss: 1.4785 - acc: 0.4884 - val_loss: 1.2463 - val_acc: 0.5472\n",
      "Epoch 3/50\n",
      "1425/1425 [==============================] - 0s 69us/step - loss: 1.1552 - acc: 0.6182 - val_loss: 1.0532 - val_acc: 0.6415\n",
      "Epoch 4/50\n",
      "1425/1425 [==============================] - 0s 69us/step - loss: 0.9490 - acc: 0.6744 - val_loss: 0.9545 - val_acc: 0.6730\n",
      "Epoch 5/50\n",
      "1425/1425 [==============================] - 0s 85us/step - loss: 0.8293 - acc: 0.7102 - val_loss: 0.9117 - val_acc: 0.7107\n",
      "Epoch 6/50\n",
      "1425/1425 [==============================] - 0s 76us/step - loss: 0.7585 - acc: 0.7474 - val_loss: 0.9195 - val_acc: 0.6604\n",
      "Epoch 7/50\n",
      "1425/1425 [==============================] - 0s 68us/step - loss: 0.6735 - acc: 0.7782 - val_loss: 0.8270 - val_acc: 0.7170\n",
      "Epoch 8/50\n",
      "1425/1425 [==============================] - 0s 77us/step - loss: 0.6172 - acc: 0.7895 - val_loss: 0.8254 - val_acc: 0.7296\n",
      "Epoch 9/50\n",
      "1425/1425 [==============================] - 0s 83us/step - loss: 0.5692 - acc: 0.8133 - val_loss: 0.8464 - val_acc: 0.7233\n",
      "Epoch 10/50\n",
      "1425/1425 [==============================] - 0s 80us/step - loss: 0.5249 - acc: 0.8225 - val_loss: 0.7714 - val_acc: 0.7484\n",
      "Epoch 11/50\n",
      "1425/1425 [==============================] - 0s 77us/step - loss: 0.4703 - acc: 0.8526 - val_loss: 0.7257 - val_acc: 0.7862\n",
      "Epoch 12/50\n",
      "1425/1425 [==============================] - 0s 69us/step - loss: 0.4373 - acc: 0.8709 - val_loss: 0.7550 - val_acc: 0.7736\n",
      "Epoch 13/50\n",
      "1425/1425 [==============================] - 0s 87us/step - loss: 0.4004 - acc: 0.8758 - val_loss: 0.7348 - val_acc: 0.7925\n",
      "Epoch 14/50\n",
      "1425/1425 [==============================] - 0s 94us/step - loss: 0.3688 - acc: 0.8940 - val_loss: 0.6953 - val_acc: 0.7925\n",
      "Epoch 15/50\n",
      "1425/1425 [==============================] - 0s 85us/step - loss: 0.3381 - acc: 0.8989 - val_loss: 0.7114 - val_acc: 0.7799\n",
      "Epoch 16/50\n",
      "1425/1425 [==============================] - 0s 64us/step - loss: 0.3245 - acc: 0.9081 - val_loss: 0.6895 - val_acc: 0.7925\n",
      "Epoch 17/50\n",
      "1425/1425 [==============================] - 0s 81us/step - loss: 0.2895 - acc: 0.9207 - val_loss: 0.6987 - val_acc: 0.8113\n",
      "Epoch 18/50\n",
      "1425/1425 [==============================] - 0s 77us/step - loss: 0.2708 - acc: 0.9333 - val_loss: 0.6489 - val_acc: 0.7925\n",
      "Epoch 19/50\n",
      "1425/1425 [==============================] - 0s 77us/step - loss: 0.2588 - acc: 0.9382 - val_loss: 0.6968 - val_acc: 0.7987\n",
      "Epoch 20/50\n",
      "1425/1425 [==============================] - 0s 79us/step - loss: 0.2352 - acc: 0.9368 - val_loss: 0.6853 - val_acc: 0.7987\n",
      "Epoch 21/50\n",
      "1425/1425 [==============================] - 0s 77us/step - loss: 0.2387 - acc: 0.9361 - val_loss: 0.6505 - val_acc: 0.7799\n",
      "Epoch 22/50\n",
      "1425/1425 [==============================] - 0s 88us/step - loss: 0.2152 - acc: 0.9516 - val_loss: 0.6233 - val_acc: 0.8113\n",
      "Epoch 23/50\n",
      "1425/1425 [==============================] - 0s 74us/step - loss: 0.1945 - acc: 0.9586 - val_loss: 0.6422 - val_acc: 0.8113\n",
      "Epoch 24/50\n",
      "1425/1425 [==============================] - 0s 84us/step - loss: 0.1837 - acc: 0.9600 - val_loss: 0.6271 - val_acc: 0.8050\n",
      "Epoch 25/50\n",
      "1425/1425 [==============================] - 0s 82us/step - loss: 0.1651 - acc: 0.9740 - val_loss: 0.6899 - val_acc: 0.7987\n",
      "Epoch 26/50\n",
      "1425/1425 [==============================] - 0s 79us/step - loss: 0.1539 - acc: 0.9719 - val_loss: 0.6428 - val_acc: 0.8050\n",
      "Epoch 27/50\n",
      "1425/1425 [==============================] - 0s 74us/step - loss: 0.1468 - acc: 0.9747 - val_loss: 0.5987 - val_acc: 0.7987\n",
      "Epoch 28/50\n",
      "1425/1425 [==============================] - 0s 70us/step - loss: 0.1279 - acc: 0.9775 - val_loss: 0.6414 - val_acc: 0.8050\n",
      "Epoch 29/50\n",
      "1425/1425 [==============================] - 0s 83us/step - loss: 0.1115 - acc: 0.9818 - val_loss: 0.6489 - val_acc: 0.8050\n",
      "Epoch 30/50\n",
      "1425/1425 [==============================] - 0s 83us/step - loss: 0.1065 - acc: 0.9853 - val_loss: 0.6131 - val_acc: 0.8050\n",
      "Epoch 31/50\n",
      "1425/1425 [==============================] - 0s 84us/step - loss: 0.1051 - acc: 0.9818 - val_loss: 0.6306 - val_acc: 0.7862\n",
      "Epoch 32/50\n",
      "1425/1425 [==============================] - 0s 76us/step - loss: 0.0902 - acc: 0.9902 - val_loss: 0.6199 - val_acc: 0.8302\n",
      "Epoch 33/50\n",
      "1425/1425 [==============================] - 0s 81us/step - loss: 0.0832 - acc: 0.9888 - val_loss: 0.6639 - val_acc: 0.8050\n",
      "Epoch 34/50\n",
      "1425/1425 [==============================] - 0s 87us/step - loss: 0.0742 - acc: 0.9888 - val_loss: 0.5968 - val_acc: 0.8176\n",
      "Epoch 35/50\n",
      "1425/1425 [==============================] - 0s 70us/step - loss: 0.0668 - acc: 0.9923 - val_loss: 0.6262 - val_acc: 0.8176\n",
      "Epoch 36/50\n",
      "1425/1425 [==============================] - 0s 87us/step - loss: 0.0623 - acc: 0.9916 - val_loss: 0.5719 - val_acc: 0.8176\n",
      "Epoch 37/50\n",
      "1425/1425 [==============================] - 0s 83us/step - loss: 0.0623 - acc: 0.9923 - val_loss: 0.6502 - val_acc: 0.8113\n",
      "Epoch 38/50\n",
      "1425/1425 [==============================] - 0s 79us/step - loss: 0.0786 - acc: 0.9860 - val_loss: 0.6293 - val_acc: 0.8239\n",
      "Epoch 39/50\n",
      "1425/1425 [==============================] - 0s 77us/step - loss: 0.0643 - acc: 0.9923 - val_loss: 0.6631 - val_acc: 0.8176\n",
      "Epoch 40/50\n",
      "1425/1425 [==============================] - 0s 76us/step - loss: 0.0506 - acc: 0.9951 - val_loss: 0.6000 - val_acc: 0.8113\n",
      "Epoch 41/50\n",
      "1425/1425 [==============================] - 0s 91us/step - loss: 0.0444 - acc: 0.9958 - val_loss: 0.6480 - val_acc: 0.8113\n",
      "Epoch 42/50\n",
      "1425/1425 [==============================] - 0s 103us/step - loss: 0.0389 - acc: 0.9972 - val_loss: 0.6036 - val_acc: 0.8239\n",
      "Epoch 43/50\n",
      "1425/1425 [==============================] - 0s 73us/step - loss: 0.0414 - acc: 0.9944 - val_loss: 0.6200 - val_acc: 0.8239\n",
      "Epoch 44/50\n",
      "1425/1425 [==============================] - 0s 128us/step - loss: 0.0370 - acc: 0.9965 - val_loss: 0.6075 - val_acc: 0.8239\n",
      "Epoch 45/50\n",
      "1425/1425 [==============================] - 0s 80us/step - loss: 0.0317 - acc: 0.9979 - val_loss: 0.6786 - val_acc: 0.8113\n",
      "Epoch 46/50\n",
      "1425/1425 [==============================] - 0s 94us/step - loss: 0.0301 - acc: 0.9979 - val_loss: 0.6888 - val_acc: 0.8176\n",
      "Epoch 47/50\n",
      "1425/1425 [==============================] - 0s 97us/step - loss: 0.0421 - acc: 0.9930 - val_loss: 0.6373 - val_acc: 0.8176\n",
      "Epoch 48/50\n",
      "1425/1425 [==============================] - 0s 83us/step - loss: 0.0292 - acc: 0.9965 - val_loss: 0.6540 - val_acc: 0.8176\n",
      "Epoch 49/50\n",
      "1425/1425 [==============================] - 0s 108us/step - loss: 0.0322 - acc: 0.9965 - val_loss: 0.6028 - val_acc: 0.8176\n",
      "Epoch 50/50\n",
      "1425/1425 [==============================] - 0s 94us/step - loss: 0.0283 - acc: 0.9979 - val_loss: 0.7031 - val_acc: 0.7987\n"
     ]
    }
   ],
   "source": [
    "history = model.fit(X_train,\n",
    "                    y_train,\n",
    "                    epochs=50,\n",
    "                    batch_size=128,validation_split=0.1)"
   ]
  },
  {
   "cell_type": "code",
   "execution_count": 244,
   "metadata": {},
   "outputs": [
    {
     "name": "stdout",
     "output_type": "stream",
     "text": [
      "396/396 [==============================] - 0s 152us/step\n"
     ]
    }
   ],
   "source": [
    "test_loss, test_acc = model.evaluate(X_test,y_test)"
   ]
  },
  {
   "cell_type": "code",
   "execution_count": 245,
   "metadata": {},
   "outputs": [
    {
     "name": "stdout",
     "output_type": "stream",
     "text": [
      "0.6193950236445726 0.840909091511158\n"
     ]
    }
   ],
   "source": [
    "print(test_loss, test_acc)"
   ]
  },
  {
   "cell_type": "code",
   "execution_count": 246,
   "metadata": {},
   "outputs": [],
   "source": [
    "y_pred=model.predict(X_test)"
   ]
  },
  {
   "cell_type": "code",
   "execution_count": 247,
   "metadata": {},
   "outputs": [
    {
     "data": {
      "image/png": "[encoded data removed]",
      "text/plain": [
       "<Figure size 1080x504 with 2 Axes>"
      ]
     },
     "metadata": {
      "needs_background": "light"
     },
     "output_type": "display_data"
    }
   ],
   "source": [
    "plt.figure(figsize=(15,7))\n",
    "\n",
    "plt.subplot(1,2,1)\n",
    "plt.plot(history.history['acc'], label='train')\n",
    "plt.plot(history.history['val_acc'], label='validation')\n",
    "plt.title('Accuracy')\n",
    "plt.xlabel('Epochs')\n",
    "plt.ylabel('Accuracy')\n",
    "plt.legend()\n",
    "\n",
    "plt.subplot(1,2,2)\n",
    "plt.plot(history.history['loss'], label='train')\n",
    "plt.plot(history.history['val_loss'], label='validation')\n",
    "plt.title('Loss')\n",
    "plt.xlabel('Epochs')\n",
    "plt.ylabel('Loss')\n",
    "plt.legend()\n",
    "\n",
    "plt.tight_layout()\n",
    "plt.show()"
   ]
  },
  {
   "cell_type": "code",
   "execution_count": 259,
   "metadata": {},
   "outputs": [],
   "source": [
    "#http://scikit-learn.org/stable/auto_examples/model_selection/plot_confusion_matrix.html\n",
    "def plot_confusion_matrix(cm, classes,\n",
    "                          normalize=False,\n",
    "                          title='Confusion matrix',\n",
    "                          cmap=plt.cm.Blues):\n",
    "    \"\"\"\n",
    "    This function prints and plots the confusion matrix.\n",
    "    Normalization can be applied by setting `normalize=True`.\n",
    "    \"\"\"\n",
    "    if normalize:\n",
    "        cm = cm.astype('float') / cm.sum(axis=1)[:, np.newaxis]\n",
    "        print(\"Normalized confusion matrix\")\n",
    "    else:\n",
    "        print('Confusion matrix, without normalization')\n",
    "\n",
    "    plt.imshow(cm, interpolation='nearest', cmap=cmap)\n",
    "    plt.title(title)\n",
    "    plt.colorbar()\n",
    "    tick_marks = np.arange(len(classes))\n",
    "    plt.xticks(tick_marks, classes, rotation=45)\n",
    "    plt.yticks(tick_marks, classes)\n",
    "\n",
    "    fmt = '.2f' if normalize else 'd'\n",
    "    thresh = cm.max() / 2.\n",
    "    for i, j in itertools.product(range(cm.shape[0]), range(cm.shape[1])):\n",
    "        plt.text(j, i, format(cm[i, j], fmt),\n",
    "                 horizontalalignment=\"center\",\n",
    "                 color=\"white\" if cm[i, j] > thresh else \"black\")\n",
    "\n",
    "    plt.tight_layout()\n",
    "    plt.ylabel('True label')\n",
    "    plt.xlabel('Predicted label')"
   ]
  },
  {
   "cell_type": "code",
   "execution_count": 260,
   "metadata": {},
   "outputs": [
    {
     "name": "stdout",
     "output_type": "stream",
     "text": [
      "Confusion matrix, without normalization\n"
     ]
    },
    {
     "data": {
      "image/png": "[encoded data removed]",
      "text/plain": [
       "<Figure size 576x576 with 2 Axes>"
      ]
     },
     "metadata": {
      "needs_background": "light"
     },
     "output_type": "display_data"
    }
   ],
   "source": [
    "preds = np.argmax(model.predict(X_test), axis = 1)\n",
    "cm = confusion_matrix(preds,y_test)\n",
    "keys = OrderedDict(sorted(genres.items(), key=lambda t: t[1])).keys()\n",
    "\n",
    "plt.figure(figsize=(8,8))\n",
    "plot_confusion_matrix(cm, keys, normalize=False)"
   ]
  },
  {
   "cell_type": "code",
   "execution_count": null,
   "metadata": {},
   "outputs": [],
   "source": []
  }
 ],
 "metadata": {
  "kernelspec": {
   "display_name": "Python 3",
   "language": "python",
   "name": "python3"
  },
  "language_info": {
   "codemirror_mode": {
    "name": "ipython",
    "version": 3
   },
   "file_extension": ".py",
   "mimetype": "text/x-python",
   "name": "python",
   "nbconvert_exporter": "python",
   "pygments_lexer": "ipython3",
   "version": "3.6.9"
  }
 },
 "nbformat": 4,
 "nbformat_minor": 4
}
