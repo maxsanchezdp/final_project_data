{
 "cells": [
  {
   "cell_type": "code",
   "execution_count": 12,
   "metadata": {},
   "outputs": [],
   "source": [
    "import itertools\n",
    "import pandas as pd\n",
    "import numpy as np\n",
    "import matplotlib.pyplot as plt\n",
    "%matplotlib inline\n",
    "from collections import OrderedDict \n",
    "# Preprocessing\n",
    "from sklearn.model_selection import train_test_split\n",
    "from sklearn.preprocessing import LabelEncoder, StandardScaler\n",
    "\n",
    "#Keras\n",
    "import keras\n",
    "\n",
    "import warnings\n",
    "warnings.filterwarnings('ignore')"
   ]
  },
  {
   "cell_type": "code",
   "execution_count": 47,
   "metadata": {},
   "outputs": [],
   "source": [
    "#Dictionary for genres label encoding:\n",
    "genres = {'blues': 0, 'classical': 1, 'country': 2, 'disco': 3, 'hiphop': 4, \n",
    "          'jazz': 5, 'metal': 6, 'pop': 7, 'reggae': 8, 'rock': 9}"
   ]
  },
  {
   "cell_type": "code",
   "execution_count": 48,
   "metadata": {},
   "outputs": [],
   "source": [
    "#cargo csvs:\n",
    "data=pd.read_csv(\"./Features/features3.csv\")#training data\n",
    "t1data=pd.read_csv(\"./Features/features_test_1.csv\")#test songs 1 row\n",
    "t2data=pd.read_csv(\"./Features/features_test_2.csv\")#test songs 2 rows\n"
   ]
  },
  {
   "cell_type": "code",
   "execution_count": 49,
   "metadata": {},
   "outputs": [],
   "source": [
    "X=data.drop('genre',axis=1)\n",
    "Xt1=t1data.drop('genre',axis=1)\n",
    "Xt2=t2data.drop('genre',axis=1)"
   ]
  },
  {
   "cell_type": "code",
   "execution_count": 50,
   "metadata": {},
   "outputs": [],
   "source": [
    "y=data.genre\n",
    "yt1=t1data.genre\n",
    "yt2=t2data.genre\n"
   ]
  },
  {
   "cell_type": "code",
   "execution_count": 51,
   "metadata": {},
   "outputs": [],
   "source": [
    "scaled_features = StandardScaler().fit_transform(X.values)\n",
    "sc1=StandardScaler().fit_transform(Xt1.values)\n",
    "sc2=StandardScaler().fit_transform(Xt2.values)\n",
    "\n",
    "X = pd.DataFrame(scaled_features, index=X.index, columns=X.columns)\n",
    "Xt1=pd.DataFrame(sc1, index=Xt1.index, columns=Xt1.columns)\n",
    "Xt2=pd.DataFrame(sc2, index=Xt2.index, columns=Xt2.columns)\n"
   ]
  },
  {
   "cell_type": "code",
   "execution_count": 52,
   "metadata": {},
   "outputs": [
    {
     "data": {
      "text/plain": [
       "(2970, 39)"
      ]
     },
     "execution_count": 52,
     "metadata": {},
     "output_type": "execute_result"
    }
   ],
   "source": [
    "X.shape"
   ]
  },
  {
   "cell_type": "code",
   "execution_count": 53,
   "metadata": {},
   "outputs": [],
   "source": [
    "X_train, X_test, y_train, y_test = train_test_split(X, y, test_size=0.2, random_state=42)"
   ]
  },
  {
   "cell_type": "code",
   "execution_count": 54,
   "metadata": {},
   "outputs": [],
   "source": [
    "from keras import models\n",
    "from keras import layers\n",
    "\n",
    "model1 = models.Sequential()\n",
    "\n",
    "model1.add(layers.Dense(256, activation='relu', input_shape=(X_train.shape[1],)))\n",
    "model1.add(layers.Dropout(rate=0.25, noise_shape=None, seed=None))\n",
    "model1.add(layers.Dense(128, activation='relu'))\n",
    "model1.add(layers.Dropout(rate=0.25, noise_shape=None, seed=None))\n",
    "model1.add(layers.Dense(64, activation='relu'))\n",
    "model1.add(layers.Dropout(rate=0.25, noise_shape=None, seed=None))\n",
    "model1.add(layers.Dense(10, activation='softmax'))"
   ]
  },
  {
   "cell_type": "code",
   "execution_count": 55,
   "metadata": {},
   "outputs": [],
   "source": [
    "#Try with 'rmsprop' optimizer\n",
    "model1.compile(optimizer='adam',\n",
    "              loss='sparse_categorical_crossentropy',\n",
    "              metrics=['accuracy'])"
   ]
  },
  {
   "cell_type": "code",
   "execution_count": 56,
   "metadata": {},
   "outputs": [
    {
     "name": "stdout",
     "output_type": "stream",
     "text": [
      "Train on 2138 samples, validate on 238 samples\n",
      "Epoch 1/50\n",
      "2138/2138 [==============================] - 4s 2ms/step - loss: 2.0589 - acc: 0.2615 - val_loss: 1.7733 - val_acc: 0.3571\n",
      "Epoch 2/50\n",
      "2138/2138 [==============================] - 0s 71us/step - loss: 1.6089 - acc: 0.4210 - val_loss: 1.4259 - val_acc: 0.4790\n",
      "Epoch 3/50\n",
      "2138/2138 [==============================] - 0s 77us/step - loss: 1.4006 - acc: 0.4986 - val_loss: 1.2207 - val_acc: 0.5420\n",
      "Epoch 4/50\n",
      "2138/2138 [==============================] - 0s 80us/step - loss: 1.2378 - acc: 0.5650 - val_loss: 1.0758 - val_acc: 0.6429\n",
      "Epoch 5/50\n",
      "2138/2138 [==============================] - 0s 68us/step - loss: 1.1199 - acc: 0.6151 - val_loss: 0.9733 - val_acc: 0.6429\n",
      "Epoch 6/50\n",
      "2138/2138 [==============================] - 0s 64us/step - loss: 1.0499 - acc: 0.6155 - val_loss: 0.8940 - val_acc: 0.6933\n",
      "Epoch 7/50\n",
      "2138/2138 [==============================] - 0s 73us/step - loss: 0.9922 - acc: 0.6618 - val_loss: 0.8413 - val_acc: 0.7017\n",
      "Epoch 8/50\n",
      "2138/2138 [==============================] - 0s 67us/step - loss: 0.9120 - acc: 0.6805 - val_loss: 0.7970 - val_acc: 0.7311\n",
      "Epoch 9/50\n",
      "2138/2138 [==============================] - 0s 77us/step - loss: 0.8444 - acc: 0.7170 - val_loss: 0.7496 - val_acc: 0.7353\n",
      "Epoch 10/50\n",
      "2138/2138 [==============================] - 0s 80us/step - loss: 0.8488 - acc: 0.7035 - val_loss: 0.7325 - val_acc: 0.7689\n",
      "Epoch 11/50\n",
      "2138/2138 [==============================] - 0s 79us/step - loss: 0.7858 - acc: 0.7283 - val_loss: 0.6942 - val_acc: 0.7563\n",
      "Epoch 12/50\n",
      "2138/2138 [==============================] - 0s 79us/step - loss: 0.7661 - acc: 0.7395 - val_loss: 0.6666 - val_acc: 0.7773\n",
      "Epoch 13/50\n",
      "2138/2138 [==============================] - 0s 75us/step - loss: 0.7250 - acc: 0.7544 - val_loss: 0.6515 - val_acc: 0.7731\n",
      "Epoch 14/50\n",
      "2138/2138 [==============================] - 0s 81us/step - loss: 0.6956 - acc: 0.7577 - val_loss: 0.6370 - val_acc: 0.7689\n",
      "Epoch 15/50\n",
      "2138/2138 [==============================] - 0s 76us/step - loss: 0.6638 - acc: 0.7783 - val_loss: 0.6136 - val_acc: 0.8025\n",
      "Epoch 16/50\n",
      "2138/2138 [==============================] - 0s 72us/step - loss: 0.6503 - acc: 0.7764 - val_loss: 0.6113 - val_acc: 0.7731\n",
      "Epoch 17/50\n",
      "2138/2138 [==============================] - 0s 78us/step - loss: 0.6296 - acc: 0.7788 - val_loss: 0.6196 - val_acc: 0.7815\n",
      "Epoch 18/50\n",
      "2138/2138 [==============================] - 0s 80us/step - loss: 0.5956 - acc: 0.7975 - val_loss: 0.5968 - val_acc: 0.7857\n",
      "Epoch 19/50\n",
      "2138/2138 [==============================] - 0s 82us/step - loss: 0.5766 - acc: 0.8017 - val_loss: 0.5840 - val_acc: 0.8025\n",
      "Epoch 20/50\n",
      "2138/2138 [==============================] - 0s 80us/step - loss: 0.5605 - acc: 0.8064 - val_loss: 0.5658 - val_acc: 0.8025\n",
      "Epoch 21/50\n",
      "2138/2138 [==============================] - 0s 78us/step - loss: 0.5374 - acc: 0.8134 - val_loss: 0.5486 - val_acc: 0.8067\n",
      "Epoch 22/50\n",
      "2138/2138 [==============================] - 0s 78us/step - loss: 0.5371 - acc: 0.8251 - val_loss: 0.5584 - val_acc: 0.8067\n",
      "Epoch 23/50\n",
      "2138/2138 [==============================] - 0s 80us/step - loss: 0.5297 - acc: 0.8223 - val_loss: 0.5992 - val_acc: 0.7899\n",
      "Epoch 24/50\n",
      "2138/2138 [==============================] - 0s 97us/step - loss: 0.5155 - acc: 0.8246 - val_loss: 0.5455 - val_acc: 0.8277\n",
      "Epoch 25/50\n",
      "2138/2138 [==============================] - 0s 95us/step - loss: 0.4768 - acc: 0.8358 - val_loss: 0.5199 - val_acc: 0.8277\n",
      "Epoch 26/50\n",
      "2138/2138 [==============================] - 0s 93us/step - loss: 0.4790 - acc: 0.8326 - val_loss: 0.5150 - val_acc: 0.8151\n",
      "Epoch 27/50\n",
      "2138/2138 [==============================] - 0s 99us/step - loss: 0.4610 - acc: 0.8386 - val_loss: 0.5443 - val_acc: 0.7899\n",
      "Epoch 28/50\n",
      "2138/2138 [==============================] - 0s 100us/step - loss: 0.4493 - acc: 0.8508 - val_loss: 0.5114 - val_acc: 0.8151\n",
      "Epoch 29/50\n",
      "2138/2138 [==============================] - 0s 99us/step - loss: 0.4379 - acc: 0.8569 - val_loss: 0.5196 - val_acc: 0.8193\n",
      "Epoch 30/50\n",
      "2138/2138 [==============================] - 0s 93us/step - loss: 0.4035 - acc: 0.8634 - val_loss: 0.5091 - val_acc: 0.8025\n",
      "Epoch 31/50\n",
      "2138/2138 [==============================] - 0s 106us/step - loss: 0.4260 - acc: 0.8616 - val_loss: 0.5164 - val_acc: 0.8109\n",
      "Epoch 32/50\n",
      "2138/2138 [==============================] - 0s 97us/step - loss: 0.4056 - acc: 0.8597 - val_loss: 0.4972 - val_acc: 0.8319\n",
      "Epoch 33/50\n",
      "2138/2138 [==============================] - 0s 85us/step - loss: 0.3935 - acc: 0.8634 - val_loss: 0.4932 - val_acc: 0.8319\n",
      "Epoch 34/50\n",
      "2138/2138 [==============================] - 0s 84us/step - loss: 0.3761 - acc: 0.8690 - val_loss: 0.4810 - val_acc: 0.8361\n",
      "Epoch 35/50\n",
      "2138/2138 [==============================] - 0s 78us/step - loss: 0.3716 - acc: 0.8690 - val_loss: 0.5018 - val_acc: 0.7983\n",
      "Epoch 36/50\n",
      "2138/2138 [==============================] - 0s 74us/step - loss: 0.3419 - acc: 0.8826 - val_loss: 0.4901 - val_acc: 0.8277\n",
      "Epoch 37/50\n",
      "2138/2138 [==============================] - 0s 74us/step - loss: 0.3546 - acc: 0.8732 - val_loss: 0.4740 - val_acc: 0.8025\n",
      "Epoch 38/50\n",
      "2138/2138 [==============================] - 0s 81us/step - loss: 0.3444 - acc: 0.8877 - val_loss: 0.4934 - val_acc: 0.8109\n",
      "Epoch 39/50\n",
      "2138/2138 [==============================] - 0s 106us/step - loss: 0.3446 - acc: 0.8845 - val_loss: 0.4801 - val_acc: 0.8193\n",
      "Epoch 40/50\n",
      "2138/2138 [==============================] - 0s 85us/step - loss: 0.3251 - acc: 0.8882 - val_loss: 0.4909 - val_acc: 0.8193\n",
      "Epoch 41/50\n",
      "2138/2138 [==============================] - 0s 75us/step - loss: 0.3095 - acc: 0.8906 - val_loss: 0.4720 - val_acc: 0.8277\n",
      "Epoch 42/50\n",
      "2138/2138 [==============================] - 0s 79us/step - loss: 0.3250 - acc: 0.8826 - val_loss: 0.4649 - val_acc: 0.8277\n",
      "Epoch 43/50\n",
      "2138/2138 [==============================] - 0s 103us/step - loss: 0.3040 - acc: 0.9004 - val_loss: 0.4673 - val_acc: 0.8361\n",
      "Epoch 44/50\n",
      "2138/2138 [==============================] - 0s 79us/step - loss: 0.3070 - acc: 0.8990 - val_loss: 0.4569 - val_acc: 0.8277\n",
      "Epoch 45/50\n",
      "2138/2138 [==============================] - 0s 96us/step - loss: 0.2937 - acc: 0.9008 - val_loss: 0.4737 - val_acc: 0.8151\n",
      "Epoch 46/50\n",
      "2138/2138 [==============================] - 0s 80us/step - loss: 0.3051 - acc: 0.8976 - val_loss: 0.4601 - val_acc: 0.8403\n",
      "Epoch 47/50\n",
      "2138/2138 [==============================] - 0s 79us/step - loss: 0.2813 - acc: 0.9041 - val_loss: 0.4443 - val_acc: 0.8445\n",
      "Epoch 48/50\n",
      "2138/2138 [==============================] - 0s 82us/step - loss: 0.2689 - acc: 0.9097 - val_loss: 0.4653 - val_acc: 0.8361\n",
      "Epoch 49/50\n",
      "2138/2138 [==============================] - 0s 86us/step - loss: 0.2685 - acc: 0.9074 - val_loss: 0.4829 - val_acc: 0.8487\n",
      "Epoch 50/50\n",
      "2138/2138 [==============================] - 0s 107us/step - loss: 0.2724 - acc: 0.9093 - val_loss: 0.4913 - val_acc: 0.8445\n"
     ]
    }
   ],
   "source": [
    "history = model1.fit(X_train,\n",
    "                    y_train,\n",
    "                    epochs=50,\n",
    "                    batch_size=128,validation_split=0.1)"
   ]
  },
  {
   "cell_type": "code",
   "execution_count": 57,
   "metadata": {},
   "outputs": [
    {
     "name": "stdout",
     "output_type": "stream",
     "text": [
      "594/594 [==============================] - 0s 63us/step\n"
     ]
    }
   ],
   "source": [
    "test_loss, test_acc = model1.evaluate(X_test,y_test)"
   ]
  },
  {
   "cell_type": "code",
   "execution_count": 58,
   "metadata": {},
   "outputs": [
    {
     "name": "stdout",
     "output_type": "stream",
     "text": [
      "0.5551083958911575 0.8400673394652729\n"
     ]
    }
   ],
   "source": [
    "print(test_loss, test_acc)"
   ]
  },
  {
   "cell_type": "code",
   "execution_count": 59,
   "metadata": {},
   "outputs": [
    {
     "name": "stdout",
     "output_type": "stream",
     "text": [
      "10/10 [==============================] - 0s 413us/step\n",
      "0.2978782057762146 0.8999999761581421\n"
     ]
    }
   ],
   "source": [
    "test_loss, test_acc = model1.evaluate(X_test[:10],y_test[:10])\n",
    "print(test_loss, test_acc)"
   ]
  },
  {
   "cell_type": "code",
   "execution_count": 81,
   "metadata": {},
   "outputs": [
    {
     "name": "stdout",
     "output_type": "stream",
     "text": [
      "10/10 [==============================] - 0s 451us/step\n"
     ]
    },
    {
     "data": {
      "text/plain": [
       "[1.016636610031128, 0.800000011920929]"
      ]
     },
     "execution_count": 81,
     "metadata": {},
     "output_type": "execute_result"
    }
   ],
   "source": [
    "model1.evaluate(X_test[-10:],y_test[-10:])"
   ]
  },
  {
   "cell_type": "code",
   "execution_count": 82,
   "metadata": {},
   "outputs": [
    {
     "data": {
      "text/plain": [
       "array([2, 6, 0, 9, 1, 2, 8, 4, 2, 2])"
      ]
     },
     "execution_count": 82,
     "metadata": {},
     "output_type": "execute_result"
    }
   ],
   "source": [
    "model1.predict_classes(X_test[-10:])"
   ]
  },
  {
   "cell_type": "code",
   "execution_count": 83,
   "metadata": {},
   "outputs": [
    {
     "data": {
      "text/plain": [
       "842     2\n",
       "212     0\n",
       "12      0\n",
       "2789    9\n",
       "422     1\n",
       "761     2\n",
       "2611    8\n",
       "1271    4\n",
       "602     2\n",
       "1242    4\n",
       "Name: genre, dtype: int64"
      ]
     },
     "execution_count": 83,
     "metadata": {},
     "output_type": "execute_result"
    }
   ],
   "source": [
    "y_test[-10:]"
   ]
  },
  {
   "cell_type": "code",
   "execution_count": 60,
   "metadata": {},
   "outputs": [],
   "source": [
    "y_pred=model1.predict(X_test)"
   ]
  },
  {
   "cell_type": "code",
   "execution_count": 61,
   "metadata": {},
   "outputs": [
    {
     "data": {
      "image/png": "[encoded data removed]",
      "text/plain": [
       "<Figure size 1080x504 with 2 Axes>"
      ]
     },
     "metadata": {
      "needs_background": "light"
     },
     "output_type": "display_data"
    }
   ],
   "source": [
    "plt.figure(figsize=(15,7))\n",
    "\n",
    "plt.subplot(1,2,1)\n",
    "plt.plot(history.history['acc'], label='train')\n",
    "plt.plot(history.history['val_acc'], label='validation')\n",
    "plt.title('Accuracy')\n",
    "plt.xlabel('Epochs')\n",
    "plt.ylabel('Accuracy')\n",
    "plt.legend()\n",
    "\n",
    "plt.subplot(1,2,2)\n",
    "plt.plot(history.history['loss'], label='train')\n",
    "plt.plot(history.history['val_loss'], label='validation')\n",
    "plt.title('Loss')\n",
    "plt.xlabel('Epochs')\n",
    "plt.ylabel('Loss')\n",
    "plt.legend()\n",
    "\n",
    "plt.tight_layout()\n",
    "plt.show()"
   ]
  },
  {
   "cell_type": "code",
   "execution_count": 62,
   "metadata": {},
   "outputs": [],
   "source": [
    "#http://scikit-learn.org/stable/auto_examples/model_selection/plot_confusion_matrix.html\n",
    "def plot_confusion_matrix(cm, classes,\n",
    "                          normalize=False,\n",
    "                          title='Confusion matrix',\n",
    "                          cmap=plt.cm.Blues):\n",
    "    \"\"\"\n",
    "    This function prints and plots the confusion matrix.\n",
    "    Normalization can be applied by setting `normalize=True`.\n",
    "    \"\"\"\n",
    "    if normalize:\n",
    "        cm = cm.astype('float') / cm.sum(axis=1)[:, np.newaxis]\n",
    "        print(\"Normalized confusion matrix\")\n",
    "    else:\n",
    "        print('Confusion matrix, without normalization')\n",
    "\n",
    "    plt.imshow(cm, interpolation='nearest', cmap=cmap)\n",
    "    plt.title(title)\n",
    "    plt.colorbar()\n",
    "    tick_marks = np.arange(len(classes))\n",
    "    plt.xticks(tick_marks, classes, rotation=45)\n",
    "    plt.yticks(tick_marks, classes)\n",
    "\n",
    "    fmt = '.2f' if normalize else 'd'\n",
    "    thresh = cm.max() / 2.\n",
    "    for i, j in itertools.product(range(cm.shape[0]), range(cm.shape[1])):\n",
    "        plt.text(j, i, format(cm[i, j], fmt),\n",
    "                 horizontalalignment=\"center\",\n",
    "                 color=\"white\" if cm[i, j] > thresh else \"black\")\n",
    "\n",
    "    plt.tight_layout(pad=0.4,w_pad=0.5,h_pad=1)\n",
    "    plt.ylabel('True label')\n",
    "    plt.xlabel('Predicted label')"
   ]
  },
  {
   "cell_type": "code",
   "execution_count": 63,
   "metadata": {},
   "outputs": [
    {
     "name": "stdout",
     "output_type": "stream",
     "text": [
      "Confusion matrix, without normalization\n"
     ]
    },
    {
     "data": {
      "image/png": "[encoded data removed]",
      "text/plain": [
       "<Figure size 576x576 with 2 Axes>"
      ]
     },
     "metadata": {
      "needs_background": "light"
     },
     "output_type": "display_data"
    }
   ],
   "source": [
    "from sklearn.metrics import confusion_matrix\n",
    "preds = np.argmax(model1.predict(X_test), axis = 1)\n",
    "cm = confusion_matrix(preds,y_test)\n",
    "keys = OrderedDict(sorted(genres.items(), key=lambda t: t[1])).keys()\n",
    "\n",
    "plt.figure(figsize=(8,8))\n",
    "plot_confusion_matrix(cm, keys, normalize=False)"
   ]
  },
  {
   "cell_type": "code",
   "execution_count": 64,
   "metadata": {},
   "outputs": [
    {
     "name": "stdout",
     "output_type": "stream",
     "text": [
      "10/10 [==============================] - 0s 22ms/step\n",
      "0.9808036088943481 0.6000000238418579\n"
     ]
    }
   ],
   "source": [
    "#\n",
    "test_loss, test_acc = model1.evaluate(Xt1,yt1)\n",
    "print(test_loss, test_acc)"
   ]
  },
  {
   "cell_type": "code",
   "execution_count": 65,
   "metadata": {},
   "outputs": [
    {
     "name": "stdout",
     "output_type": "stream",
     "text": [
      "20/20 [==============================] - 0s 379us/step\n",
      "1.0979444980621338 0.6499999761581421\n"
     ]
    }
   ],
   "source": [
    "test_loss, test_acc = model1.evaluate(Xt2,yt2)\n",
    "print(test_loss, test_acc)"
   ]
  },
  {
   "cell_type": "code",
   "execution_count": 76,
   "metadata": {},
   "outputs": [
    {
     "data": {
      "text/plain": [
       "array([5, 5, 1, 1, 2, 3, 3, 3, 4, 4, 5, 5, 4, 6, 7, 7, 9, 6, 9, 2])"
      ]
     },
     "execution_count": 76,
     "metadata": {},
     "output_type": "execute_result"
    }
   ],
   "source": [
    "model1.predict_classes(Xt2)"
   ]
  },
  {
   "cell_type": "code",
   "execution_count": null,
   "metadata": {},
   "outputs": [],
   "source": []
  },
  {
   "cell_type": "code",
   "execution_count": 66,
   "metadata": {},
   "outputs": [
    {
     "name": "stdout",
     "output_type": "stream",
     "text": [
      "594/594 [==============================] - 0s 79us/step\n",
      "0.5551083958911575 0.8400673394652729\n"
     ]
    }
   ],
   "source": [
    "test_loss, test_acc = model1.evaluate(X_test,y_test)\n",
    "print(test_loss, test_acc)"
   ]
  },
  {
   "cell_type": "code",
   "execution_count": 72,
   "metadata": {},
   "outputs": [],
   "source": [
    "y_pred=model1.predict(Xt1)"
   ]
  },
  {
   "cell_type": "code",
   "execution_count": 73,
   "metadata": {},
   "outputs": [
    {
     "data": {
      "text/plain": [
       "array([5, 1, 3, 3, 4, 5, 6, 7, 9, 2])"
      ]
     },
     "execution_count": 73,
     "metadata": {},
     "output_type": "execute_result"
    }
   ],
   "source": [
    "model1.predict_classes(Xt1)"
   ]
  },
  {
   "cell_type": "code",
   "execution_count": 74,
   "metadata": {},
   "outputs": [
    {
     "data": {
      "text/plain": [
       "array([1.4195706e-02, 4.2085702e-04, 1.6553096e-01, 7.3273063e-01,\n",
       "       1.9816535e-03, 3.7941958e-03, 1.5632181e-03, 2.6436338e-02,\n",
       "       6.9362954e-03, 4.6410136e-02], dtype=float32)"
      ]
     },
     "execution_count": 74,
     "metadata": {},
     "output_type": "execute_result"
    }
   ],
   "source": [
    "y_pred[2]\n"
   ]
  },
  {
   "cell_type": "code",
   "execution_count": null,
   "metadata": {},
   "outputs": [],
   "source": []
  },
  {
   "cell_type": "code",
   "execution_count": null,
   "metadata": {},
   "outputs": [],
   "source": []
  }
 ],
 "metadata": {
  "kernelspec": {
   "display_name": "Python 3",
   "language": "python",
   "name": "python3"
  },
  "language_info": {
   "codemirror_mode": {
    "name": "ipython",
    "version": 3
   },
   "file_extension": ".py",
   "mimetype": "text/x-python",
   "name": "python",
   "nbconvert_exporter": "python",
   "pygments_lexer": "ipython3",
   "version": "3.6.9"
  }
 },
 "nbformat": 4,
 "nbformat_minor": 4
}
