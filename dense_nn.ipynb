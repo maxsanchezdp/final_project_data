{
 "cells": [
  {
   "cell_type": "code",
   "execution_count": 212,
   "metadata": {},
   "outputs": [],
   "source": [
    "import itertools\n",
    "import pandas as pd\n",
    "import numpy as np\n",
    "import matplotlib.pyplot as plt\n",
    "%matplotlib inline\n",
    "from collections import OrderedDict \n",
    "# Preprocessing\n",
    "from sklearn.model_selection import train_test_split\n",
    "from sklearn.preprocessing import LabelEncoder, StandardScaler\n",
    "\n",
    "#Keras\n",
    "import keras\n",
    "\n",
    "import warnings\n",
    "warnings.filterwarnings('ignore')"
   ]
  },
  {
   "cell_type": "code",
   "execution_count": 2,
   "metadata": {},
   "outputs": [],
   "source": [
    "#Dictionary for genres label encoding:\n",
    "genres = {'blues': 0, 'classical': 1, 'country': 2, 'disco': 3, 'hiphop': 4, \n",
    "          'jazz': 5, 'metal': 6, 'pop': 7, 'reggae': 8, 'rock': 9}"
   ]
  },
  {
   "cell_type": "code",
   "execution_count": 118,
   "metadata": {},
   "outputs": [
    {
     "data": {
      "text/html": [
       "<div>\n",
       "<style scoped>\n",
       "    .dataframe tbody tr th:only-of-type {\n",
       "        vertical-align: middle;\n",
       "    }\n",
       "\n",
       "    .dataframe tbody tr th {\n",
       "        vertical-align: top;\n",
       "    }\n",
       "\n",
       "    .dataframe thead th {\n",
       "        text-align: right;\n",
       "    }\n",
       "</style>\n",
       "<table border=\"1\" class=\"dataframe\">\n",
       "  <thead>\n",
       "    <tr style=\"text-align: right;\">\n",
       "      <th></th>\n",
       "      <th>centroid_mean</th>\n",
       "      <th>centroid_std</th>\n",
       "      <th>chroma_mean</th>\n",
       "      <th>chroma_std</th>\n",
       "      <th>flux_mean</th>\n",
       "      <th>flux_std</th>\n",
       "      <th>genre</th>\n",
       "      <th>mfcc_0_mean</th>\n",
       "      <th>mfcc_0_std</th>\n",
       "      <th>mfcc_10_mean</th>\n",
       "      <th>...</th>\n",
       "      <th>mfcc_8_std</th>\n",
       "      <th>mfcc_9_mean</th>\n",
       "      <th>mfcc_9_std</th>\n",
       "      <th>rmse_mean</th>\n",
       "      <th>rmse_std</th>\n",
       "      <th>roloff_mean</th>\n",
       "      <th>roloff_std</th>\n",
       "      <th>tempo</th>\n",
       "      <th>zcr_mean</th>\n",
       "      <th>zcr_std</th>\n",
       "    </tr>\n",
       "  </thead>\n",
       "  <tbody>\n",
       "    <tr>\n",
       "      <th>0</th>\n",
       "      <td>888.192767</td>\n",
       "      <td>379.074067</td>\n",
       "      <td>0.525691</td>\n",
       "      <td>0.295343</td>\n",
       "      <td>1.557968</td>\n",
       "      <td>1.675129</td>\n",
       "      <td>0</td>\n",
       "      <td>-298.866425</td>\n",
       "      <td>55.572163</td>\n",
       "      <td>-1.312751</td>\n",
       "      <td>...</td>\n",
       "      <td>10.512544</td>\n",
       "      <td>4.846227</td>\n",
       "      <td>12.137277</td>\n",
       "      <td>0.118639</td>\n",
       "      <td>0.061269</td>\n",
       "      <td>1770.389295</td>\n",
       "      <td>1010.104647</td>\n",
       "      <td>172.265625</td>\n",
       "      <td>0.029214</td>\n",
       "      <td>0.015715</td>\n",
       "    </tr>\n",
       "    <tr>\n",
       "      <th>1</th>\n",
       "      <td>1001.220509</td>\n",
       "      <td>363.289566</td>\n",
       "      <td>0.497065</td>\n",
       "      <td>0.294911</td>\n",
       "      <td>1.479048</td>\n",
       "      <td>1.466835</td>\n",
       "      <td>0</td>\n",
       "      <td>-239.033478</td>\n",
       "      <td>48.344673</td>\n",
       "      <td>-6.611788</td>\n",
       "      <td>...</td>\n",
       "      <td>8.462409</td>\n",
       "      <td>2.155131</td>\n",
       "      <td>8.355743</td>\n",
       "      <td>0.160613</td>\n",
       "      <td>0.060511</td>\n",
       "      <td>2055.339246</td>\n",
       "      <td>1014.663475</td>\n",
       "      <td>172.265625</td>\n",
       "      <td>0.034871</td>\n",
       "      <td>0.015003</td>\n",
       "    </tr>\n",
       "    <tr>\n",
       "      <th>2</th>\n",
       "      <td>846.548114</td>\n",
       "      <td>618.517730</td>\n",
       "      <td>0.576510</td>\n",
       "      <td>0.270677</td>\n",
       "      <td>1.633401</td>\n",
       "      <td>2.636701</td>\n",
       "      <td>0</td>\n",
       "      <td>-317.237152</td>\n",
       "      <td>81.588196</td>\n",
       "      <td>-1.960779</td>\n",
       "      <td>...</td>\n",
       "      <td>10.031506</td>\n",
       "      <td>9.536193</td>\n",
       "      <td>8.848726</td>\n",
       "      <td>0.102250</td>\n",
       "      <td>0.037121</td>\n",
       "      <td>1625.756836</td>\n",
       "      <td>1435.688964</td>\n",
       "      <td>123.046875</td>\n",
       "      <td>0.032692</td>\n",
       "      <td>0.029412</td>\n",
       "    </tr>\n",
       "    <tr>\n",
       "      <th>3</th>\n",
       "      <td>973.959994</td>\n",
       "      <td>609.317788</td>\n",
       "      <td>0.564331</td>\n",
       "      <td>0.271416</td>\n",
       "      <td>1.451815</td>\n",
       "      <td>2.326623</td>\n",
       "      <td>0</td>\n",
       "      <td>-300.514404</td>\n",
       "      <td>92.136734</td>\n",
       "      <td>-2.918866</td>\n",
       "      <td>...</td>\n",
       "      <td>10.758454</td>\n",
       "      <td>11.795238</td>\n",
       "      <td>10.521724</td>\n",
       "      <td>0.094613</td>\n",
       "      <td>0.039514</td>\n",
       "      <td>1878.647167</td>\n",
       "      <td>1368.791028</td>\n",
       "      <td>129.199219</td>\n",
       "      <td>0.039325</td>\n",
       "      <td>0.030719</td>\n",
       "    </tr>\n",
       "    <tr>\n",
       "      <th>4</th>\n",
       "      <td>1101.462315</td>\n",
       "      <td>365.249696</td>\n",
       "      <td>0.379367</td>\n",
       "      <td>0.298470</td>\n",
       "      <td>1.422705</td>\n",
       "      <td>1.567510</td>\n",
       "      <td>0</td>\n",
       "      <td>-290.625641</td>\n",
       "      <td>67.902252</td>\n",
       "      <td>-7.053016</td>\n",
       "      <td>...</td>\n",
       "      <td>9.873894</td>\n",
       "      <td>-5.429997</td>\n",
       "      <td>10.567539</td>\n",
       "      <td>0.112067</td>\n",
       "      <td>0.066417</td>\n",
       "      <td>2234.553155</td>\n",
       "      <td>871.327336</td>\n",
       "      <td>95.703125</td>\n",
       "      <td>0.050290</td>\n",
       "      <td>0.033235</td>\n",
       "    </tr>\n",
       "  </tbody>\n",
       "</table>\n",
       "<p>5 rows × 40 columns</p>\n",
       "</div>"
      ],
      "text/plain": [
       "   centroid_mean  centroid_std  chroma_mean  chroma_std  flux_mean  flux_std  \\\n",
       "0     888.192767    379.074067     0.525691    0.295343   1.557968  1.675129   \n",
       "1    1001.220509    363.289566     0.497065    0.294911   1.479048  1.466835   \n",
       "2     846.548114    618.517730     0.576510    0.270677   1.633401  2.636701   \n",
       "3     973.959994    609.317788     0.564331    0.271416   1.451815  2.326623   \n",
       "4    1101.462315    365.249696     0.379367    0.298470   1.422705  1.567510   \n",
       "\n",
       "   genre  mfcc_0_mean  mfcc_0_std  mfcc_10_mean  ...  mfcc_8_std  mfcc_9_mean  \\\n",
       "0      0  -298.866425   55.572163     -1.312751  ...   10.512544     4.846227   \n",
       "1      0  -239.033478   48.344673     -6.611788  ...    8.462409     2.155131   \n",
       "2      0  -317.237152   81.588196     -1.960779  ...   10.031506     9.536193   \n",
       "3      0  -300.514404   92.136734     -2.918866  ...   10.758454    11.795238   \n",
       "4      0  -290.625641   67.902252     -7.053016  ...    9.873894    -5.429997   \n",
       "\n",
       "   mfcc_9_std  rmse_mean  rmse_std  roloff_mean   roloff_std       tempo  \\\n",
       "0   12.137277   0.118639  0.061269  1770.389295  1010.104647  172.265625   \n",
       "1    8.355743   0.160613  0.060511  2055.339246  1014.663475  172.265625   \n",
       "2    8.848726   0.102250  0.037121  1625.756836  1435.688964  123.046875   \n",
       "3   10.521724   0.094613  0.039514  1878.647167  1368.791028  129.199219   \n",
       "4   10.567539   0.112067  0.066417  2234.553155   871.327336   95.703125   \n",
       "\n",
       "   zcr_mean   zcr_std  \n",
       "0  0.029214  0.015715  \n",
       "1  0.034871  0.015003  \n",
       "2  0.032692  0.029412  \n",
       "3  0.039325  0.030719  \n",
       "4  0.050290  0.033235  \n",
       "\n",
       "[5 rows x 40 columns]"
      ]
     },
     "execution_count": 118,
     "metadata": {},
     "output_type": "execute_result"
    }
   ],
   "source": [
    "data=pd.read_csv(\"./Features/features2.csv\")\n",
    "data.head()"
   ]
  },
  {
   "cell_type": "code",
   "execution_count": 119,
   "metadata": {},
   "outputs": [],
   "source": [
    "X=data.drop('genre',axis=1)"
   ]
  },
  {
   "cell_type": "code",
   "execution_count": 120,
   "metadata": {},
   "outputs": [],
   "source": [
    "y=data.genre"
   ]
  },
  {
   "cell_type": "code",
   "execution_count": 121,
   "metadata": {},
   "outputs": [],
   "source": [
    "scaled_features = StandardScaler().fit_transform(X.values)\n",
    "X = pd.DataFrame(scaled_features, index=X.index, columns=X.columns)\n"
   ]
  },
  {
   "cell_type": "code",
   "execution_count": 271,
   "metadata": {},
   "outputs": [],
   "source": [
    "X_train, X_test, y_train, y_test = train_test_split(X, y, test_size=0.2, random_state=42)"
   ]
  },
  {
   "cell_type": "code",
   "execution_count": 272,
   "metadata": {},
   "outputs": [
    {
     "data": {
      "text/plain": [
       "(1584, 39)"
      ]
     },
     "execution_count": 272,
     "metadata": {},
     "output_type": "execute_result"
    }
   ],
   "source": [
    "X_train.shape"
   ]
  },
  {
   "cell_type": "code",
   "execution_count": 278,
   "metadata": {},
   "outputs": [],
   "source": [
    "from keras import models\n",
    "from keras import layers\n",
    "\n",
    "model = models.Sequential()\n",
    "model.add(layers.Dense(256, activation='relu', input_shape=(X_train.shape[1],)))\n",
    "\n",
    "model.add(layers.Dense(128, activation='relu'))\n",
    "\n",
    "model.add(layers.Dense(64, activation='relu'))\n",
    "\n",
    "model.add(layers.Dense(10, activation='softmax'))"
   ]
  },
  {
   "cell_type": "code",
   "execution_count": 279,
   "metadata": {},
   "outputs": [],
   "source": [
    "model.compile(optimizer='adam',\n",
    "              loss='sparse_categorical_crossentropy',\n",
    "              metrics=['accuracy'])"
   ]
  },
  {
   "cell_type": "code",
   "execution_count": 280,
   "metadata": {},
   "outputs": [
    {
     "name": "stdout",
     "output_type": "stream",
     "text": [
      "Train on 1425 samples, validate on 159 samples\n",
      "Epoch 1/50\n",
      "1425/1425 [==============================] - 2s 1ms/step - loss: 2.0283 - acc: 0.3032 - val_loss: 1.6452 - val_acc: 0.4528\n",
      "Epoch 2/50\n",
      "1425/1425 [==============================] - 0s 75us/step - loss: 1.4732 - acc: 0.5032 - val_loss: 1.2558 - val_acc: 0.6101\n",
      "Epoch 3/50\n",
      "1425/1425 [==============================] - 0s 69us/step - loss: 1.1317 - acc: 0.6295 - val_loss: 1.0458 - val_acc: 0.6226\n",
      "Epoch 4/50\n",
      "1425/1425 [==============================] - 0s 69us/step - loss: 0.9469 - acc: 0.6856 - val_loss: 0.9877 - val_acc: 0.6352\n",
      "Epoch 5/50\n",
      "1425/1425 [==============================] - 0s 84us/step - loss: 0.8239 - acc: 0.7165 - val_loss: 0.9168 - val_acc: 0.7044\n",
      "Epoch 6/50\n",
      "1425/1425 [==============================] - 0s 60us/step - loss: 0.7394 - acc: 0.7467 - val_loss: 0.8635 - val_acc: 0.7170\n",
      "Epoch 7/50\n",
      "1425/1425 [==============================] - 0s 65us/step - loss: 0.6580 - acc: 0.7712 - val_loss: 0.8329 - val_acc: 0.7107\n",
      "Epoch 8/50\n",
      "1425/1425 [==============================] - 0s 70us/step - loss: 0.5919 - acc: 0.8112 - val_loss: 0.8093 - val_acc: 0.7421\n",
      "Epoch 9/50\n",
      "1425/1425 [==============================] - 0s 72us/step - loss: 0.5525 - acc: 0.8119 - val_loss: 0.7945 - val_acc: 0.7358\n",
      "Epoch 10/50\n",
      "1425/1425 [==============================] - 0s 70us/step - loss: 0.5086 - acc: 0.8316 - val_loss: 0.8104 - val_acc: 0.7484\n",
      "Epoch 11/50\n",
      "1425/1425 [==============================] - 0s 70us/step - loss: 0.4748 - acc: 0.8400 - val_loss: 0.7528 - val_acc: 0.7547\n",
      "Epoch 12/50\n",
      "1425/1425 [==============================] - 0s 78us/step - loss: 0.4395 - acc: 0.8618 - val_loss: 0.7678 - val_acc: 0.7358\n",
      "Epoch 13/50\n",
      "1425/1425 [==============================] - 0s 73us/step - loss: 0.4003 - acc: 0.8856 - val_loss: 0.7242 - val_acc: 0.7736\n",
      "Epoch 14/50\n",
      "1425/1425 [==============================] - 0s 82us/step - loss: 0.3719 - acc: 0.8947 - val_loss: 0.7460 - val_acc: 0.7484\n",
      "Epoch 15/50\n",
      "1425/1425 [==============================] - 0s 76us/step - loss: 0.3446 - acc: 0.9004 - val_loss: 0.7380 - val_acc: 0.7547\n",
      "Epoch 16/50\n",
      "1425/1425 [==============================] - 0s 67us/step - loss: 0.3169 - acc: 0.9081 - val_loss: 0.7281 - val_acc: 0.7736\n",
      "Epoch 17/50\n",
      "1425/1425 [==============================] - 0s 89us/step - loss: 0.3060 - acc: 0.9144 - val_loss: 0.7653 - val_acc: 0.7610\n",
      "Epoch 18/50\n",
      "1425/1425 [==============================] - 0s 83us/step - loss: 0.2833 - acc: 0.9200 - val_loss: 0.7141 - val_acc: 0.7673\n",
      "Epoch 19/50\n",
      "1425/1425 [==============================] - 0s 73us/step - loss: 0.2677 - acc: 0.9235 - val_loss: 0.6759 - val_acc: 0.7736\n",
      "Epoch 20/50\n",
      "1425/1425 [==============================] - 0s 73us/step - loss: 0.2340 - acc: 0.9439 - val_loss: 0.6872 - val_acc: 0.7925\n",
      "Epoch 21/50\n",
      "1425/1425 [==============================] - 0s 78us/step - loss: 0.2158 - acc: 0.9495 - val_loss: 0.6650 - val_acc: 0.7862\n",
      "Epoch 22/50\n",
      "1425/1425 [==============================] - 0s 72us/step - loss: 0.2056 - acc: 0.9516 - val_loss: 0.6734 - val_acc: 0.8050\n",
      "Epoch 23/50\n",
      "1425/1425 [==============================] - 0s 75us/step - loss: 0.1894 - acc: 0.9551 - val_loss: 0.6524 - val_acc: 0.7925\n",
      "Epoch 24/50\n",
      "1425/1425 [==============================] - 0s 66us/step - loss: 0.1720 - acc: 0.9670 - val_loss: 0.6636 - val_acc: 0.7987\n",
      "Epoch 25/50\n",
      "1425/1425 [==============================] - 0s 79us/step - loss: 0.1587 - acc: 0.9677 - val_loss: 0.6515 - val_acc: 0.8113\n",
      "Epoch 26/50\n",
      "1425/1425 [==============================] - 0s 74us/step - loss: 0.1589 - acc: 0.9663 - val_loss: 0.6865 - val_acc: 0.7862\n",
      "Epoch 27/50\n",
      "1425/1425 [==============================] - 0s 74us/step - loss: 0.1378 - acc: 0.9782 - val_loss: 0.6476 - val_acc: 0.8113\n",
      "Epoch 28/50\n",
      "1425/1425 [==============================] - 0s 75us/step - loss: 0.1273 - acc: 0.9782 - val_loss: 0.6030 - val_acc: 0.8176\n",
      "Epoch 29/50\n",
      "1425/1425 [==============================] - 0s 73us/step - loss: 0.1296 - acc: 0.9754 - val_loss: 0.6471 - val_acc: 0.8176\n",
      "Epoch 30/50\n",
      "1425/1425 [==============================] - 0s 62us/step - loss: 0.1190 - acc: 0.9782 - val_loss: 0.6508 - val_acc: 0.7987\n",
      "Epoch 31/50\n",
      "1425/1425 [==============================] - 0s 80us/step - loss: 0.1014 - acc: 0.9853 - val_loss: 0.6423 - val_acc: 0.8239\n",
      "Epoch 32/50\n",
      "1425/1425 [==============================] - 0s 68us/step - loss: 0.0934 - acc: 0.9881 - val_loss: 0.6352 - val_acc: 0.8239\n",
      "Epoch 33/50\n",
      "1425/1425 [==============================] - 0s 78us/step - loss: 0.0878 - acc: 0.9874 - val_loss: 0.6478 - val_acc: 0.8176\n",
      "Epoch 34/50\n",
      "1425/1425 [==============================] - 0s 60us/step - loss: 0.0786 - acc: 0.9923 - val_loss: 0.5987 - val_acc: 0.8113\n",
      "Epoch 35/50\n",
      "1425/1425 [==============================] - 0s 75us/step - loss: 0.0684 - acc: 0.9916 - val_loss: 0.6602 - val_acc: 0.8113\n",
      "Epoch 36/50\n",
      "1425/1425 [==============================] - 0s 83us/step - loss: 0.0640 - acc: 0.9937 - val_loss: 0.5975 - val_acc: 0.8239\n",
      "Epoch 37/50\n",
      "1425/1425 [==============================] - 0s 70us/step - loss: 0.0567 - acc: 0.9958 - val_loss: 0.6182 - val_acc: 0.8239\n",
      "Epoch 38/50\n",
      "1425/1425 [==============================] - 0s 91us/step - loss: 0.0525 - acc: 0.9958 - val_loss: 0.6575 - val_acc: 0.8239\n",
      "Epoch 39/50\n",
      "1425/1425 [==============================] - 0s 98us/step - loss: 0.0534 - acc: 0.9944 - val_loss: 0.6320 - val_acc: 0.8176\n",
      "Epoch 40/50\n",
      "1425/1425 [==============================] - 0s 79us/step - loss: 0.0481 - acc: 0.9965 - val_loss: 0.6311 - val_acc: 0.8239\n",
      "Epoch 41/50\n",
      "1425/1425 [==============================] - 0s 73us/step - loss: 0.0443 - acc: 0.9958 - val_loss: 0.6300 - val_acc: 0.8491\n",
      "Epoch 42/50\n",
      "1425/1425 [==============================] - 0s 75us/step - loss: 0.0444 - acc: 0.9958 - val_loss: 0.6966 - val_acc: 0.7987\n",
      "Epoch 43/50\n",
      "1425/1425 [==============================] - 0s 69us/step - loss: 0.0407 - acc: 0.9958 - val_loss: 0.6560 - val_acc: 0.8113\n",
      "Epoch 44/50\n",
      "1425/1425 [==============================] - 0s 58us/step - loss: 0.0365 - acc: 0.9972 - val_loss: 0.6731 - val_acc: 0.8176\n",
      "Epoch 45/50\n",
      "1425/1425 [==============================] - 0s 80us/step - loss: 0.0365 - acc: 0.9979 - val_loss: 0.6622 - val_acc: 0.8239\n",
      "Epoch 46/50\n",
      "1425/1425 [==============================] - 0s 76us/step - loss: 0.0318 - acc: 0.9972 - val_loss: 0.6135 - val_acc: 0.8365\n",
      "Epoch 47/50\n",
      "1425/1425 [==============================] - 0s 78us/step - loss: 0.0289 - acc: 0.9979 - val_loss: 0.6585 - val_acc: 0.8239\n",
      "Epoch 48/50\n",
      "1425/1425 [==============================] - 0s 77us/step - loss: 0.0292 - acc: 0.9972 - val_loss: 0.7208 - val_acc: 0.8050\n",
      "Epoch 49/50\n",
      "1425/1425 [==============================] - 0s 68us/step - loss: 0.0280 - acc: 0.9972 - val_loss: 0.6566 - val_acc: 0.8365\n",
      "Epoch 50/50\n",
      "1425/1425 [==============================] - 0s 83us/step - loss: 0.0259 - acc: 0.9972 - val_loss: 0.6826 - val_acc: 0.8302\n"
     ]
    }
   ],
   "source": [
    "history = model.fit(X_train,\n",
    "                    y_train,\n",
    "                    epochs=50,\n",
    "                    batch_size=128,validation_split=0.1)"
   ]
  },
  {
   "cell_type": "code",
   "execution_count": 281,
   "metadata": {},
   "outputs": [
    {
     "name": "stdout",
     "output_type": "stream",
     "text": [
      "396/396 [==============================] - 0s 99us/step\n"
     ]
    }
   ],
   "source": [
    "test_loss, test_acc = model.evaluate(X_test,y_test)"
   ]
  },
  {
   "cell_type": "code",
   "execution_count": 282,
   "metadata": {},
   "outputs": [
    {
     "name": "stdout",
     "output_type": "stream",
     "text": [
      "0.6505374444855584 0.830808081410148\n"
     ]
    }
   ],
   "source": [
    "print(test_loss, test_acc)"
   ]
  },
  {
   "cell_type": "code",
   "execution_count": 283,
   "metadata": {},
   "outputs": [],
   "source": [
    "y_pred=model.predict(X_test)"
   ]
  },
  {
   "cell_type": "code",
   "execution_count": 284,
   "metadata": {},
   "outputs": [
    {
     "data": {
      "image/png": "[encoded data removed]",
      "text/plain": [
       "<Figure size 1080x504 with 2 Axes>"
      ]
     },
     "metadata": {
      "needs_background": "light"
     },
     "output_type": "display_data"
    }
   ],
   "source": [
    "plt.figure(figsize=(15,7))\n",
    "\n",
    "plt.subplot(1,2,1)\n",
    "plt.plot(history.history['acc'], label='train')\n",
    "plt.plot(history.history['val_acc'], label='validation')\n",
    "plt.title('Accuracy')\n",
    "plt.xlabel('Epochs')\n",
    "plt.ylabel('Accuracy')\n",
    "plt.legend()\n",
    "\n",
    "plt.subplot(1,2,2)\n",
    "plt.plot(history.history['loss'], label='train')\n",
    "plt.plot(history.history['val_loss'], label='validation')\n",
    "plt.title('Loss')\n",
    "plt.xlabel('Epochs')\n",
    "plt.ylabel('Loss')\n",
    "plt.legend()\n",
    "\n",
    "plt.tight_layout()\n",
    "plt.show()"
   ]
  },
  {
   "cell_type": "code",
   "execution_count": 259,
   "metadata": {},
   "outputs": [],
   "source": [
    "#http://scikit-learn.org/stable/auto_examples/model_selection/plot_confusion_matrix.html\n",
    "def plot_confusion_matrix(cm, classes,\n",
    "                          normalize=False,\n",
    "                          title='Confusion matrix',\n",
    "                          cmap=plt.cm.Blues):\n",
    "    \"\"\"\n",
    "    This function prints and plots the confusion matrix.\n",
    "    Normalization can be applied by setting `normalize=True`.\n",
    "    \"\"\"\n",
    "    if normalize:\n",
    "        cm = cm.astype('float') / cm.sum(axis=1)[:, np.newaxis]\n",
    "        print(\"Normalized confusion matrix\")\n",
    "    else:\n",
    "        print('Confusion matrix, without normalization')\n",
    "\n",
    "    plt.imshow(cm, interpolation='nearest', cmap=cmap)\n",
    "    plt.title(title)\n",
    "    plt.colorbar()\n",
    "    tick_marks = np.arange(len(classes))\n",
    "    plt.xticks(tick_marks, classes, rotation=45)\n",
    "    plt.yticks(tick_marks, classes)\n",
    "\n",
    "    fmt = '.2f' if normalize else 'd'\n",
    "    thresh = cm.max() / 2.\n",
    "    for i, j in itertools.product(range(cm.shape[0]), range(cm.shape[1])):\n",
    "        plt.text(j, i, format(cm[i, j], fmt),\n",
    "                 horizontalalignment=\"center\",\n",
    "                 color=\"white\" if cm[i, j] > thresh else \"black\")\n",
    "\n",
    "    plt.tight_layout()\n",
    "    plt.ylabel('True label')\n",
    "    plt.xlabel('Predicted label')"
   ]
  },
  {
   "cell_type": "code",
   "execution_count": 260,
   "metadata": {},
   "outputs": [
    {
     "name": "stdout",
     "output_type": "stream",
     "text": [
      "Confusion matrix, without normalization\n"
     ]
    },
    {
     "data": {
      "image/png": "[encoded data removed]",
      "text/plain": [
       "<Figure size 576x576 with 2 Axes>"
      ]
     },
     "metadata": {
      "needs_background": "light"
     },
     "output_type": "display_data"
    }
   ],
   "source": [
    "preds = np.argmax(model.predict(X_test), axis = 1)\n",
    "cm = confusion_matrix(preds,y_test)\n",
    "keys = OrderedDict(sorted(genres.items(), key=lambda t: t[1])).keys()\n",
    "\n",
    "plt.figure(figsize=(8,8))\n",
    "plot_confusion_matrix(cm, keys, normalize=False)"
   ]
  },
  {
   "cell_type": "code",
   "execution_count": null,
   "metadata": {},
   "outputs": [],
   "source": []
  }
 ],
 "metadata": {
  "kernelspec": {
   "display_name": "Python 3",
   "language": "python",
   "name": "python3"
  },
  "language_info": {
   "codemirror_mode": {
    "name": "ipython",
    "version": 3
   },
   "file_extension": ".py",
   "mimetype": "text/x-python",
   "name": "python",
   "nbconvert_exporter": "python",
   "pygments_lexer": "ipython3",
   "version": "3.6.9"
  }
 },
 "nbformat": 4,
 "nbformat_minor": 4
}
