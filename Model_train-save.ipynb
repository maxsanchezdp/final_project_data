{
 "cells": [
  {
   "cell_type": "code",
   "execution_count": 2,
   "metadata": {},
   "outputs": [],
   "source": [
    "import itertools\n",
    "import pandas as pd\n",
    "import numpy as np\n",
    "import matplotlib.pyplot as plt\n",
    "%matplotlib inline\n",
    "from collections import OrderedDict\n",
    "\n",
    "# Preprocessing\n",
    "from sklearn.model_selection import train_test_split\n",
    "from sklearn.preprocessing import StandardScaler\n",
    "\n",
    "#Keras\n",
    "from keras import models\n",
    "from keras import layers\n",
    "\n",
    "import warnings\n",
    "warnings.filterwarnings('ignore')"
   ]
  },
  {
   "cell_type": "code",
   "execution_count": 3,
   "metadata": {},
   "outputs": [],
   "source": [
    "#Dictionary for genres label encoding:\n",
    "GENRES = {'blues': 0, 'classical': 1, 'country': 2, 'disco': 3, 'hiphop': 4, \n",
    "          'jazz': 5, 'metal': 6, 'pop': 7, 'reggae': 8, 'rock': 9}"
   ]
  },
  {
   "cell_type": "code",
   "execution_count": 29,
   "metadata": {},
   "outputs": [],
   "source": [
    "PATH = './Features/dataset_features/data_features.csv'"
   ]
  },
  {
   "cell_type": "code",
   "execution_count": 30,
   "metadata": {},
   "outputs": [],
   "source": [
    "def prepare_data(path, test_size=0.2):\n",
    "    \"\"\"\n",
    "    Prepares data in given path to feed the model\n",
    "    \"\"\"\n",
    "    data = pd.read_csv(path)\n",
    "    X = data.drop('genre', axis=1)\n",
    "    y = data.genre\n",
    "\n",
    "    # Normalize data in X:\n",
    "    scaled_features = StandardScaler().fit_transform(X.values)\n",
    "    X = pd.DataFrame(scaled_features, index=X.index, columns=X.columns)\n",
    "    X_train, X_test, y_train, y_test = train_test_split(X, y, test_size=test_size, random_state=42)\n",
    "    return X_train, X_test, y_train, y_test"
   ]
  },
  {
   "cell_type": "code",
   "execution_count": 31,
   "metadata": {},
   "outputs": [],
   "source": [
    "X_train, X_test, y_train, y_test = prepare_data(PATH)"
   ]
  },
  {
   "cell_type": "code",
   "execution_count": 38,
   "metadata": {},
   "outputs": [
    {
     "data": {
      "text/html": [
       "<div>\n",
       "<style scoped>\n",
       "    .dataframe tbody tr th:only-of-type {\n",
       "        vertical-align: middle;\n",
       "    }\n",
       "\n",
       "    .dataframe tbody tr th {\n",
       "        vertical-align: top;\n",
       "    }\n",
       "\n",
       "    .dataframe thead th {\n",
       "        text-align: right;\n",
       "    }\n",
       "</style>\n",
       "<table border=\"1\" class=\"dataframe\">\n",
       "  <thead>\n",
       "    <tr style=\"text-align: right;\">\n",
       "      <th></th>\n",
       "      <th>centroid_kurtosis</th>\n",
       "      <th>centroid_mean</th>\n",
       "      <th>centroid_skew</th>\n",
       "      <th>centroid_std</th>\n",
       "      <th>chroma_kurtosis</th>\n",
       "      <th>chroma_mean</th>\n",
       "      <th>chroma_skew</th>\n",
       "      <th>chroma_std</th>\n",
       "      <th>flux_kurtosis</th>\n",
       "      <th>flux_mean</th>\n",
       "      <th>...</th>\n",
       "      <th>rmse_std</th>\n",
       "      <th>roloff_kurtosis</th>\n",
       "      <th>roloff_mean</th>\n",
       "      <th>roloff_skew</th>\n",
       "      <th>roloff_std</th>\n",
       "      <th>tempo</th>\n",
       "      <th>zcr_kurtosis</th>\n",
       "      <th>zcr_mean</th>\n",
       "      <th>zcr_skew</th>\n",
       "      <th>zcr_std</th>\n",
       "    </tr>\n",
       "  </thead>\n",
       "  <tbody>\n",
       "    <tr>\n",
       "      <th>5879</th>\n",
       "      <td>0.417087</td>\n",
       "      <td>1.131290</td>\n",
       "      <td>0.896740</td>\n",
       "      <td>0.653484</td>\n",
       "      <td>-0.071454</td>\n",
       "      <td>-0.949388</td>\n",
       "      <td>0.514809</td>\n",
       "      <td>1.398203</td>\n",
       "      <td>-0.710312</td>\n",
       "      <td>0.852178</td>\n",
       "      <td>...</td>\n",
       "      <td>-0.625782</td>\n",
       "      <td>-0.109964</td>\n",
       "      <td>0.732676</td>\n",
       "      <td>-0.163575</td>\n",
       "      <td>-0.431389</td>\n",
       "      <td>-0.885562</td>\n",
       "      <td>0.140342</td>\n",
       "      <td>1.717850</td>\n",
       "      <td>0.572242</td>\n",
       "      <td>1.171504</td>\n",
       "    </tr>\n",
       "    <tr>\n",
       "      <th>5458</th>\n",
       "      <td>-0.430164</td>\n",
       "      <td>0.396446</td>\n",
       "      <td>-0.314204</td>\n",
       "      <td>-1.154507</td>\n",
       "      <td>-0.340458</td>\n",
       "      <td>0.975517</td>\n",
       "      <td>-0.808548</td>\n",
       "      <td>-1.273408</td>\n",
       "      <td>-0.334303</td>\n",
       "      <td>-1.016499</td>\n",
       "      <td>...</td>\n",
       "      <td>-0.506292</td>\n",
       "      <td>-0.064258</td>\n",
       "      <td>0.256739</td>\n",
       "      <td>0.555976</td>\n",
       "      <td>-1.230545</td>\n",
       "      <td>-0.472355</td>\n",
       "      <td>-0.666136</td>\n",
       "      <td>0.904267</td>\n",
       "      <td>-0.839735</td>\n",
       "      <td>-0.602464</td>\n",
       "    </tr>\n",
       "    <tr>\n",
       "      <th>1758</th>\n",
       "      <td>-0.276003</td>\n",
       "      <td>-1.518328</td>\n",
       "      <td>0.281259</td>\n",
       "      <td>-1.084124</td>\n",
       "      <td>3.704449</td>\n",
       "      <td>-2.378763</td>\n",
       "      <td>2.629595</td>\n",
       "      <td>0.494530</td>\n",
       "      <td>-0.063726</td>\n",
       "      <td>-1.116668</td>\n",
       "      <td>...</td>\n",
       "      <td>-0.960753</td>\n",
       "      <td>-0.267928</td>\n",
       "      <td>-1.710023</td>\n",
       "      <td>0.262293</td>\n",
       "      <td>-1.016188</td>\n",
       "      <td>0.302407</td>\n",
       "      <td>-0.330078</td>\n",
       "      <td>-0.885054</td>\n",
       "      <td>0.072868</td>\n",
       "      <td>-1.183552</td>\n",
       "    </tr>\n",
       "    <tr>\n",
       "      <th>957</th>\n",
       "      <td>1.905831</td>\n",
       "      <td>-1.943976</td>\n",
       "      <td>2.372533</td>\n",
       "      <td>-1.715235</td>\n",
       "      <td>4.192446</td>\n",
       "      <td>-2.654797</td>\n",
       "      <td>2.857593</td>\n",
       "      <td>0.492545</td>\n",
       "      <td>1.610924</td>\n",
       "      <td>-2.190116</td>\n",
       "      <td>...</td>\n",
       "      <td>-1.449882</td>\n",
       "      <td>1.478786</td>\n",
       "      <td>-2.126546</td>\n",
       "      <td>2.031830</td>\n",
       "      <td>-1.868325</td>\n",
       "      <td>0.019557</td>\n",
       "      <td>-0.223334</td>\n",
       "      <td>-1.426988</td>\n",
       "      <td>-1.761702</td>\n",
       "      <td>-1.644390</td>\n",
       "    </tr>\n",
       "    <tr>\n",
       "      <th>6309</th>\n",
       "      <td>0.285016</td>\n",
       "      <td>1.439657</td>\n",
       "      <td>0.291514</td>\n",
       "      <td>1.482449</td>\n",
       "      <td>-0.941711</td>\n",
       "      <td>0.149562</td>\n",
       "      <td>-0.540119</td>\n",
       "      <td>1.268953</td>\n",
       "      <td>-0.033806</td>\n",
       "      <td>0.677824</td>\n",
       "      <td>...</td>\n",
       "      <td>0.591125</td>\n",
       "      <td>0.316831</td>\n",
       "      <td>1.980212</td>\n",
       "      <td>-2.049113</td>\n",
       "      <td>0.622727</td>\n",
       "      <td>0.019557</td>\n",
       "      <td>3.713169</td>\n",
       "      <td>0.172911</td>\n",
       "      <td>2.820090</td>\n",
       "      <td>1.200462</td>\n",
       "    </tr>\n",
       "  </tbody>\n",
       "</table>\n",
       "<p>5 rows × 77 columns</p>\n",
       "</div>"
      ],
      "text/plain": [
       "      centroid_kurtosis  centroid_mean  centroid_skew  centroid_std  \\\n",
       "5879           0.417087       1.131290       0.896740      0.653484   \n",
       "5458          -0.430164       0.396446      -0.314204     -1.154507   \n",
       "1758          -0.276003      -1.518328       0.281259     -1.084124   \n",
       "957            1.905831      -1.943976       2.372533     -1.715235   \n",
       "6309           0.285016       1.439657       0.291514      1.482449   \n",
       "\n",
       "      chroma_kurtosis  chroma_mean  chroma_skew  chroma_std  flux_kurtosis  \\\n",
       "5879        -0.071454    -0.949388     0.514809    1.398203      -0.710312   \n",
       "5458        -0.340458     0.975517    -0.808548   -1.273408      -0.334303   \n",
       "1758         3.704449    -2.378763     2.629595    0.494530      -0.063726   \n",
       "957          4.192446    -2.654797     2.857593    0.492545       1.610924   \n",
       "6309        -0.941711     0.149562    -0.540119    1.268953      -0.033806   \n",
       "\n",
       "      flux_mean  ...  rmse_std  roloff_kurtosis  roloff_mean  roloff_skew  \\\n",
       "5879   0.852178  ... -0.625782        -0.109964     0.732676    -0.163575   \n",
       "5458  -1.016499  ... -0.506292        -0.064258     0.256739     0.555976   \n",
       "1758  -1.116668  ... -0.960753        -0.267928    -1.710023     0.262293   \n",
       "957   -2.190116  ... -1.449882         1.478786    -2.126546     2.031830   \n",
       "6309   0.677824  ...  0.591125         0.316831     1.980212    -2.049113   \n",
       "\n",
       "      roloff_std     tempo  zcr_kurtosis  zcr_mean  zcr_skew   zcr_std  \n",
       "5879   -0.431389 -0.885562      0.140342  1.717850  0.572242  1.171504  \n",
       "5458   -1.230545 -0.472355     -0.666136  0.904267 -0.839735 -0.602464  \n",
       "1758   -1.016188  0.302407     -0.330078 -0.885054  0.072868 -1.183552  \n",
       "957    -1.868325  0.019557     -0.223334 -1.426988 -1.761702 -1.644390  \n",
       "6309    0.622727  0.019557      3.713169  0.172911  2.820090  1.200462  \n",
       "\n",
       "[5 rows x 77 columns]"
      ]
     },
     "execution_count": 38,
     "metadata": {},
     "output_type": "execute_result"
    }
   ],
   "source": [
    "X_train.head()"
   ]
  },
  {
   "cell_type": "code",
   "execution_count": 42,
   "metadata": {},
   "outputs": [],
   "source": [
    "def define_model(x_train, show=False):\n",
    "    \"\"\"\n",
    "    Defines Keras model to be trained\n",
    "    \"\"\"\n",
    "    model = models.Sequential()\n",
    "    model.add(layers.Dense(256, activation='relu', input_shape=(x_train.shape[1],)))\n",
    "    model.add(layers.Dropout(rate=0.25, noise_shape=None, seed=None))\n",
    "    model.add(layers.Dense(128, activation='relu'))\n",
    "    model.add(layers.Dropout(rate=0.25, noise_shape=None, seed=None))\n",
    "    model.add(layers.Dense(64, activation='relu'))\n",
    "    model.add(layers.Dropout(rate=0.25, noise_shape=None, seed=None))\n",
    "    model.add(layers.Dense(10, activation='softmax'))\n",
    "\n",
    "    if show:\n",
    "        print(model.summary())\n",
    "    return model"
   ]
  },
  {
   "cell_type": "code",
   "execution_count": 102,
   "metadata": {},
   "outputs": [
    {
     "name": "stdout",
     "output_type": "stream",
     "text": [
      "_________________________________________________________________\n",
      "Layer (type)                 Output Shape              Param #   \n",
      "=================================================================\n",
      "dense_33 (Dense)             (None, 256)               19968     \n",
      "_________________________________________________________________\n",
      "dropout_25 (Dropout)         (None, 256)               0         \n",
      "_________________________________________________________________\n",
      "dense_34 (Dense)             (None, 128)               32896     \n",
      "_________________________________________________________________\n",
      "dropout_26 (Dropout)         (None, 128)               0         \n",
      "_________________________________________________________________\n",
      "dense_35 (Dense)             (None, 64)                8256      \n",
      "_________________________________________________________________\n",
      "dropout_27 (Dropout)         (None, 64)                0         \n",
      "_________________________________________________________________\n",
      "dense_36 (Dense)             (None, 10)                650       \n",
      "=================================================================\n",
      "Total params: 61,770\n",
      "Trainable params: 61,770\n",
      "Non-trainable params: 0\n",
      "_________________________________________________________________\n",
      "None\n"
     ]
    }
   ],
   "source": [
    "modelo=define_model(X_train,True)"
   ]
  },
  {
   "cell_type": "code",
   "execution_count": 103,
   "metadata": {},
   "outputs": [
    {
     "data": {
      "text/plain": [
       "(1782, 77)"
      ]
     },
     "execution_count": 103,
     "metadata": {},
     "output_type": "execute_result"
    }
   ],
   "source": [
    "X_test.shape"
   ]
  },
  {
   "cell_type": "code",
   "execution_count": 104,
   "metadata": {},
   "outputs": [],
   "source": [
    "def train_model(model, xtrain, xtest, ytrain, ytest, epochs=60, batch_size=265, val_split=0.1):\n",
    "    \"\"\"\n",
    "    Trains the model with the given data and set parameters (epochs)\n",
    "    \"\"\"\n",
    "    model.compile(optimizer='adam',\n",
    "                   loss='sparse_categorical_crossentropy',\n",
    "                   metrics=['accuracy'])\n",
    "    history = model.fit(xtrain,\n",
    "                        ytrain,\n",
    "                        epochs=epochs,\n",
    "                        batch_size=batch_size,\n",
    "                        validation_split=val_split)\n",
    "    train_acc = round(history.history['acc'][-1],3)\n",
    "    train_loss = round(history.history['loss'][-1],3)\n",
    "    val_acc = round(history.history['val_acc'][-1],3)\n",
    "    val_loss = round(history.history['val_loss'][-1],3)\n",
    "    print(f'Train accuracy: {train_acc} - Train loss: {train_loss}')\n",
    "    print(f'Validation accuracy: {val_acc} - Validation loss: {val_loss}')\n",
    "    test_loss, test_acc = model.evaluate(xtest, ytest)\n",
    "    print(f'Test accuracy: {test_acc} - Test loss: {test_loss}')\n",
    "    return model"
   ]
  },
  {
   "cell_type": "code",
   "execution_count": 105,
   "metadata": {},
   "outputs": [
    {
     "name": "stdout",
     "output_type": "stream",
     "text": [
      "Train on 6415 samples, validate on 713 samples\n",
      "Epoch 1/60\n",
      "6415/6415 [==============================] - 2s 354us/step - loss: 2.0095 - acc: 0.2884 - val_loss: 1.4593 - val_acc: 0.5119\n",
      "Epoch 2/60\n",
      "6415/6415 [==============================] - 0s 60us/step - loss: 1.4857 - acc: 0.4575 - val_loss: 1.0886 - val_acc: 0.6255\n",
      "Epoch 3/60\n",
      "6415/6415 [==============================] - 0s 57us/step - loss: 1.2352 - acc: 0.5620 - val_loss: 0.9126 - val_acc: 0.7055\n",
      "Epoch 4/60\n",
      "6415/6415 [==============================] - 0s 53us/step - loss: 1.0484 - acc: 0.6326 - val_loss: 0.7947 - val_acc: 0.7504\n",
      "Epoch 5/60\n",
      "6415/6415 [==============================] - 0s 71us/step - loss: 0.9646 - acc: 0.6686 - val_loss: 0.7067 - val_acc: 0.7714\n",
      "Epoch 6/60\n",
      "6415/6415 [==============================] - 0s 70us/step - loss: 0.8767 - acc: 0.7002 - val_loss: 0.6510 - val_acc: 0.7896\n",
      "Epoch 7/60\n",
      "6415/6415 [==============================] - 0s 71us/step - loss: 0.8115 - acc: 0.7263 - val_loss: 0.6134 - val_acc: 0.8093\n",
      "Epoch 8/60\n",
      "6415/6415 [==============================] - 0s 53us/step - loss: 0.7502 - acc: 0.7482 - val_loss: 0.5812 - val_acc: 0.8079\n",
      "Epoch 9/60\n",
      "6415/6415 [==============================] - 0s 51us/step - loss: 0.7123 - acc: 0.7559 - val_loss: 0.5587 - val_acc: 0.8205\n",
      "Epoch 10/60\n",
      "6415/6415 [==============================] - 0s 51us/step - loss: 0.6644 - acc: 0.7786 - val_loss: 0.5189 - val_acc: 0.8345\n",
      "Epoch 11/60\n",
      "6415/6415 [==============================] - 0s 57us/step - loss: 0.6304 - acc: 0.7877 - val_loss: 0.4955 - val_acc: 0.8415\n",
      "Epoch 12/60\n",
      "6415/6415 [==============================] - 0s 57us/step - loss: 0.6019 - acc: 0.7998 - val_loss: 0.4871 - val_acc: 0.8471\n",
      "Epoch 13/60\n",
      "6415/6415 [==============================] - 0s 52us/step - loss: 0.5701 - acc: 0.8089 - val_loss: 0.4533 - val_acc: 0.8471\n",
      "Epoch 14/60\n",
      "6415/6415 [==============================] - 0s 60us/step - loss: 0.5515 - acc: 0.8103 - val_loss: 0.4475 - val_acc: 0.8569\n",
      "Epoch 15/60\n",
      "6415/6415 [==============================] - 0s 62us/step - loss: 0.5310 - acc: 0.8224 - val_loss: 0.4230 - val_acc: 0.8640\n",
      "Epoch 16/60\n",
      "6415/6415 [==============================] - 0s 61us/step - loss: 0.5017 - acc: 0.8310 - val_loss: 0.4073 - val_acc: 0.8752\n",
      "Epoch 17/60\n",
      "6415/6415 [==============================] - 0s 60us/step - loss: 0.4717 - acc: 0.8457 - val_loss: 0.3923 - val_acc: 0.8696\n",
      "Epoch 18/60\n",
      "6415/6415 [==============================] - 0s 58us/step - loss: 0.4640 - acc: 0.8443 - val_loss: 0.3831 - val_acc: 0.8710\n",
      "Epoch 19/60\n",
      "6415/6415 [==============================] - 0s 77us/step - loss: 0.4382 - acc: 0.8524 - val_loss: 0.3661 - val_acc: 0.8710\n",
      "Epoch 20/60\n",
      "6415/6415 [==============================] - 0s 74us/step - loss: 0.4184 - acc: 0.8577 - val_loss: 0.3620 - val_acc: 0.8766\n",
      "Epoch 21/60\n",
      "6415/6415 [==============================] - 0s 75us/step - loss: 0.4052 - acc: 0.8631 - val_loss: 0.3524 - val_acc: 0.8780\n",
      "Epoch 22/60\n",
      "6415/6415 [==============================] - 0s 65us/step - loss: 0.3941 - acc: 0.8717 - val_loss: 0.3367 - val_acc: 0.8822\n",
      "Epoch 23/60\n",
      "6415/6415 [==============================] - 0s 50us/step - loss: 0.3611 - acc: 0.8812 - val_loss: 0.3262 - val_acc: 0.8850\n",
      "Epoch 24/60\n",
      "6415/6415 [==============================] - 0s 61us/step - loss: 0.3612 - acc: 0.8787 - val_loss: 0.3184 - val_acc: 0.8934\n",
      "Epoch 25/60\n",
      "6415/6415 [==============================] - 0s 51us/step - loss: 0.3601 - acc: 0.8786 - val_loss: 0.3078 - val_acc: 0.8990\n",
      "Epoch 26/60\n",
      "6415/6415 [==============================] - 0s 50us/step - loss: 0.3460 - acc: 0.8843 - val_loss: 0.3184 - val_acc: 0.8990\n",
      "Epoch 27/60\n",
      "6415/6415 [==============================] - 0s 50us/step - loss: 0.3167 - acc: 0.8929 - val_loss: 0.3096 - val_acc: 0.8948\n",
      "Epoch 28/60\n",
      "6415/6415 [==============================] - 0s 62us/step - loss: 0.3158 - acc: 0.8931 - val_loss: 0.2908 - val_acc: 0.8962\n",
      "Epoch 29/60\n",
      "6415/6415 [==============================] - 0s 47us/step - loss: 0.2969 - acc: 0.9021 - val_loss: 0.2966 - val_acc: 0.9074\n",
      "Epoch 30/60\n",
      "6415/6415 [==============================] - 0s 50us/step - loss: 0.2834 - acc: 0.9015 - val_loss: 0.2905 - val_acc: 0.9074\n",
      "Epoch 31/60\n",
      "6415/6415 [==============================] - 0s 54us/step - loss: 0.2725 - acc: 0.9104 - val_loss: 0.2839 - val_acc: 0.9046\n",
      "Epoch 32/60\n",
      "6415/6415 [==============================] - 0s 54us/step - loss: 0.2684 - acc: 0.9090 - val_loss: 0.2700 - val_acc: 0.9158\n",
      "Epoch 33/60\n",
      "6415/6415 [==============================] - 0s 48us/step - loss: 0.2661 - acc: 0.9105 - val_loss: 0.2658 - val_acc: 0.9187\n",
      "Epoch 34/60\n",
      "6415/6415 [==============================] - 0s 57us/step - loss: 0.2573 - acc: 0.9158 - val_loss: 0.2624 - val_acc: 0.9173\n",
      "Epoch 35/60\n",
      "6415/6415 [==============================] - 0s 54us/step - loss: 0.2459 - acc: 0.9191 - val_loss: 0.2741 - val_acc: 0.9229\n",
      "Epoch 36/60\n",
      "6415/6415 [==============================] - 0s 64us/step - loss: 0.2370 - acc: 0.9188 - val_loss: 0.2613 - val_acc: 0.9229\n",
      "Epoch 37/60\n",
      "6415/6415 [==============================] - 0s 72us/step - loss: 0.2298 - acc: 0.9217 - val_loss: 0.2617 - val_acc: 0.9144\n",
      "Epoch 38/60\n",
      "6415/6415 [==============================] - 0s 74us/step - loss: 0.2290 - acc: 0.9225 - val_loss: 0.2529 - val_acc: 0.9173\n",
      "Epoch 39/60\n",
      "6415/6415 [==============================] - 0s 51us/step - loss: 0.2204 - acc: 0.9277 - val_loss: 0.2547 - val_acc: 0.9215\n",
      "Epoch 40/60\n",
      "6415/6415 [==============================] - 0s 46us/step - loss: 0.2198 - acc: 0.9246 - val_loss: 0.2547 - val_acc: 0.9257\n",
      "Epoch 41/60\n",
      "6415/6415 [==============================] - 0s 48us/step - loss: 0.2095 - acc: 0.9267 - val_loss: 0.2653 - val_acc: 0.9201\n",
      "Epoch 42/60\n",
      "6415/6415 [==============================] - 0s 50us/step - loss: 0.1996 - acc: 0.9308 - val_loss: 0.2651 - val_acc: 0.9271\n",
      "Epoch 43/60\n",
      "6415/6415 [==============================] - 0s 56us/step - loss: 0.2074 - acc: 0.9336 - val_loss: 0.2452 - val_acc: 0.9229\n",
      "Epoch 44/60\n",
      "6415/6415 [==============================] - 0s 53us/step - loss: 0.1977 - acc: 0.9339 - val_loss: 0.2362 - val_acc: 0.9327\n",
      "Epoch 45/60\n",
      "6415/6415 [==============================] - 0s 52us/step - loss: 0.1789 - acc: 0.9414 - val_loss: 0.2311 - val_acc: 0.9313\n",
      "Epoch 46/60\n",
      "6415/6415 [==============================] - 0s 53us/step - loss: 0.1788 - acc: 0.9392 - val_loss: 0.2369 - val_acc: 0.9285\n",
      "Epoch 47/60\n",
      "6415/6415 [==============================] - 0s 56us/step - loss: 0.1703 - acc: 0.9414 - val_loss: 0.2493 - val_acc: 0.9243\n",
      "Epoch 48/60\n",
      "6415/6415 [==============================] - 0s 57us/step - loss: 0.1761 - acc: 0.9400 - val_loss: 0.2423 - val_acc: 0.9299\n",
      "Epoch 49/60\n",
      "6415/6415 [==============================] - 0s 54us/step - loss: 0.1649 - acc: 0.9443 - val_loss: 0.2408 - val_acc: 0.9299\n",
      "Epoch 50/60\n",
      "6415/6415 [==============================] - 0s 52us/step - loss: 0.1680 - acc: 0.9453 - val_loss: 0.2419 - val_acc: 0.9271\n",
      "Epoch 51/60\n",
      "6415/6415 [==============================] - 0s 54us/step - loss: 0.1607 - acc: 0.9473 - val_loss: 0.2265 - val_acc: 0.9257\n",
      "Epoch 52/60\n",
      "6415/6415 [==============================] - 0s 54us/step - loss: 0.1618 - acc: 0.9453 - val_loss: 0.2385 - val_acc: 0.9187\n",
      "Epoch 53/60\n",
      "6415/6415 [==============================] - 0s 53us/step - loss: 0.1503 - acc: 0.9512 - val_loss: 0.2326 - val_acc: 0.9285\n",
      "Epoch 54/60\n",
      "6415/6415 [==============================] - 0s 55us/step - loss: 0.1498 - acc: 0.9481 - val_loss: 0.2333 - val_acc: 0.9313\n",
      "Epoch 55/60\n",
      "6415/6415 [==============================] - 0s 53us/step - loss: 0.1611 - acc: 0.9437 - val_loss: 0.2271 - val_acc: 0.9341\n",
      "Epoch 56/60\n",
      "6415/6415 [==============================] - 0s 55us/step - loss: 0.1443 - acc: 0.9517 - val_loss: 0.2237 - val_acc: 0.9327\n",
      "Epoch 57/60\n",
      "6415/6415 [==============================] - 0s 52us/step - loss: 0.1416 - acc: 0.9535 - val_loss: 0.2270 - val_acc: 0.9313\n",
      "Epoch 58/60\n",
      "6415/6415 [==============================] - 0s 53us/step - loss: 0.1411 - acc: 0.9511 - val_loss: 0.2297 - val_acc: 0.9341\n",
      "Epoch 59/60\n",
      "6415/6415 [==============================] - 0s 54us/step - loss: 0.1359 - acc: 0.9565 - val_loss: 0.2305 - val_acc: 0.9313\n",
      "Epoch 60/60\n",
      "6415/6415 [==============================] - 0s 63us/step - loss: 0.1312 - acc: 0.9559 - val_loss: 0.2306 - val_acc: 0.9313\n",
      "Train accuracy: 0.956 - Train loss: 0.131\n",
      "Validation accuracy: 0.931 - Validation loss: 0.231\n",
      "1782/1782 [==============================] - 0s 114us/step\n",
      "Test accuracy: 0.9270482601809047 - Test loss: 0.2514295020421881\n"
     ]
    }
   ],
   "source": [
    "modelo=train_model(modelo,X_train, X_test, y_train, y_test)"
   ]
  },
  {
   "cell_type": "code",
   "execution_count": 75,
   "metadata": {},
   "outputs": [],
   "source": [
    "modelo.compile(optimizer='adam',\n",
    "              loss='sparse_categorical_crossentropy',\n",
    "              metrics=['accuracy'])"
   ]
  },
  {
   "cell_type": "code",
   "execution_count": 76,
   "metadata": {},
   "outputs": [
    {
     "name": "stdout",
     "output_type": "stream",
     "text": [
      "Train on 6415 samples, validate on 713 samples\n",
      "Epoch 1/60\n",
      "6415/6415 [==============================] - 2s 362us/step - loss: 1.9885 - acc: 0.2921 - val_loss: 1.4230 - val_acc: 0.4909\n",
      "Epoch 2/60\n",
      "6415/6415 [==============================] - 0s 50us/step - loss: 1.4591 - acc: 0.4812 - val_loss: 1.0787 - val_acc: 0.6396\n",
      "Epoch 3/60\n",
      "6415/6415 [==============================] - 0s 47us/step - loss: 1.2184 - acc: 0.5690 - val_loss: 0.8974 - val_acc: 0.7167\n",
      "Epoch 4/60\n",
      "6415/6415 [==============================] - 0s 47us/step - loss: 1.0655 - acc: 0.6256 - val_loss: 0.7754 - val_acc: 0.7560\n",
      "Epoch 5/60\n",
      "6415/6415 [==============================] - 0s 51us/step - loss: 0.9634 - acc: 0.6733 - val_loss: 0.7228 - val_acc: 0.7658\n",
      "Epoch 6/60\n",
      "6415/6415 [==============================] - 0s 47us/step - loss: 0.8790 - acc: 0.6946 - val_loss: 0.6523 - val_acc: 0.7924\n",
      "Epoch 7/60\n",
      "6415/6415 [==============================] - 0s 52us/step - loss: 0.8258 - acc: 0.7116 - val_loss: 0.6216 - val_acc: 0.8050\n",
      "Epoch 8/60\n",
      "6415/6415 [==============================] - 0s 53us/step - loss: 0.7787 - acc: 0.7317 - val_loss: 0.5838 - val_acc: 0.8149\n",
      "Epoch 9/60\n",
      "6415/6415 [==============================] - 0s 50us/step - loss: 0.7322 - acc: 0.7512 - val_loss: 0.5558 - val_acc: 0.8345\n",
      "Epoch 10/60\n",
      "6415/6415 [==============================] - 0s 52us/step - loss: 0.6988 - acc: 0.7621 - val_loss: 0.5351 - val_acc: 0.8233\n",
      "Epoch 11/60\n",
      "6415/6415 [==============================] - 0s 53us/step - loss: 0.6573 - acc: 0.7782 - val_loss: 0.5067 - val_acc: 0.8387\n",
      "Epoch 12/60\n",
      "6415/6415 [==============================] - 0s 53us/step - loss: 0.6407 - acc: 0.7799 - val_loss: 0.4818 - val_acc: 0.8387\n",
      "Epoch 13/60\n",
      "6415/6415 [==============================] - 0s 55us/step - loss: 0.5943 - acc: 0.7959 - val_loss: 0.4700 - val_acc: 0.8373\n",
      "Epoch 14/60\n",
      "6415/6415 [==============================] - 0s 53us/step - loss: 0.5726 - acc: 0.8084 - val_loss: 0.4449 - val_acc: 0.8569\n",
      "Epoch 15/60\n",
      "6415/6415 [==============================] - 0s 54us/step - loss: 0.5607 - acc: 0.8069 - val_loss: 0.4476 - val_acc: 0.8626\n",
      "Epoch 16/60\n",
      "6415/6415 [==============================] - 0s 58us/step - loss: 0.5410 - acc: 0.8221 - val_loss: 0.4374 - val_acc: 0.8626\n",
      "Epoch 17/60\n",
      "6415/6415 [==============================] - 0s 52us/step - loss: 0.5247 - acc: 0.8268 - val_loss: 0.4223 - val_acc: 0.8696\n",
      "Epoch 18/60\n",
      "6415/6415 [==============================] - 0s 53us/step - loss: 0.4838 - acc: 0.8360 - val_loss: 0.3899 - val_acc: 0.8794\n",
      "Epoch 19/60\n",
      "6415/6415 [==============================] - 0s 54us/step - loss: 0.4849 - acc: 0.8329 - val_loss: 0.3847 - val_acc: 0.8766\n",
      "Epoch 20/60\n",
      "6415/6415 [==============================] - 0s 51us/step - loss: 0.4608 - acc: 0.8427 - val_loss: 0.3753 - val_acc: 0.8780\n",
      "Epoch 21/60\n",
      "6415/6415 [==============================] - 0s 53us/step - loss: 0.4474 - acc: 0.8480 - val_loss: 0.3788 - val_acc: 0.8738\n",
      "Epoch 22/60\n",
      "6415/6415 [==============================] - 0s 52us/step - loss: 0.4175 - acc: 0.8541 - val_loss: 0.3655 - val_acc: 0.8822\n",
      "Epoch 23/60\n",
      "6415/6415 [==============================] - 0s 54us/step - loss: 0.4002 - acc: 0.8684 - val_loss: 0.3330 - val_acc: 0.8892\n",
      "Epoch 24/60\n",
      "6415/6415 [==============================] - 0s 52us/step - loss: 0.4031 - acc: 0.8631 - val_loss: 0.3351 - val_acc: 0.8892\n",
      "Epoch 25/60\n",
      "6415/6415 [==============================] - 0s 56us/step - loss: 0.3865 - acc: 0.8719 - val_loss: 0.3283 - val_acc: 0.8920\n",
      "Epoch 26/60\n",
      "6415/6415 [==============================] - 0s 67us/step - loss: 0.3900 - acc: 0.8708 - val_loss: 0.3178 - val_acc: 0.8892\n",
      "Epoch 27/60\n",
      "6415/6415 [==============================] - 0s 74us/step - loss: 0.3614 - acc: 0.8809 - val_loss: 0.3011 - val_acc: 0.9060\n",
      "Epoch 28/60\n",
      "6415/6415 [==============================] - 0s 54us/step - loss: 0.3461 - acc: 0.8832 - val_loss: 0.2959 - val_acc: 0.9060\n",
      "Epoch 29/60\n",
      "6415/6415 [==============================] - 0s 52us/step - loss: 0.3452 - acc: 0.8845 - val_loss: 0.2843 - val_acc: 0.9060\n",
      "Epoch 30/60\n",
      "6415/6415 [==============================] - 0s 53us/step - loss: 0.3319 - acc: 0.8892 - val_loss: 0.2780 - val_acc: 0.9088\n",
      "Epoch 31/60\n",
      "6415/6415 [==============================] - 0s 62us/step - loss: 0.3210 - acc: 0.8926 - val_loss: 0.2769 - val_acc: 0.9074\n",
      "Epoch 32/60\n",
      "6415/6415 [==============================] - 0s 62us/step - loss: 0.3175 - acc: 0.8979 - val_loss: 0.2819 - val_acc: 0.9018\n",
      "Epoch 33/60\n",
      "6415/6415 [==============================] - 0s 62us/step - loss: 0.3078 - acc: 0.8940 - val_loss: 0.2674 - val_acc: 0.9116\n",
      "Epoch 34/60\n",
      "6415/6415 [==============================] - 0s 68us/step - loss: 0.3025 - acc: 0.8960 - val_loss: 0.2727 - val_acc: 0.9144\n",
      "Epoch 35/60\n",
      "6415/6415 [==============================] - 0s 57us/step - loss: 0.2779 - acc: 0.9085 - val_loss: 0.2619 - val_acc: 0.9088\n",
      "Epoch 36/60\n",
      "6415/6415 [==============================] - 0s 68us/step - loss: 0.2664 - acc: 0.9104 - val_loss: 0.2680 - val_acc: 0.9074\n",
      "Epoch 37/60\n",
      "6415/6415 [==============================] - 0s 62us/step - loss: 0.2697 - acc: 0.9077 - val_loss: 0.2556 - val_acc: 0.9088\n",
      "Epoch 38/60\n",
      "6415/6415 [==============================] - 0s 56us/step - loss: 0.2668 - acc: 0.9110 - val_loss: 0.2573 - val_acc: 0.9187\n",
      "Epoch 39/60\n",
      "6415/6415 [==============================] - 0s 55us/step - loss: 0.2549 - acc: 0.9172 - val_loss: 0.2549 - val_acc: 0.9088\n",
      "Epoch 40/60\n",
      "6415/6415 [==============================] - 0s 72us/step - loss: 0.2406 - acc: 0.9182 - val_loss: 0.2385 - val_acc: 0.9130\n",
      "Epoch 41/60\n",
      "6415/6415 [==============================] - 0s 55us/step - loss: 0.2347 - acc: 0.9214 - val_loss: 0.2510 - val_acc: 0.9201\n",
      "Epoch 42/60\n",
      "6415/6415 [==============================] - 0s 64us/step - loss: 0.2657 - acc: 0.9115 - val_loss: 0.2519 - val_acc: 0.9201\n",
      "Epoch 43/60\n",
      "6415/6415 [==============================] - 0s 54us/step - loss: 0.2299 - acc: 0.9247 - val_loss: 0.2518 - val_acc: 0.9144\n",
      "Epoch 44/60\n",
      "6415/6415 [==============================] - 0s 55us/step - loss: 0.2295 - acc: 0.9249 - val_loss: 0.2558 - val_acc: 0.9187\n",
      "Epoch 45/60\n",
      "6415/6415 [==============================] - 0s 63us/step - loss: 0.2203 - acc: 0.9284 - val_loss: 0.2454 - val_acc: 0.9229\n",
      "Epoch 46/60\n",
      "6415/6415 [==============================] - 0s 57us/step - loss: 0.2156 - acc: 0.9286 - val_loss: 0.2425 - val_acc: 0.9257\n",
      "Epoch 47/60\n",
      "6415/6415 [==============================] - 0s 55us/step - loss: 0.2085 - acc: 0.9295 - val_loss: 0.2390 - val_acc: 0.9187\n",
      "Epoch 48/60\n",
      "6415/6415 [==============================] - 0s 59us/step - loss: 0.2231 - acc: 0.9267 - val_loss: 0.2302 - val_acc: 0.9271\n",
      "Epoch 49/60\n",
      "6415/6415 [==============================] - 0s 55us/step - loss: 0.1963 - acc: 0.9328 - val_loss: 0.2288 - val_acc: 0.9257\n",
      "Epoch 50/60\n",
      "6415/6415 [==============================] - 0s 55us/step - loss: 0.1995 - acc: 0.9341 - val_loss: 0.2302 - val_acc: 0.9229\n",
      "Epoch 51/60\n",
      "6415/6415 [==============================] - 0s 62us/step - loss: 0.2037 - acc: 0.9309 - val_loss: 0.2275 - val_acc: 0.9257\n",
      "Epoch 52/60\n",
      "6415/6415 [==============================] - 0s 54us/step - loss: 0.1838 - acc: 0.9378 - val_loss: 0.2234 - val_acc: 0.9215\n",
      "Epoch 53/60\n",
      "6415/6415 [==============================] - 0s 63us/step - loss: 0.1860 - acc: 0.9375 - val_loss: 0.2299 - val_acc: 0.9243\n",
      "Epoch 54/60\n",
      "6415/6415 [==============================] - 0s 57us/step - loss: 0.1844 - acc: 0.9394 - val_loss: 0.2196 - val_acc: 0.9243\n",
      "Epoch 55/60\n",
      "6415/6415 [==============================] - 0s 50us/step - loss: 0.1681 - acc: 0.9429 - val_loss: 0.2149 - val_acc: 0.9299\n",
      "Epoch 56/60\n",
      "6415/6415 [==============================] - 0s 60us/step - loss: 0.1716 - acc: 0.9426 - val_loss: 0.2094 - val_acc: 0.9229\n",
      "Epoch 57/60\n",
      "6415/6415 [==============================] - 0s 63us/step - loss: 0.1619 - acc: 0.9451 - val_loss: 0.2118 - val_acc: 0.9271\n",
      "Epoch 58/60\n",
      "6415/6415 [==============================] - 0s 60us/step - loss: 0.1725 - acc: 0.9437 - val_loss: 0.2094 - val_acc: 0.9355\n",
      "Epoch 59/60\n",
      "6415/6415 [==============================] - 0s 56us/step - loss: 0.1529 - acc: 0.9493 - val_loss: 0.2057 - val_acc: 0.9229\n",
      "Epoch 60/60\n",
      "6415/6415 [==============================] - 0s 53us/step - loss: 0.1546 - acc: 0.9472 - val_loss: 0.2071 - val_acc: 0.9243\n"
     ]
    }
   ],
   "source": [
    "history = modelo.fit(X_train,\n",
    "                    y_train,\n",
    "                    epochs=60,\n",
    "                    batch_size=256,validation_split=0.1)"
   ]
  },
  {
   "cell_type": "code",
   "execution_count": 53,
   "metadata": {},
   "outputs": [
    {
     "data": {
      "text/plain": [
       "0.9438990110434791"
      ]
     },
     "execution_count": 53,
     "metadata": {},
     "output_type": "execute_result"
    }
   ],
   "source": []
  },
  {
   "cell_type": "code",
   "execution_count": 81,
   "metadata": {},
   "outputs": [
    {
     "name": "stdout",
     "output_type": "stream",
     "text": [
      "1782/1782 [==============================] - 0s 102us/step\n"
     ]
    }
   ],
   "source": [
    "test_loss, test_acc = modelo.evaluate(X_test,y_test)"
   ]
  },
  {
   "cell_type": "code",
   "execution_count": 82,
   "metadata": {},
   "outputs": [
    {
     "name": "stdout",
     "output_type": "stream",
     "text": [
      "0.2556446020551001 0.9270482601809047\n"
     ]
    }
   ],
   "source": [
    "print(test_loss, test_acc)"
   ]
  },
  {
   "cell_type": "code",
   "execution_count": 17,
   "metadata": {},
   "outputs": [
    {
     "data": {
      "image/png": "[encoded data removed]",
      "text/plain": [
       "<Figure size 1080x504 with 2 Axes>"
      ]
     },
     "metadata": {
      "needs_background": "light"
     },
     "output_type": "display_data"
    }
   ],
   "source": [
    "plt.figure(figsize=(15,7))\n",
    "\n",
    "plt.subplot(1,2,1)\n",
    "plt.plot(history.history['acc'], label='train')\n",
    "plt.plot(history.history['val_acc'], label='validation')\n",
    "plt.title('Accuracy')\n",
    "plt.xlabel('Epochs')\n",
    "plt.ylabel('Accuracy')\n",
    "plt.legend()\n",
    "\n",
    "plt.subplot(1,2,2)\n",
    "plt.plot(history.history['loss'], label='train')\n",
    "plt.plot(history.history['val_loss'], label='validation')\n",
    "plt.title('Loss')\n",
    "plt.xlabel('Epochs')\n",
    "plt.ylabel('Loss')\n",
    "plt.legend()\n",
    "\n",
    "plt.tight_layout()\n",
    "plt.show()\n"
   ]
  },
  {
   "cell_type": "code",
   "execution_count": 18,
   "metadata": {},
   "outputs": [],
   "source": [
    "#http://scikit-learn.org/stable/auto_examples/model_selection/plot_confusion_matrix.html\n",
    "def plot_confusion_matrix(cm, classes,\n",
    "                          normalize=False,\n",
    "                          title='Confusion matrix',\n",
    "                          cmap=plt.cm.Blues):\n",
    "    \"\"\"\n",
    "    This function prints and plots the confusion matrix.\n",
    "    Normalization can be applied by setting `normalize=True`.\n",
    "    \"\"\"\n",
    "    if normalize:\n",
    "        cm = cm.astype('float') / cm.sum(axis=1)[:, np.newaxis]\n",
    "        print(\"Normalized confusion matrix\")\n",
    "    else:\n",
    "        print('Confusion matrix, without normalization')\n",
    "\n",
    "    plt.imshow(cm, interpolation='nearest', cmap=cmap)\n",
    "    plt.title(title)\n",
    "    plt.colorbar()\n",
    "    tick_marks = np.arange(len(classes))\n",
    "    plt.xticks(tick_marks, classes, rotation=45)\n",
    "    plt.yticks(tick_marks, classes)\n",
    "\n",
    "    fmt = '.2f' if normalize else 'd'\n",
    "    thresh = cm.max() / 2.\n",
    "    for i, j in itertools.product(range(cm.shape[0]), range(cm.shape[1])):\n",
    "        plt.text(j, i, format(cm[i, j], fmt),\n",
    "                 horizontalalignment=\"center\",\n",
    "                 color=\"white\" if cm[i, j] > thresh else \"black\")\n",
    "\n",
    "    plt.tight_layout(pad=0.4,w_pad=0.5,h_pad=1)\n",
    "    plt.ylabel('True label')\n",
    "    plt.xlabel('Predicted label')"
   ]
  },
  {
   "cell_type": "code",
   "execution_count": 20,
   "metadata": {},
   "outputs": [
    {
     "name": "stdout",
     "output_type": "stream",
     "text": [
      "Normalized confusion matrix\n"
     ]
    },
    {
     "data": {
      "image/png": "[encoded data removed]",
      "text/plain": [
       "<Figure size 576x576 with 2 Axes>"
      ]
     },
     "metadata": {
      "needs_background": "light"
     },
     "output_type": "display_data"
    }
   ],
   "source": [
    "from sklearn.metrics import confusion_matrix\n",
    "preds = model1.predict_classes(X_test)\n",
    "cm = confusion_matrix(preds,y_test)\n",
    "keys = OrderedDict(sorted(GENRES.items(), key=lambda t: t[1])).keys()\n",
    "\n",
    "plt.figure(figsize=(8,8))\n",
    "plot_confusion_matrix(cm, keys, normalize=True)"
   ]
  },
  {
   "cell_type": "code",
   "execution_count": 114,
   "metadata": {},
   "outputs": [
    {
     "name": "stdout",
     "output_type": "stream",
     "text": [
      "10/10 [==============================] - 0s 1ms/step\n",
      "0.4693319797515869 0.800000011920929\n"
     ]
    }
   ],
   "source": [
    "#\n",
    "test_loss, test_acc = model1.evaluate(Xt1,yt1)\n",
    "print(test_loss, test_acc)"
   ]
  },
  {
   "cell_type": "code",
   "execution_count": 115,
   "metadata": {},
   "outputs": [
    {
     "data": {
      "text/plain": [
       "array([2, 1, 2, 3, 4, 5, 6, 7, 9, 9])"
      ]
     },
     "execution_count": 115,
     "metadata": {},
     "output_type": "execute_result"
    }
   ],
   "source": [
    "model1.predict_classes(Xt1)"
   ]
  },
  {
   "cell_type": "code",
   "execution_count": 116,
   "metadata": {},
   "outputs": [
    {
     "name": "stdout",
     "output_type": "stream",
     "text": [
      "30/30 [==============================] - 0s 347us/step\n",
      "0.7381046414375305 0.8666666746139526\n"
     ]
    }
   ],
   "source": [
    "test_loss, test_acc = model1.evaluate(Xt3,yt3)\n",
    "print(test_loss, test_acc)"
   ]
  },
  {
   "cell_type": "code",
   "execution_count": 118,
   "metadata": {},
   "outputs": [
    {
     "name": "stdout",
     "output_type": "stream",
     "text": [
      "1782/1782 [==============================] - 0s 95us/step\n",
      "0.25669951081342834 0.9214365879025658\n"
     ]
    }
   ],
   "source": [
    "test_loss, test_acc = model1.evaluate(X_test,y_test)\n",
    "print(test_loss, test_acc)"
   ]
  },
  {
   "cell_type": "code",
   "execution_count": 1,
   "metadata": {},
   "outputs": [
    {
     "ename": "NameError",
     "evalue": "name 'model1' is not defined",
     "output_type": "error",
     "traceback": [
      "\u001b[0;31m---------------------------------------------------------------------------\u001b[0m",
      "\u001b[0;31mNameError\u001b[0m                                 Traceback (most recent call last)",
      "\u001b[0;32m<ipython-input-1-f7bcb44436cc>\u001b[0m in \u001b[0;36m<module>\u001b[0;34m\u001b[0m\n\u001b[0;32m----> 1\u001b[0;31m \u001b[0mmodel1\u001b[0m\u001b[0;34m.\u001b[0m\u001b[0msave\u001b[0m\u001b[0;34m(\u001b[0m\u001b[0;34m'./Models/FN_NNt.h5'\u001b[0m\u001b[0;34m)\u001b[0m\u001b[0;34m\u001b[0m\u001b[0;34m\u001b[0m\u001b[0m\n\u001b[0m",
      "\u001b[0;31mNameError\u001b[0m: name 'model1' is not defined"
     ]
    }
   ],
   "source": [
    "model1.save('./Models/FN_NNt.h5')"
   ]
  },
  {
   "cell_type": "code",
   "execution_count": null,
   "metadata": {},
   "outputs": [],
   "source": []
  }
 ],
 "metadata": {
  "kernelspec": {
   "display_name": "Python 3",
   "language": "python",
   "name": "python3"
  },
  "language_info": {
   "codemirror_mode": {
    "name": "ipython",
    "version": 3
   },
   "file_extension": ".py",
   "mimetype": "text/x-python",
   "name": "python",
   "nbconvert_exporter": "python",
   "pygments_lexer": "ipython3",
   "version": "3.6.9"
  }
 },
 "nbformat": 4,
 "nbformat_minor": 4
}
