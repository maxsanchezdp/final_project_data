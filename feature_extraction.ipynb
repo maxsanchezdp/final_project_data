{
 "cells": [
  {
   "cell_type": "code",
   "execution_count": 2,
   "metadata": {},
   "outputs": [],
   "source": [
    "# Libraries for feature extraction:\n",
    "import librosa\n",
    "import pandas as pd\n",
    "import numpy as np\n",
    "import matplotlib.pyplot as plt\n",
    "%matplotlib inline\n",
    "import os\n",
    "from PIL import Image\n",
    "import pathlib\n",
    "from tqdm import tqdm\n"
   ]
  },
  {
   "cell_type": "code",
   "execution_count": 15,
   "metadata": {},
   "outputs": [],
   "source": [
    "#Audio data directory:\n",
    "audio_dir = './Data/genres/'\n",
    "test_dir = './Data/test_songs/'"
   ]
  },
  {
   "cell_type": "code",
   "execution_count": 4,
   "metadata": {},
   "outputs": [],
   "source": [
    "#Dictionary for genres label encoding:\n",
    "genres = {'blues': 0, 'classical': 1, 'country': 2, 'disco': 3, 'hiphop': 4, \n",
    "          'jazz': 5, 'metal': 6, 'pop': 7, 'reggae': 8, 'rock': 9}"
   ]
  },
  {
   "cell_type": "code",
   "execution_count": 5,
   "metadata": {},
   "outputs": [],
   "source": [
    "#Get selected features from each song using librosa and numpy:\n",
    "\n",
    "def get_features(y, sr, n_fft = 1024, hop_length = 512):\n",
    "    # Selected features:\n",
    "    features = {'centroid': None, 'roloff': None, 'flux': None, 'rmse': None, 'zcr': None, 'chroma':None}\n",
    "    \n",
    "    # Using librosa to calculate the features\n",
    "    features['centroid'] = librosa.feature.spectral_centroid(y, sr=sr, n_fft=n_fft, hop_length=hop_length).ravel()\n",
    "    features['roloff'] = librosa.feature.spectral_rolloff(y, sr=sr, n_fft=n_fft, hop_length=hop_length).ravel()\n",
    "    features['zcr'] = librosa.feature.zero_crossing_rate(y, frame_length=n_fft, hop_length=hop_length).ravel()\n",
    "    features['rmse'] = librosa.feature.rms(y, frame_length=n_fft, hop_length=hop_length).ravel()\n",
    "    features['flux'] = librosa.onset.onset_strength(y=y, sr=sr).ravel()\n",
    "    features['chroma'] = librosa.feature.chroma_stft(y=y, sr=sr, n_fft=n_fft, hop_length=hop_length).ravel()\n",
    "    \n",
    "    # Treatment of MFCC feature\n",
    "    mfcc = librosa.feature.mfcc(y, n_fft = n_fft, hop_length = hop_length, n_mfcc=13)\n",
    "    for idx, v_mfcc in enumerate(mfcc):\n",
    "        features['mfcc_{}'.format(idx)] = v_mfcc.ravel()\n",
    "        \n",
    "    # Calculate statistics for each feature:\n",
    "    def get_moments(descriptors):\n",
    "        result = {}\n",
    "        for k, v in descriptors.items():\n",
    "            result['{}_mean'.format(k)] = np.mean(v)\n",
    "            result['{}_std'.format(k)] = np.std(v)\n",
    "        return result\n",
    "    \n",
    "    dict_agg_features = get_moments(features)\n",
    "    \n",
    "    #Calculating one more feature:\n",
    "    dict_agg_features['tempo'] = librosa.beat.tempo(y, sr=sr)[0]\n",
    "    \n",
    "    return dict_agg_features"
   ]
  },
  {
   "cell_type": "code",
   "execution_count": 8,
   "metadata": {},
   "outputs": [],
   "source": [
    "#Reading all audio files and calculating features for each of them. This function generates a row for each song in the directory:\n",
    "\n",
    "def read_process_songs(src_dir, debug = True):\n",
    "    arr_features = []\n",
    "\n",
    "    # Read files from the folders\n",
    "    for x,_ in genres.items():\n",
    "        folder = src_dir + x\n",
    "    \n",
    "        for root, subdirs, files in os.walk(folder):\n",
    "            for file in files:\n",
    "                # Read the audio file\n",
    "                file_name = folder + \"/\" + file\n",
    "                signal, sr = librosa.load(file_name)\n",
    "\n",
    "                # Debug process\n",
    "                if debug:\n",
    "                    print(\"Reading file: {}\".format(file_name))\n",
    "\n",
    "                # Append the result to the data structure\n",
    "                features = get_features(signal, sr)\n",
    "                features['genre'] = genres[x]\n",
    "                arr_features.append(features)\n",
    "    return arr_features"
   ]
  },
  {
   "cell_type": "code",
   "execution_count": 9,
   "metadata": {},
   "outputs": [],
   "source": [
    "#Reading all audio files and calculating features for each of them. \n",
    "#This function generates a 2 rows for each song, separating each of them into 2 15s audio clips:\n",
    "\n",
    "def read_process_songs2(src_dir, debug = True):\n",
    "    arr_features = []\n",
    "\n",
    "    # Read files from the folders\n",
    "    for x,_ in genres.items():\n",
    "        folder = src_dir + x\n",
    "    \n",
    "        for root, subdirs, files in os.walk(folder):\n",
    "            for file in files:\n",
    "                # Read the audio file\n",
    "                file_name = folder + \"/\" + file\n",
    "                signal1, sr1 = librosa.load(file_name,duration=15)\n",
    "                signal2, sr2 = librosa.load(file_name,offset=15)\n",
    "                samples=[(signal1,sr1),(signal2,sr2)]\n",
    "\n",
    "                # Debug process\n",
    "                if debug:\n",
    "                    print(\"Reading file: {}\".format(file_name))\n",
    "\n",
    "                # Append the result to the data structure\n",
    "                for s in samples:\n",
    "                    features = get_features(s[0], s[1])\n",
    "                    features['genre'] = genres[x]\n",
    "                    arr_features.append(features)\n",
    "    return arr_features"
   ]
  },
  {
   "cell_type": "code",
   "execution_count": 6,
   "metadata": {},
   "outputs": [],
   "source": [
    "#Reading all audio files and calculating features for each of them. \n",
    "#This function generates a 2 rows for each song, separating each of them into 2 15s audio clips:\n",
    "\n",
    "def read_process_songs3(src_dir, debug = True):\n",
    "    arr_features = []\n",
    "\n",
    "    # Read files from the folders\n",
    "    for x,_ in genres.items():\n",
    "        folder = src_dir + x\n",
    "    \n",
    "        for root, subdirs, files in os.walk(folder):\n",
    "            for file in files:\n",
    "                # Read the audio file\n",
    "                file_name = folder + \"/\" + file\n",
    "                signal, sr = librosa.load(file_name)\n",
    "                samples=[(signal[:220000],sr),(signal[220000:440000],sr),(signal[440000:],sr)]\n",
    "\n",
    "                # Debug process\n",
    "                if debug:\n",
    "                    print(\"Reading file: {}\".format(file_name))\n",
    "\n",
    "                # Append the result to the data structure\n",
    "                for s in samples:\n",
    "                    features = get_features(s[0], s[1])\n",
    "                    features['genre'] = genres[x]\n",
    "                    arr_features.append(features)\n",
    "    return arr_features"
   ]
  },
  {
   "cell_type": "code",
   "execution_count": 25,
   "metadata": {},
   "outputs": [],
   "source": [
    "# Get list of dicts with features and convert to dataframe (1 row per song)\n",
    "features = read_process_songs(audio_dir,debug=False)"
   ]
  },
  {
   "cell_type": "code",
   "execution_count": 26,
   "metadata": {},
   "outputs": [],
   "source": [
    "# Get list of dicts with features and convert to dataframe (2 rows per song, each song split in half):\n",
    "features2 = read_process_songs2(audio_dir,debug=False)"
   ]
  },
  {
   "cell_type": "code",
   "execution_count": 10,
   "metadata": {},
   "outputs": [],
   "source": [
    "#Convert to dataframe:\n",
    "df_features1 = pd.DataFrame(features)"
   ]
  },
  {
   "cell_type": "code",
   "execution_count": 12,
   "metadata": {},
   "outputs": [],
   "source": [
    "#Save as .csv:\n",
    "df_features1.to_csv('./Features/features1.csv', index=False)\n"
   ]
  },
  {
   "cell_type": "code",
   "execution_count": 16,
   "metadata": {},
   "outputs": [],
   "source": [
    "df_features2=pd.DataFrame(features2)"
   ]
  },
  {
   "cell_type": "code",
   "execution_count": 23,
   "metadata": {},
   "outputs": [],
   "source": [
    "df_features2.to_csv('./Features/features2.csv', index=False)"
   ]
  },
  {
   "cell_type": "code",
   "execution_count": 7,
   "metadata": {},
   "outputs": [],
   "source": [
    "test_dir='./Data/test_songs/'"
   ]
  },
  {
   "cell_type": "code",
   "execution_count": 9,
   "metadata": {},
   "outputs": [],
   "source": [
    "features_test = read_process_songs2(test_dir,debug=True)"
   ]
  },
  {
   "cell_type": "code",
   "execution_count": 9,
   "metadata": {},
   "outputs": [],
   "source": [
    "df_test=pd.DataFrame(features_test)"
   ]
  },
  {
   "cell_type": "code",
   "execution_count": 11,
   "metadata": {},
   "outputs": [],
   "source": [
    "df_test.to_csv('./Features/features_test_2.csv', index=False)"
   ]
  },
  {
   "cell_type": "code",
   "execution_count": 12,
   "metadata": {},
   "outputs": [
    {
     "name": "stdout",
     "output_type": "stream",
     "text": [
      "Reading file: ./Data/test_songs/blues/blues.00099.wav\n",
      "Reading file: ./Data/test_songs/classical/classical.00099.wav\n",
      "Reading file: ./Data/test_songs/country/country.00099.wav\n",
      "Reading file: ./Data/test_songs/disco/disco.00099.wav\n",
      "Reading file: ./Data/test_songs/hiphop/hiphop.00099.wav\n",
      "Reading file: ./Data/test_songs/jazz/jazz.00099.wav\n",
      "Reading file: ./Data/test_songs/metal/metal.00099.wav\n",
      "Reading file: ./Data/test_songs/pop/pop.00099.wav\n",
      "Reading file: ./Data/test_songs/reggae/reggae.00099.wav\n",
      "Reading file: ./Data/test_songs/rock/rock.00099.wav\n"
     ]
    }
   ],
   "source": [
    "features_test = read_process_songs(test_dir,debug=True)"
   ]
  },
  {
   "cell_type": "code",
   "execution_count": 13,
   "metadata": {},
   "outputs": [],
   "source": [
    "df_test=pd.DataFrame(features_test)"
   ]
  },
  {
   "cell_type": "code",
   "execution_count": 15,
   "metadata": {},
   "outputs": [],
   "source": [
    "df_test.to_csv('./Features/features_test_1.csv', index=False)"
   ]
  },
  {
   "cell_type": "code",
   "execution_count": 7,
   "metadata": {},
   "outputs": [],
   "source": [
    "features3 = read_process_songs3(audio_dir,debug=True)"
   ]
  },
  {
   "cell_type": "code",
   "execution_count": null,
   "metadata": {},
   "outputs": [],
   "source": [
    "df_test.to_csv('./Features/features_test_1.csv', index=False)"
   ]
  },
  {
   "cell_type": "code",
   "execution_count": 12,
   "metadata": {},
   "outputs": [],
   "source": [
    "df3=pd.DataFrame(features3)"
   ]
  },
  {
   "cell_type": "code",
   "execution_count": 14,
   "metadata": {},
   "outputs": [],
   "source": [
    "df3.to_csv('./Features/features3.csv', index=False)"
   ]
  },
  {
   "cell_type": "code",
   "execution_count": 16,
   "metadata": {},
   "outputs": [
    {
     "name": "stdout",
     "output_type": "stream",
     "text": [
      "Reading file: ./Data/test_songs/blues/blues.00099.wav\n",
      "Reading file: ./Data/test_songs/classical/classical.00099.wav\n",
      "Reading file: ./Data/test_songs/country/country.00099.wav\n",
      "Reading file: ./Data/test_songs/disco/disco.00099.wav\n",
      "Reading file: ./Data/test_songs/hiphop/hiphop.00099.wav\n",
      "Reading file: ./Data/test_songs/jazz/jazz.00099.wav\n",
      "Reading file: ./Data/test_songs/metal/metal.00099.wav\n",
      "Reading file: ./Data/test_songs/pop/pop.00099.wav\n",
      "Reading file: ./Data/test_songs/reggae/reggae.00099.wav\n",
      "Reading file: ./Data/test_songs/rock/rock.00099.wav\n"
     ]
    }
   ],
   "source": [
    "testf3 = read_process_songs3(test_dir,debug=True)"
   ]
  },
  {
   "cell_type": "code",
   "execution_count": 17,
   "metadata": {},
   "outputs": [],
   "source": [
    "tf3=pd.DataFrame(testf3)"
   ]
  },
  {
   "cell_type": "code",
   "execution_count": 18,
   "metadata": {},
   "outputs": [],
   "source": [
    "tf3.to_csv('./Features/features_test_3.csv', index=False)"
   ]
  },
  {
   "cell_type": "code",
   "execution_count": null,
   "metadata": {},
   "outputs": [],
   "source": []
  }
 ],
 "metadata": {
  "kernelspec": {
   "display_name": "Python 3",
   "language": "python",
   "name": "python3"
  },
  "language_info": {
   "codemirror_mode": {
    "name": "ipython",
    "version": 3
   },
   "file_extension": ".py",
   "mimetype": "text/x-python",
   "name": "python",
   "nbconvert_exporter": "python",
   "pygments_lexer": "ipython3",
   "version": "3.6.9"
  }
 },
 "nbformat": 4,
 "nbformat_minor": 4
}
