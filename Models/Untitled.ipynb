{
 "cells": [
  {
   "cell_type": "code",
   "execution_count": 4,
   "metadata": {},
   "outputs": [
    {
     "name": "stderr",
     "output_type": "stream",
     "text": [
      "Using TensorFlow backend.\n"
     ]
    }
   ],
   "source": [
    "import itertools\n",
    "import pandas as pd\n",
    "import numpy as np\n",
    "import matplotlib.pyplot as plt\n",
    "from collections import OrderedDict\n",
    "import h5py\n",
    "from sklearn.model_selection import train_test_split\n",
    "from sklearn.preprocessing import StandardScaler\n",
    "from keras.models import load_model\n",
    "import warnings\n",
    "warnings.filterwarnings('ignore')"
   ]
  },
  {
   "cell_type": "code",
   "execution_count": 5,
   "metadata": {},
   "outputs": [],
   "source": [
    "# Paths to data features and test song features:\n",
    "\n",
    "TRAIN = '../Features/dataset_features/data_features.csv'\n",
    "TEST = '../Features/test_songs_features/test_features.csv'\n",
    "TEST_SPLIT = '../Features/test_songs_features/test_features_split.csv'\n",
    "MODEL = 'FC_NN.h5'"
   ]
  },
  {
   "cell_type": "code",
   "execution_count": 6,
   "metadata": {},
   "outputs": [
    {
     "name": "stderr",
     "output_type": "stream",
     "text": [
      "WARNING: Logging before flag parsing goes to stderr.\n",
      "W0807 18:00:08.439169 140287659005760 deprecation_wrapper.py:119] From /home/maximiliano/miniconda3/envs/music/lib/python3.6/site-packages/keras/backend/tensorflow_backend.py:517: The name tf.placeholder is deprecated. Please use tf.compat.v1.placeholder instead.\n",
      "\n",
      "W0807 18:00:08.469296 140287659005760 deprecation_wrapper.py:119] From /home/maximiliano/miniconda3/envs/music/lib/python3.6/site-packages/keras/backend/tensorflow_backend.py:4138: The name tf.random_uniform is deprecated. Please use tf.random.uniform instead.\n",
      "\n",
      "W0807 18:00:08.497174 140287659005760 deprecation_wrapper.py:119] From /home/maximiliano/miniconda3/envs/music/lib/python3.6/site-packages/keras/backend/tensorflow_backend.py:131: The name tf.get_default_graph is deprecated. Please use tf.compat.v1.get_default_graph instead.\n",
      "\n",
      "W0807 18:00:08.498379 140287659005760 deprecation_wrapper.py:119] From /home/maximiliano/miniconda3/envs/music/lib/python3.6/site-packages/keras/backend/tensorflow_backend.py:133: The name tf.placeholder_with_default is deprecated. Please use tf.compat.v1.placeholder_with_default instead.\n",
      "\n",
      "W0807 18:00:08.512970 140287659005760 deprecation.py:506] From /home/maximiliano/miniconda3/envs/music/lib/python3.6/site-packages/keras/backend/tensorflow_backend.py:3445: calling dropout (from tensorflow.python.ops.nn_ops) with keep_prob is deprecated and will be removed in a future version.\n",
      "Instructions for updating:\n",
      "Please use `rate` instead of `keep_prob`. Rate should be set to `rate = 1 - keep_prob`.\n",
      "W0807 18:00:08.634808 140287659005760 deprecation_wrapper.py:119] From /home/maximiliano/miniconda3/envs/music/lib/python3.6/site-packages/keras/backend/tensorflow_backend.py:174: The name tf.get_default_session is deprecated. Please use tf.compat.v1.get_default_session instead.\n",
      "\n",
      "W0807 18:00:08.799181 140287659005760 deprecation_wrapper.py:119] From /home/maximiliano/miniconda3/envs/music/lib/python3.6/site-packages/keras/optimizers.py:790: The name tf.train.Optimizer is deprecated. Please use tf.compat.v1.train.Optimizer instead.\n",
      "\n",
      "W0807 18:00:08.893840 140287659005760 deprecation.py:323] From /home/maximiliano/miniconda3/envs/music/lib/python3.6/site-packages/tensorflow/python/ops/math_grad.py:1250: add_dispatch_support.<locals>.wrapper (from tensorflow.python.ops.array_ops) is deprecated and will be removed in a future version.\n",
      "Instructions for updating:\n",
      "Use tf.where in 2.0, which has the same broadcast rule as np.where\n"
     ]
    },
    {
     "name": "stdout",
     "output_type": "stream",
     "text": [
      "_________________________________________________________________\n",
      "Layer (type)                 Output Shape              Param #   \n",
      "=================================================================\n",
      "dense_37 (Dense)             (None, 256)               19968     \n",
      "_________________________________________________________________\n",
      "dropout_28 (Dropout)         (None, 256)               0         \n",
      "_________________________________________________________________\n",
      "dense_38 (Dense)             (None, 128)               32896     \n",
      "_________________________________________________________________\n",
      "dropout_29 (Dropout)         (None, 128)               0         \n",
      "_________________________________________________________________\n",
      "dense_39 (Dense)             (None, 64)                8256      \n",
      "_________________________________________________________________\n",
      "dropout_30 (Dropout)         (None, 64)                0         \n",
      "_________________________________________________________________\n",
      "dense_40 (Dense)             (None, 10)                650       \n",
      "=================================================================\n",
      "Total params: 61,770\n",
      "Trainable params: 61,770\n",
      "Non-trainable params: 0\n",
      "_________________________________________________________________\n"
     ]
    }
   ],
   "source": [
    "# load model\n",
    "model = load_model('FC_NN.h5')\n",
    "# summarize model.\n",
    "model.summary()\n"
   ]
  },
  {
   "cell_type": "code",
   "execution_count": 14,
   "metadata": {},
   "outputs": [],
   "source": [
    "def normalize(path):\n",
    "    \"\"\"\n",
    "    Normalize test data for prediction\n",
    "    \"\"\"\n",
    "    # Training data:\n",
    "    data = pd.read_csv(TRAIN)\n",
    "    X = data.drop('genre', axis=1)\n",
    "    # Test data:\n",
    "    tdata = pd.read_csv(path)\n",
    "    Xt = tdata.drop('genre', axis=1)\n",
    "    yt = tdata.genre\n",
    "    rows = Xt.shape[0]\n",
    "    # Append original data and test data for normalization:\n",
    "    Xt = X.append(Xt, ignore_index=True)\n",
    "    # Normalize:\n",
    "    sc = StandardScaler().fit_transform(Xt.values)\n",
    "    Xt = pd.DataFrame(sc[-rows:], index=Xt[-rows:].index, columns=Xt.columns)\n",
    "    splits = int(rows/10)\n",
    "    return Xt, yt, splits"
   ]
  },
  {
   "cell_type": "code",
   "execution_count": 15,
   "metadata": {},
   "outputs": [],
   "source": [
    "X, y, sp = normalize(TEST)"
   ]
  },
  {
   "cell_type": "code",
   "execution_count": 16,
   "metadata": {},
   "outputs": [
    {
     "data": {
      "text/plain": [
       "1"
      ]
     },
     "execution_count": 16,
     "metadata": {},
     "output_type": "execute_result"
    }
   ],
   "source": [
    "sp"
   ]
  },
  {
   "cell_type": "code",
   "execution_count": 17,
   "metadata": {},
   "outputs": [],
   "source": [
    "X, y, sp = normalize(TEST_SPLIT)"
   ]
  },
  {
   "cell_type": "code",
   "execution_count": 20,
   "metadata": {},
   "outputs": [
    {
     "data": {
      "text/plain": [
       "3"
      ]
     },
     "execution_count": 20,
     "metadata": {},
     "output_type": "execute_result"
    }
   ],
   "source": [
    "sp"
   ]
  },
  {
   "cell_type": "code",
   "execution_count": 100,
   "metadata": {},
   "outputs": [],
   "source": [
    "#cargo csvs:\n",
    "data=pd.read_csv(\"../Features/features_augmented.csv\")#training data\n",
    "t1data=pd.read_csv(\"../Features/features_augmented_t1.csv\")#test songs 1 row\n",
    "t3data=pd.read_csv(\"../Features/features_augmented_t3.csv\")#test songs 3 rows"
   ]
  },
  {
   "cell_type": "code",
   "execution_count": 101,
   "metadata": {},
   "outputs": [],
   "source": [
    "X=data.drop('genre',axis=1)\n",
    "Xt1=t1data.drop('genre',axis=1)\n",
    "Xt3=t3data.drop('genre',axis=1)"
   ]
  },
  {
   "cell_type": "code",
   "execution_count": 102,
   "metadata": {},
   "outputs": [
    {
     "data": {
      "text/plain": [
       "(8910, 77)"
      ]
     },
     "execution_count": 102,
     "metadata": {},
     "output_type": "execute_result"
    }
   ],
   "source": [
    "yt1=t1data.genre\n",
    "yt3=t3data.genre\n",
    "X.shape"
   ]
  },
  {
   "cell_type": "code",
   "execution_count": 103,
   "metadata": {},
   "outputs": [],
   "source": [
    "Xt1=X.append(Xt1,ignore_index=True)\n",
    "Xt3=X.append(Xt3,ignore_index=True)"
   ]
  },
  {
   "cell_type": "code",
   "execution_count": 104,
   "metadata": {},
   "outputs": [],
   "source": [
    "\n",
    "sc1=StandardScaler().fit_transform(Xt1.values)\n",
    "sc3=StandardScaler().fit_transform(Xt3.values)\n",
    "\n",
    "Xt1=pd.DataFrame(sc1[-10:], index=Xt1[-10:].index, columns=Xt1.columns)\n",
    "Xt3=pd.DataFrame(sc3[-30:], index=Xt3[-30:].index, columns=Xt3.columns)"
   ]
  },
  {
   "cell_type": "code",
   "execution_count": 105,
   "metadata": {},
   "outputs": [
    {
     "name": "stdout",
     "output_type": "stream",
     "text": [
      "10/10 [==============================] - 0s 27ms/step\n",
      "0.5942081212997437 0.800000011920929\n"
     ]
    }
   ],
   "source": [
    "test_loss, test_acc = model.evaluate(Xt1,yt1)\n",
    "print(test_loss, test_acc)"
   ]
  },
  {
   "cell_type": "code",
   "execution_count": 72,
   "metadata": {},
   "outputs": [
    {
     "data": {
      "text/plain": [
       "array([5, 1, 2, 3, 4, 5, 6, 7, 9, 9])"
      ]
     },
     "execution_count": 72,
     "metadata": {},
     "output_type": "execute_result"
    }
   ],
   "source": [
    "model.predict_classes(Xt1)"
   ]
  },
  {
   "cell_type": "code",
   "execution_count": 106,
   "metadata": {},
   "outputs": [
    {
     "name": "stdout",
     "output_type": "stream",
     "text": [
      "30/30 [==============================] - 0s 423us/step\n",
      "0.9436196088790894 0.8333333134651184\n"
     ]
    }
   ],
   "source": [
    "test_loss, test_acc = model.evaluate(Xt3,yt3)\n",
    "print(test_loss, test_acc)"
   ]
  },
  {
   "cell_type": "code",
   "execution_count": 81,
   "metadata": {},
   "outputs": [],
   "source": [
    "genres = {'blues': 0, 'classical': 1, 'country': 2, 'disco': 3, 'hiphop': 4, \n",
    "          'jazz': 5, 'metal': 6, 'pop': 7, 'reggae': 8, 'rock': 9}"
   ]
  },
  {
   "cell_type": "code",
   "execution_count": 124,
   "metadata": {},
   "outputs": [],
   "source": [
    "Xsp1=pd.read_csv(\"../Features/fsp1.csv\")#test songs 1 row\n",
    "Xsp3=pd.read_csv(\"../Features/fsp3.csv\")#test songs 3 rows\n",
    "Xsp1=X.append(Xsp1,ignore_index=True)\n",
    "Xsp3=X.append(Xsp3,ignore_index=True)\n",
    "\n",
    "sc1=StandardScaler().fit_transform(Xsp1.values)\n",
    "sc3=StandardScaler().fit_transform(Xsp3.values)\n",
    "\n",
    "\n",
    "Xsp1=pd.DataFrame(sc1[-1:], index=Xt1[-1:].index, columns=Xt1.columns)\n",
    "Xsp3=pd.DataFrame(sc3[-3:], index=Xt3[-3:].index, columns=Xt3.columns)\n",
    "\n",
    "\n"
   ]
  },
  {
   "cell_type": "code",
   "execution_count": 125,
   "metadata": {},
   "outputs": [
    {
     "data": {
      "text/plain": [
       "array([8])"
      ]
     },
     "execution_count": 125,
     "metadata": {},
     "output_type": "execute_result"
    }
   ],
   "source": [
    "model.predict_classes(Xsp1)"
   ]
  },
  {
   "cell_type": "code",
   "execution_count": 126,
   "metadata": {},
   "outputs": [
    {
     "data": {
      "text/plain": [
       "array([[4.4347332e-03, 1.5072101e-04, 8.9566214e-03, 8.1167752e-03,\n",
       "        2.9062687e-03, 1.1398055e-04, 4.0776687e-04, 1.1468789e-02,\n",
       "        9.4445282e-01, 1.8991562e-02]], dtype=float32)"
      ]
     },
     "execution_count": 126,
     "metadata": {},
     "output_type": "execute_result"
    }
   ],
   "source": [
    "model.predict(Xsp1)"
   ]
  },
  {
   "cell_type": "code",
   "execution_count": 127,
   "metadata": {},
   "outputs": [
    {
     "data": {
      "text/plain": [
       "array([8, 8, 8])"
      ]
     },
     "execution_count": 127,
     "metadata": {},
     "output_type": "execute_result"
    }
   ],
   "source": [
    "model.predict_classes(Xsp3)"
   ]
  },
  {
   "cell_type": "code",
   "execution_count": 91,
   "metadata": {},
   "outputs": [
    {
     "data": {
      "text/plain": [
       "array([[3.5550096e-03, 8.0931502e-05, 1.1809486e-02, 8.3717680e-01,\n",
       "        1.1275105e-01, 1.6493093e-03, 7.2042859e-04, 9.0997173e-03,\n",
       "        2.0600369e-02, 2.5568816e-03]], dtype=float32)"
      ]
     },
     "execution_count": 91,
     "metadata": {},
     "output_type": "execute_result"
    }
   ],
   "source": [
    "model.predict(Xsp1)"
   ]
  },
  {
   "cell_type": "code",
   "execution_count": 87,
   "metadata": {},
   "outputs": [
    {
     "data": {
      "text/plain": [
       "array([[4.0721011e-04, 5.1566737e-04, 4.7162161e-04, 1.3951976e-04,\n",
       "        2.6522547e-02, 1.1368097e-04, 9.5937091e-01, 3.0514673e-05,\n",
       "        7.4185315e-04, 1.1686442e-02]], dtype=float32)"
      ]
     },
     "execution_count": 87,
     "metadata": {},
     "output_type": "execute_result"
    }
   ],
   "source": [
    "model.predict(Xsp1)"
   ]
  },
  {
   "cell_type": "code",
   "execution_count": null,
   "metadata": {},
   "outputs": [],
   "source": []
  }
 ],
 "metadata": {
  "kernelspec": {
   "display_name": "Python 3",
   "language": "python",
   "name": "python3"
  },
  "language_info": {
   "codemirror_mode": {
    "name": "ipython",
    "version": 3
   },
   "file_extension": ".py",
   "mimetype": "text/x-python",
   "name": "python",
   "nbconvert_exporter": "python",
   "pygments_lexer": "ipython3",
   "version": "3.6.9"
  }
 },
 "nbformat": 4,
 "nbformat_minor": 4
}
