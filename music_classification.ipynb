{
 "cells": [
  {
   "cell_type": "code",
   "execution_count": 2,
   "metadata": {},
   "outputs": [
    {
     "name": "stderr",
     "output_type": "stream",
     "text": [
      "Using TensorFlow backend.\n"
     ]
    }
   ],
   "source": [
    "import pandas as pd\n",
    "import numpy as np\n",
    "import matplotlib.pyplot as plt\n",
    "%matplotlib inline\n",
    "\n",
    "# Preprocessing\n",
    "from sklearn.model_selection import train_test_split\n",
    "from sklearn.preprocessing import LabelEncoder, StandardScaler\n",
    "\n",
    "#Keras\n",
    "import keras\n",
    "\n",
    "import warnings\n",
    "warnings.filterwarnings('ignore')"
   ]
  },
  {
   "cell_type": "code",
   "execution_count": 3,
   "metadata": {},
   "outputs": [],
   "source": [
    "#Dictionary for genres label encoding:\n",
    "genres = {'blues': 0, 'classical': 1, 'country': 2, 'disco': 3, 'hiphop': 4, \n",
    "          'jazz': 5, 'metal': 6, 'pop': 7, 'reggae': 8, 'rock': 9}"
   ]
  },
  {
   "cell_type": "code",
   "execution_count": 4,
   "metadata": {},
   "outputs": [
    {
     "data": {
      "text/html": [
       "<div>\n",
       "<style scoped>\n",
       "    .dataframe tbody tr th:only-of-type {\n",
       "        vertical-align: middle;\n",
       "    }\n",
       "\n",
       "    .dataframe tbody tr th {\n",
       "        vertical-align: top;\n",
       "    }\n",
       "\n",
       "    .dataframe thead th {\n",
       "        text-align: right;\n",
       "    }\n",
       "</style>\n",
       "<table border=\"1\" class=\"dataframe\">\n",
       "  <thead>\n",
       "    <tr style=\"text-align: right;\">\n",
       "      <th></th>\n",
       "      <th>centroid_mean</th>\n",
       "      <th>centroid_std</th>\n",
       "      <th>chroma_mean</th>\n",
       "      <th>chroma_std</th>\n",
       "      <th>flux_mean</th>\n",
       "      <th>flux_std</th>\n",
       "      <th>genre</th>\n",
       "      <th>mfcc_0_mean</th>\n",
       "      <th>mfcc_0_std</th>\n",
       "      <th>mfcc_10_mean</th>\n",
       "      <th>...</th>\n",
       "      <th>mfcc_8_std</th>\n",
       "      <th>mfcc_9_mean</th>\n",
       "      <th>mfcc_9_std</th>\n",
       "      <th>rmse_mean</th>\n",
       "      <th>rmse_std</th>\n",
       "      <th>roloff_mean</th>\n",
       "      <th>roloff_std</th>\n",
       "      <th>tempo</th>\n",
       "      <th>zcr_mean</th>\n",
       "      <th>zcr_std</th>\n",
       "    </tr>\n",
       "  </thead>\n",
       "  <tbody>\n",
       "    <tr>\n",
       "      <th>0</th>\n",
       "      <td>944.658976</td>\n",
       "      <td>375.568454</td>\n",
       "      <td>0.511021</td>\n",
       "      <td>0.295386</td>\n",
       "      <td>1.513763</td>\n",
       "      <td>1.567616</td>\n",
       "      <td>0</td>\n",
       "      <td>-268.445343</td>\n",
       "      <td>59.634338</td>\n",
       "      <td>-3.724825</td>\n",
       "      <td>...</td>\n",
       "      <td>9.940326</td>\n",
       "      <td>3.209607</td>\n",
       "      <td>10.456055</td>\n",
       "      <td>0.139640</td>\n",
       "      <td>0.064407</td>\n",
       "      <td>1913.091036</td>\n",
       "      <td>1022.846991</td>\n",
       "      <td>172.265625</td>\n",
       "      <td>0.032054</td>\n",
       "      <td>0.015612</td>\n",
       "    </tr>\n",
       "    <tr>\n",
       "      <th>1</th>\n",
       "      <td>910.455025</td>\n",
       "      <td>617.410092</td>\n",
       "      <td>0.570600</td>\n",
       "      <td>0.271018</td>\n",
       "      <td>1.542058</td>\n",
       "      <td>2.484770</td>\n",
       "      <td>0</td>\n",
       "      <td>-308.692474</td>\n",
       "      <td>87.351257</td>\n",
       "      <td>-2.389515</td>\n",
       "      <td>...</td>\n",
       "      <td>10.401293</td>\n",
       "      <td>10.617113</td>\n",
       "      <td>9.766739</td>\n",
       "      <td>0.098399</td>\n",
       "      <td>0.038488</td>\n",
       "      <td>1752.732789</td>\n",
       "      <td>1408.807863</td>\n",
       "      <td>123.046875</td>\n",
       "      <td>0.036044</td>\n",
       "      <td>0.030238</td>\n",
       "    </tr>\n",
       "    <tr>\n",
       "      <th>2</th>\n",
       "      <td>1142.783696</td>\n",
       "      <td>356.181810</td>\n",
       "      <td>0.368410</td>\n",
       "      <td>0.301509</td>\n",
       "      <td>1.434626</td>\n",
       "      <td>1.504688</td>\n",
       "      <td>0</td>\n",
       "      <td>-298.294495</td>\n",
       "      <td>66.858841</td>\n",
       "      <td>-4.659095</td>\n",
       "      <td>...</td>\n",
       "      <td>10.293684</td>\n",
       "      <td>-3.561648</td>\n",
       "      <td>10.559613</td>\n",
       "      <td>0.100210</td>\n",
       "      <td>0.062800</td>\n",
       "      <td>2360.192276</td>\n",
       "      <td>856.429760</td>\n",
       "      <td>95.703125</td>\n",
       "      <td>0.052464</td>\n",
       "      <td>0.034442</td>\n",
       "    </tr>\n",
       "    <tr>\n",
       "      <th>3</th>\n",
       "      <td>1039.522816</td>\n",
       "      <td>408.078560</td>\n",
       "      <td>0.368631</td>\n",
       "      <td>0.329977</td>\n",
       "      <td>1.607325</td>\n",
       "      <td>1.727277</td>\n",
       "      <td>0</td>\n",
       "      <td>-347.143982</td>\n",
       "      <td>79.704247</td>\n",
       "      <td>2.775455</td>\n",
       "      <td>...</td>\n",
       "      <td>10.273363</td>\n",
       "      <td>-2.998191</td>\n",
       "      <td>9.083502</td>\n",
       "      <td>0.085000</td>\n",
       "      <td>0.053326</td>\n",
       "      <td>2110.337175</td>\n",
       "      <td>1113.393544</td>\n",
       "      <td>103.359375</td>\n",
       "      <td>0.047268</td>\n",
       "      <td>0.034996</td>\n",
       "    </tr>\n",
       "    <tr>\n",
       "      <th>4</th>\n",
       "      <td>2050.177072</td>\n",
       "      <td>580.201687</td>\n",
       "      <td>0.362682</td>\n",
       "      <td>0.305815</td>\n",
       "      <td>1.673205</td>\n",
       "      <td>1.745088</td>\n",
       "      <td>0</td>\n",
       "      <td>-206.669128</td>\n",
       "      <td>47.905201</td>\n",
       "      <td>-9.750667</td>\n",
       "      <td>...</td>\n",
       "      <td>10.776022</td>\n",
       "      <td>7.142182</td>\n",
       "      <td>9.290585</td>\n",
       "      <td>0.104601</td>\n",
       "      <td>0.037772</td>\n",
       "      <td>4451.960602</td>\n",
       "      <td>1140.019856</td>\n",
       "      <td>143.554688</td>\n",
       "      <td>0.098337</td>\n",
       "      <td>0.046260</td>\n",
       "    </tr>\n",
       "  </tbody>\n",
       "</table>\n",
       "<p>5 rows × 40 columns</p>\n",
       "</div>"
      ],
      "text/plain": [
       "   centroid_mean  centroid_std  chroma_mean  chroma_std  flux_mean  flux_std  \\\n",
       "0     944.658976    375.568454     0.511021    0.295386   1.513763  1.567616   \n",
       "1     910.455025    617.410092     0.570600    0.271018   1.542058  2.484770   \n",
       "2    1142.783696    356.181810     0.368410    0.301509   1.434626  1.504688   \n",
       "3    1039.522816    408.078560     0.368631    0.329977   1.607325  1.727277   \n",
       "4    2050.177072    580.201687     0.362682    0.305815   1.673205  1.745088   \n",
       "\n",
       "   genre  mfcc_0_mean  mfcc_0_std  mfcc_10_mean  ...  mfcc_8_std  mfcc_9_mean  \\\n",
       "0      0  -268.445343   59.634338     -3.724825  ...    9.940326     3.209607   \n",
       "1      0  -308.692474   87.351257     -2.389515  ...   10.401293    10.617113   \n",
       "2      0  -298.294495   66.858841     -4.659095  ...   10.293684    -3.561648   \n",
       "3      0  -347.143982   79.704247      2.775455  ...   10.273363    -2.998191   \n",
       "4      0  -206.669128   47.905201     -9.750667  ...   10.776022     7.142182   \n",
       "\n",
       "   mfcc_9_std  rmse_mean  rmse_std  roloff_mean   roloff_std       tempo  \\\n",
       "0   10.456055   0.139640  0.064407  1913.091036  1022.846991  172.265625   \n",
       "1    9.766739   0.098399  0.038488  1752.732789  1408.807863  123.046875   \n",
       "2   10.559613   0.100210  0.062800  2360.192276   856.429760   95.703125   \n",
       "3    9.083502   0.085000  0.053326  2110.337175  1113.393544  103.359375   \n",
       "4    9.290585   0.104601  0.037772  4451.960602  1140.019856  143.554688   \n",
       "\n",
       "   zcr_mean   zcr_std  \n",
       "0  0.032054  0.015612  \n",
       "1  0.036044  0.030238  \n",
       "2  0.052464  0.034442  \n",
       "3  0.047268  0.034996  \n",
       "4  0.098337  0.046260  \n",
       "\n",
       "[5 rows x 40 columns]"
      ]
     },
     "execution_count": 4,
     "metadata": {},
     "output_type": "execute_result"
    }
   ],
   "source": [
    "data=pd.read_csv(\"./Features/features.csv\")\n",
    "data.head()"
   ]
  },
  {
   "cell_type": "code",
   "execution_count": 5,
   "metadata": {},
   "outputs": [],
   "source": [
    "X=data.drop('genre',axis=1)"
   ]
  },
  {
   "cell_type": "code",
   "execution_count": 6,
   "metadata": {},
   "outputs": [],
   "source": [
    "y=data.genre"
   ]
  },
  {
   "cell_type": "code",
   "execution_count": 7,
   "metadata": {},
   "outputs": [],
   "source": [
    "scaled_features = StandardScaler().fit_transform(X.values)\n",
    "X = pd.DataFrame(scaled_features, index=X.index, columns=X.columns)\n"
   ]
  },
  {
   "cell_type": "code",
   "execution_count": 8,
   "metadata": {},
   "outputs": [],
   "source": [
    "X_train, X_test, y_train, y_test = train_test_split(X, y, test_size=0.3)"
   ]
  },
  {
   "cell_type": "code",
   "execution_count": null,
   "metadata": {},
   "outputs": [],
   "source": []
  },
  {
   "cell_type": "code",
   "execution_count": 25,
   "metadata": {},
   "outputs": [],
   "source": [
    "from keras import models\n",
    "from keras import layers\n",
    "\n",
    "model = models.Sequential()\n",
    "model.add(layers.Dense(256, activation='relu', input_shape=(X_train.shape[1],)))\n",
    "\n",
    "model.add(layers.Dense(128, activation='relu'))\n",
    "\n",
    "model.add(layers.Dense(64, activation='relu'))\n",
    "\n",
    "model.add(layers.Dense(10, activation='softmax'))"
   ]
  },
  {
   "cell_type": "code",
   "execution_count": 27,
   "metadata": {},
   "outputs": [],
   "source": [
    "model.compile(optimizer='adam',\n",
    "              loss='sparse_categorical_crossentropy',\n",
    "              metrics=['accuracy'])"
   ]
  },
  {
   "cell_type": "code",
   "execution_count": 28,
   "metadata": {},
   "outputs": [
    {
     "name": "stderr",
     "output_type": "stream",
     "text": [
      "W0802 22:42:47.458555 140181788899136 deprecation.py:323] From /home/maximiliano/miniconda3/envs/music/lib/python3.6/site-packages/tensorflow/python/ops/math_grad.py:1250: add_dispatch_support.<locals>.wrapper (from tensorflow.python.ops.array_ops) is deprecated and will be removed in a future version.\n",
      "Instructions for updating:\n",
      "Use tf.where in 2.0, which has the same broadcast rule as np.where\n",
      "W0802 22:42:47.501911 140181788899136 deprecation_wrapper.py:119] From /home/maximiliano/miniconda3/envs/music/lib/python3.6/site-packages/keras/backend/tensorflow_backend.py:986: The name tf.assign_add is deprecated. Please use tf.compat.v1.assign_add instead.\n",
      "\n"
     ]
    },
    {
     "name": "stdout",
     "output_type": "stream",
     "text": [
      "Epoch 1/20\n",
      "800/800 [==============================] - 4s 5ms/step - loss: 2.1381 - acc: 0.2250\n",
      "Epoch 2/20\n",
      "800/800 [==============================] - 0s 86us/step - loss: 1.7143 - acc: 0.4788\n",
      "Epoch 3/20\n",
      "800/800 [==============================] - 0s 74us/step - loss: 1.3666 - acc: 0.5575\n",
      "Epoch 4/20\n",
      "800/800 [==============================] - 0s 74us/step - loss: 1.1479 - acc: 0.6050\n",
      "Epoch 5/20\n",
      "800/800 [==============================] - 0s 60us/step - loss: 0.9849 - acc: 0.6575\n",
      "Epoch 6/20\n",
      "800/800 [==============================] - 0s 67us/step - loss: 0.8688 - acc: 0.7150\n",
      "Epoch 7/20\n",
      "800/800 [==============================] - 0s 62us/step - loss: 0.7741 - acc: 0.7425\n",
      "Epoch 8/20\n",
      "800/800 [==============================] - 0s 63us/step - loss: 0.6982 - acc: 0.7638\n",
      "Epoch 9/20\n",
      "800/800 [==============================] - 0s 66us/step - loss: 0.6394 - acc: 0.7875\n",
      "Epoch 10/20\n",
      "800/800 [==============================] - 0s 67us/step - loss: 0.5808 - acc: 0.8050\n",
      "Epoch 11/20\n",
      "800/800 [==============================] - 0s 78us/step - loss: 0.5486 - acc: 0.8212\n",
      "Epoch 12/20\n",
      "800/800 [==============================] - 0s 83us/step - loss: 0.5084 - acc: 0.8475\n",
      "Epoch 13/20\n",
      "800/800 [==============================] - 0s 88us/step - loss: 0.4839 - acc: 0.8425\n",
      "Epoch 14/20\n",
      "800/800 [==============================] - 0s 78us/step - loss: 0.4483 - acc: 0.8562\n",
      "Epoch 15/20\n",
      "800/800 [==============================] - 0s 83us/step - loss: 0.4152 - acc: 0.8650\n",
      "Epoch 16/20\n",
      "800/800 [==============================] - 0s 84us/step - loss: 0.3894 - acc: 0.8862\n",
      "Epoch 17/20\n",
      "800/800 [==============================] - 0s 89us/step - loss: 0.3606 - acc: 0.8950\n",
      "Epoch 18/20\n",
      "800/800 [==============================] - 0s 68us/step - loss: 0.3316 - acc: 0.9113\n",
      "Epoch 19/20\n",
      "800/800 [==============================] - 0s 64us/step - loss: 0.3129 - acc: 0.9100\n",
      "Epoch 20/20\n",
      "800/800 [==============================] - 0s 67us/step - loss: 0.2927 - acc: 0.9187\n"
     ]
    }
   ],
   "source": [
    "history = model.fit(X_train,\n",
    "                    y_train,\n",
    "                    epochs=20,\n",
    "                    batch_size=128)"
   ]
  },
  {
   "cell_type": "code",
   "execution_count": 29,
   "metadata": {},
   "outputs": [
    {
     "name": "stdout",
     "output_type": "stream",
     "text": [
      "200/200 [==============================] - 0s 925us/step\n"
     ]
    }
   ],
   "source": [
    "test_loss, test_acc = model.evaluate(X_test,y_test)"
   ]
  },
  {
   "cell_type": "code",
   "execution_count": 30,
   "metadata": {},
   "outputs": [
    {
     "name": "stdout",
     "output_type": "stream",
     "text": [
      "0.7535344696044922 0.74\n"
     ]
    }
   ],
   "source": [
    "print(test_loss, test_acc)"
   ]
  },
  {
   "cell_type": "code",
   "execution_count": 31,
   "metadata": {},
   "outputs": [],
   "source": [
    "y_pred=model.predict(X_test)"
   ]
  },
  {
   "cell_type": "code",
   "execution_count": 33,
   "metadata": {},
   "outputs": [
    {
     "data": {
      "text/plain": [
       "array([6.7813997e-04, 6.9780363e-04, 2.0520808e-04, 2.6808502e-04,\n",
       "       4.5837524e-07, 9.9723393e-01, 1.9430850e-05, 7.4965060e-06,\n",
       "       7.6516772e-06, 8.8182383e-04], dtype=float32)"
      ]
     },
     "execution_count": 33,
     "metadata": {},
     "output_type": "execute_result"
    }
   ],
   "source": [
    "y_pred[0]"
   ]
  },
  {
   "cell_type": "code",
   "execution_count": null,
   "metadata": {},
   "outputs": [],
   "source": []
  }
 ],
 "metadata": {
  "kernelspec": {
   "display_name": "Python 3",
   "language": "python",
   "name": "python3"
  },
  "language_info": {
   "codemirror_mode": {
    "name": "ipython",
    "version": 3
   },
   "file_extension": ".py",
   "mimetype": "text/x-python",
   "name": "python",
   "nbconvert_exporter": "python",
   "pygments_lexer": "ipython3",
   "version": "3.6.9"
  }
 },
 "nbformat": 4,
 "nbformat_minor": 4
}
