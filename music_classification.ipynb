{
 "cells": [
  {
   "cell_type": "code",
   "execution_count": 1,
   "metadata": {},
   "outputs": [
    {
     "name": "stderr",
     "output_type": "stream",
     "text": [
      "Using TensorFlow backend.\n"
     ]
    }
   ],
   "source": [
    "import pandas as pd\n",
    "import numpy as np\n",
    "import matplotlib.pyplot as plt\n",
    "%matplotlib inline\n",
    "\n",
    "# Preprocessing\n",
    "from sklearn.model_selection import train_test_split\n",
    "from sklearn.preprocessing import LabelEncoder, StandardScaler\n",
    "\n",
    "#Keras\n",
    "import keras\n",
    "\n",
    "import warnings\n",
    "warnings.filterwarnings('ignore')"
   ]
  },
  {
   "cell_type": "code",
   "execution_count": 2,
   "metadata": {},
   "outputs": [],
   "source": [
    "#Dictionary for genres label encoding:\n",
    "genres = {'blues': 0, 'classical': 1, 'country': 2, 'disco': 3, 'hiphop': 4, \n",
    "          'jazz': 5, 'metal': 6, 'pop': 7, 'reggae': 8, 'rock': 9}"
   ]
  },
  {
   "cell_type": "code",
   "execution_count": 3,
   "metadata": {},
   "outputs": [
    {
     "data": {
      "text/html": [
       "<div>\n",
       "<style scoped>\n",
       "    .dataframe tbody tr th:only-of-type {\n",
       "        vertical-align: middle;\n",
       "    }\n",
       "\n",
       "    .dataframe tbody tr th {\n",
       "        vertical-align: top;\n",
       "    }\n",
       "\n",
       "    .dataframe thead th {\n",
       "        text-align: right;\n",
       "    }\n",
       "</style>\n",
       "<table border=\"1\" class=\"dataframe\">\n",
       "  <thead>\n",
       "    <tr style=\"text-align: right;\">\n",
       "      <th></th>\n",
       "      <th>centroid_mean</th>\n",
       "      <th>centroid_std</th>\n",
       "      <th>chroma_mean</th>\n",
       "      <th>chroma_std</th>\n",
       "      <th>flux_mean</th>\n",
       "      <th>flux_std</th>\n",
       "      <th>genre</th>\n",
       "      <th>mfcc_0_mean</th>\n",
       "      <th>mfcc_0_std</th>\n",
       "      <th>mfcc_10_mean</th>\n",
       "      <th>...</th>\n",
       "      <th>mfcc_8_std</th>\n",
       "      <th>mfcc_9_mean</th>\n",
       "      <th>mfcc_9_std</th>\n",
       "      <th>rmse_mean</th>\n",
       "      <th>rmse_std</th>\n",
       "      <th>roloff_mean</th>\n",
       "      <th>roloff_std</th>\n",
       "      <th>tempo</th>\n",
       "      <th>zcr_mean</th>\n",
       "      <th>zcr_std</th>\n",
       "    </tr>\n",
       "  </thead>\n",
       "  <tbody>\n",
       "    <tr>\n",
       "      <th>0</th>\n",
       "      <td>888.192767</td>\n",
       "      <td>379.074067</td>\n",
       "      <td>0.525691</td>\n",
       "      <td>0.295343</td>\n",
       "      <td>1.557968</td>\n",
       "      <td>1.675129</td>\n",
       "      <td>0</td>\n",
       "      <td>-298.866425</td>\n",
       "      <td>55.572163</td>\n",
       "      <td>-1.312751</td>\n",
       "      <td>...</td>\n",
       "      <td>10.512544</td>\n",
       "      <td>4.846227</td>\n",
       "      <td>12.137277</td>\n",
       "      <td>0.118639</td>\n",
       "      <td>0.061269</td>\n",
       "      <td>1770.389295</td>\n",
       "      <td>1010.104647</td>\n",
       "      <td>172.265625</td>\n",
       "      <td>0.029214</td>\n",
       "      <td>0.015715</td>\n",
       "    </tr>\n",
       "    <tr>\n",
       "      <th>1</th>\n",
       "      <td>1001.220509</td>\n",
       "      <td>363.289566</td>\n",
       "      <td>0.497065</td>\n",
       "      <td>0.294911</td>\n",
       "      <td>1.479048</td>\n",
       "      <td>1.466835</td>\n",
       "      <td>0</td>\n",
       "      <td>-239.033478</td>\n",
       "      <td>48.344673</td>\n",
       "      <td>-6.611788</td>\n",
       "      <td>...</td>\n",
       "      <td>8.462409</td>\n",
       "      <td>2.155131</td>\n",
       "      <td>8.355743</td>\n",
       "      <td>0.160613</td>\n",
       "      <td>0.060511</td>\n",
       "      <td>2055.339246</td>\n",
       "      <td>1014.663475</td>\n",
       "      <td>172.265625</td>\n",
       "      <td>0.034871</td>\n",
       "      <td>0.015003</td>\n",
       "    </tr>\n",
       "    <tr>\n",
       "      <th>2</th>\n",
       "      <td>846.548114</td>\n",
       "      <td>618.517730</td>\n",
       "      <td>0.576510</td>\n",
       "      <td>0.270677</td>\n",
       "      <td>1.633401</td>\n",
       "      <td>2.636701</td>\n",
       "      <td>0</td>\n",
       "      <td>-317.237152</td>\n",
       "      <td>81.588196</td>\n",
       "      <td>-1.960779</td>\n",
       "      <td>...</td>\n",
       "      <td>10.031506</td>\n",
       "      <td>9.536193</td>\n",
       "      <td>8.848726</td>\n",
       "      <td>0.102250</td>\n",
       "      <td>0.037121</td>\n",
       "      <td>1625.756836</td>\n",
       "      <td>1435.688964</td>\n",
       "      <td>123.046875</td>\n",
       "      <td>0.032692</td>\n",
       "      <td>0.029412</td>\n",
       "    </tr>\n",
       "    <tr>\n",
       "      <th>3</th>\n",
       "      <td>973.959994</td>\n",
       "      <td>609.317788</td>\n",
       "      <td>0.564331</td>\n",
       "      <td>0.271416</td>\n",
       "      <td>1.451815</td>\n",
       "      <td>2.326623</td>\n",
       "      <td>0</td>\n",
       "      <td>-300.514404</td>\n",
       "      <td>92.136734</td>\n",
       "      <td>-2.918866</td>\n",
       "      <td>...</td>\n",
       "      <td>10.758454</td>\n",
       "      <td>11.795238</td>\n",
       "      <td>10.521724</td>\n",
       "      <td>0.094613</td>\n",
       "      <td>0.039514</td>\n",
       "      <td>1878.647167</td>\n",
       "      <td>1368.791028</td>\n",
       "      <td>129.199219</td>\n",
       "      <td>0.039325</td>\n",
       "      <td>0.030719</td>\n",
       "    </tr>\n",
       "    <tr>\n",
       "      <th>4</th>\n",
       "      <td>1101.462315</td>\n",
       "      <td>365.249696</td>\n",
       "      <td>0.379367</td>\n",
       "      <td>0.298470</td>\n",
       "      <td>1.422705</td>\n",
       "      <td>1.567510</td>\n",
       "      <td>0</td>\n",
       "      <td>-290.625641</td>\n",
       "      <td>67.902252</td>\n",
       "      <td>-7.053016</td>\n",
       "      <td>...</td>\n",
       "      <td>9.873894</td>\n",
       "      <td>-5.429997</td>\n",
       "      <td>10.567539</td>\n",
       "      <td>0.112067</td>\n",
       "      <td>0.066417</td>\n",
       "      <td>2234.553155</td>\n",
       "      <td>871.327336</td>\n",
       "      <td>95.703125</td>\n",
       "      <td>0.050290</td>\n",
       "      <td>0.033235</td>\n",
       "    </tr>\n",
       "  </tbody>\n",
       "</table>\n",
       "<p>5 rows × 40 columns</p>\n",
       "</div>"
      ],
      "text/plain": [
       "   centroid_mean  centroid_std  chroma_mean  chroma_std  flux_mean  flux_std  \\\n",
       "0     888.192767    379.074067     0.525691    0.295343   1.557968  1.675129   \n",
       "1    1001.220509    363.289566     0.497065    0.294911   1.479048  1.466835   \n",
       "2     846.548114    618.517730     0.576510    0.270677   1.633401  2.636701   \n",
       "3     973.959994    609.317788     0.564331    0.271416   1.451815  2.326623   \n",
       "4    1101.462315    365.249696     0.379367    0.298470   1.422705  1.567510   \n",
       "\n",
       "   genre  mfcc_0_mean  mfcc_0_std  mfcc_10_mean  ...  mfcc_8_std  mfcc_9_mean  \\\n",
       "0      0  -298.866425   55.572163     -1.312751  ...   10.512544     4.846227   \n",
       "1      0  -239.033478   48.344673     -6.611788  ...    8.462409     2.155131   \n",
       "2      0  -317.237152   81.588196     -1.960779  ...   10.031506     9.536193   \n",
       "3      0  -300.514404   92.136734     -2.918866  ...   10.758454    11.795238   \n",
       "4      0  -290.625641   67.902252     -7.053016  ...    9.873894    -5.429997   \n",
       "\n",
       "   mfcc_9_std  rmse_mean  rmse_std  roloff_mean   roloff_std       tempo  \\\n",
       "0   12.137277   0.118639  0.061269  1770.389295  1010.104647  172.265625   \n",
       "1    8.355743   0.160613  0.060511  2055.339246  1014.663475  172.265625   \n",
       "2    8.848726   0.102250  0.037121  1625.756836  1435.688964  123.046875   \n",
       "3   10.521724   0.094613  0.039514  1878.647167  1368.791028  129.199219   \n",
       "4   10.567539   0.112067  0.066417  2234.553155   871.327336   95.703125   \n",
       "\n",
       "   zcr_mean   zcr_std  \n",
       "0  0.029214  0.015715  \n",
       "1  0.034871  0.015003  \n",
       "2  0.032692  0.029412  \n",
       "3  0.039325  0.030719  \n",
       "4  0.050290  0.033235  \n",
       "\n",
       "[5 rows x 40 columns]"
      ]
     },
     "execution_count": 3,
     "metadata": {},
     "output_type": "execute_result"
    }
   ],
   "source": [
    "data=pd.read_csv(\"./Features/features2.csv\")\n",
    "data.head()"
   ]
  },
  {
   "cell_type": "code",
   "execution_count": 4,
   "metadata": {},
   "outputs": [],
   "source": [
    "X=data.drop('genre',axis=1)"
   ]
  },
  {
   "cell_type": "code",
   "execution_count": 5,
   "metadata": {},
   "outputs": [],
   "source": [
    "y=data.genre"
   ]
  },
  {
   "cell_type": "code",
   "execution_count": 6,
   "metadata": {},
   "outputs": [],
   "source": [
    "scaled_features = StandardScaler().fit_transform(X.values)\n",
    "X = pd.DataFrame(scaled_features, index=X.index, columns=X.columns)\n"
   ]
  },
  {
   "cell_type": "code",
   "execution_count": 7,
   "metadata": {},
   "outputs": [],
   "source": [
    "X_train, X_test, y_train, y_test = train_test_split(X, y, test_size=0.3)"
   ]
  },
  {
   "cell_type": "code",
   "execution_count": null,
   "metadata": {},
   "outputs": [],
   "source": []
  },
  {
   "cell_type": "code",
   "execution_count": 8,
   "metadata": {},
   "outputs": [
    {
     "name": "stderr",
     "output_type": "stream",
     "text": [
      "WARNING: Logging before flag parsing goes to stderr.\n",
      "W0803 15:05:00.914098 140458862507840 deprecation_wrapper.py:119] From /home/maximiliano/miniconda3/envs/music/lib/python3.6/site-packages/keras/backend/tensorflow_backend.py:74: The name tf.get_default_graph is deprecated. Please use tf.compat.v1.get_default_graph instead.\n",
      "\n",
      "W0803 15:05:01.055602 140458862507840 deprecation_wrapper.py:119] From /home/maximiliano/miniconda3/envs/music/lib/python3.6/site-packages/keras/backend/tensorflow_backend.py:517: The name tf.placeholder is deprecated. Please use tf.compat.v1.placeholder instead.\n",
      "\n",
      "W0803 15:05:01.144213 140458862507840 deprecation_wrapper.py:119] From /home/maximiliano/miniconda3/envs/music/lib/python3.6/site-packages/keras/backend/tensorflow_backend.py:4138: The name tf.random_uniform is deprecated. Please use tf.random.uniform instead.\n",
      "\n"
     ]
    }
   ],
   "source": [
    "from keras import models\n",
    "from keras import layers\n",
    "\n",
    "model = models.Sequential()\n",
    "model.add(layers.Dense(256, activation='relu', input_shape=(X_train.shape[1],)))\n",
    "\n",
    "model.add(layers.Dense(128, activation='relu'))\n",
    "\n",
    "model.add(layers.Dense(64, activation='relu'))\n",
    "\n",
    "model.add(layers.Dense(10, activation='softmax'))"
   ]
  },
  {
   "cell_type": "code",
   "execution_count": 9,
   "metadata": {},
   "outputs": [
    {
     "name": "stderr",
     "output_type": "stream",
     "text": [
      "W0803 15:05:04.359035 140458862507840 deprecation_wrapper.py:119] From /home/maximiliano/miniconda3/envs/music/lib/python3.6/site-packages/keras/optimizers.py:790: The name tf.train.Optimizer is deprecated. Please use tf.compat.v1.train.Optimizer instead.\n",
      "\n",
      "W0803 15:05:04.408550 140458862507840 deprecation_wrapper.py:119] From /home/maximiliano/miniconda3/envs/music/lib/python3.6/site-packages/keras/backend/tensorflow_backend.py:3341: The name tf.log is deprecated. Please use tf.math.log instead.\n",
      "\n"
     ]
    }
   ],
   "source": [
    "model.compile(optimizer='adam',\n",
    "              loss='sparse_categorical_crossentropy',\n",
    "              metrics=['accuracy'])"
   ]
  },
  {
   "cell_type": "code",
   "execution_count": 10,
   "metadata": {},
   "outputs": [
    {
     "name": "stderr",
     "output_type": "stream",
     "text": [
      "W0803 15:05:06.988348 140458862507840 deprecation.py:323] From /home/maximiliano/miniconda3/envs/music/lib/python3.6/site-packages/tensorflow/python/ops/math_grad.py:1250: add_dispatch_support.<locals>.wrapper (from tensorflow.python.ops.array_ops) is deprecated and will be removed in a future version.\n",
      "Instructions for updating:\n",
      "Use tf.where in 2.0, which has the same broadcast rule as np.where\n",
      "W0803 15:05:07.053367 140458862507840 deprecation_wrapper.py:119] From /home/maximiliano/miniconda3/envs/music/lib/python3.6/site-packages/keras/backend/tensorflow_backend.py:986: The name tf.assign_add is deprecated. Please use tf.compat.v1.assign_add instead.\n",
      "\n"
     ]
    },
    {
     "name": "stdout",
     "output_type": "stream",
     "text": [
      "Epoch 1/20\n",
      "1386/1386 [==============================] - 3s 2ms/step - loss: 2.0599 - acc: 0.3023\n",
      "Epoch 2/20\n",
      "1386/1386 [==============================] - 0s 55us/step - loss: 1.5002 - acc: 0.4820\n",
      "Epoch 3/20\n",
      "1386/1386 [==============================] - 0s 57us/step - loss: 1.1464 - acc: 0.6053\n",
      "Epoch 4/20\n",
      "1386/1386 [==============================] - 0s 67us/step - loss: 0.9481 - acc: 0.6797\n",
      "Epoch 5/20\n",
      "1386/1386 [==============================] - 0s 60us/step - loss: 0.8135 - acc: 0.7302\n",
      "Epoch 6/20\n",
      "1386/1386 [==============================] - 0s 50us/step - loss: 0.7094 - acc: 0.7619\n",
      "Epoch 7/20\n",
      "1386/1386 [==============================] - 0s 60us/step - loss: 0.6611 - acc: 0.7951\n",
      "Epoch 8/20\n",
      "1386/1386 [==============================] - 0s 49us/step - loss: 0.5779 - acc: 0.8182\n",
      "Epoch 9/20\n",
      "1386/1386 [==============================] - 0s 55us/step - loss: 0.5182 - acc: 0.8312\n",
      "Epoch 10/20\n",
      "1386/1386 [==============================] - 0s 57us/step - loss: 0.4800 - acc: 0.8405\n",
      "Epoch 11/20\n",
      "1386/1386 [==============================] - 0s 55us/step - loss: 0.4508 - acc: 0.8579\n",
      "Epoch 12/20\n",
      "1386/1386 [==============================] - 0s 57us/step - loss: 0.4181 - acc: 0.8615\n",
      "Epoch 13/20\n",
      "1386/1386 [==============================] - 0s 69us/step - loss: 0.3787 - acc: 0.8838\n",
      "Epoch 14/20\n",
      "1386/1386 [==============================] - 0s 84us/step - loss: 0.3546 - acc: 0.8911\n",
      "Epoch 15/20\n",
      "1386/1386 [==============================] - 0s 68us/step - loss: 0.3211 - acc: 0.9019\n",
      "Epoch 16/20\n",
      "1386/1386 [==============================] - 0s 70us/step - loss: 0.2860 - acc: 0.9228\n",
      "Epoch 17/20\n",
      "1386/1386 [==============================] - 0s 72us/step - loss: 0.2680 - acc: 0.9307\n",
      "Epoch 18/20\n",
      "1386/1386 [==============================] - 0s 62us/step - loss: 0.2436 - acc: 0.9351\n",
      "Epoch 19/20\n",
      "1386/1386 [==============================] - 0s 70us/step - loss: 0.2387 - acc: 0.9372\n",
      "Epoch 20/20\n",
      "1386/1386 [==============================] - 0s 57us/step - loss: 0.2052 - acc: 0.9466\n"
     ]
    }
   ],
   "source": [
    "history = model.fit(X_train,\n",
    "                    y_train,\n",
    "                    epochs=20,\n",
    "                    batch_size=128)"
   ]
  },
  {
   "cell_type": "code",
   "execution_count": 11,
   "metadata": {},
   "outputs": [
    {
     "name": "stdout",
     "output_type": "stream",
     "text": [
      "594/594 [==============================] - 0s 311us/step\n"
     ]
    }
   ],
   "source": [
    "test_loss, test_acc = model.evaluate(X_test,y_test)"
   ]
  },
  {
   "cell_type": "code",
   "execution_count": 12,
   "metadata": {},
   "outputs": [
    {
     "name": "stdout",
     "output_type": "stream",
     "text": [
      "0.6146500217994857 0.8030303024282359\n"
     ]
    }
   ],
   "source": [
    "print(test_loss, test_acc)"
   ]
  },
  {
   "cell_type": "code",
   "execution_count": 31,
   "metadata": {},
   "outputs": [],
   "source": [
    "y_pred=model.predict(X_test)"
   ]
  },
  {
   "cell_type": "code",
   "execution_count": 33,
   "metadata": {},
   "outputs": [
    {
     "data": {
      "text/plain": [
       "array([6.7813997e-04, 6.9780363e-04, 2.0520808e-04, 2.6808502e-04,\n",
       "       4.5837524e-07, 9.9723393e-01, 1.9430850e-05, 7.4965060e-06,\n",
       "       7.6516772e-06, 8.8182383e-04], dtype=float32)"
      ]
     },
     "execution_count": 33,
     "metadata": {},
     "output_type": "execute_result"
    }
   ],
   "source": [
    "y_pred[0]"
   ]
  },
  {
   "cell_type": "code",
   "execution_count": null,
   "metadata": {},
   "outputs": [],
   "source": []
  }
 ],
 "metadata": {
  "kernelspec": {
   "display_name": "Python 3",
   "language": "python",
   "name": "python3"
  },
  "language_info": {
   "codemirror_mode": {
    "name": "ipython",
    "version": 3
   },
   "file_extension": ".py",
   "mimetype": "text/x-python",
   "name": "python",
   "nbconvert_exporter": "python",
   "pygments_lexer": "ipython3",
   "version": "3.6.9"
  }
 },
 "nbformat": 4,
 "nbformat_minor": 4
}
