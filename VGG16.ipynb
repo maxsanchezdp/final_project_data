{
  "nbformat": 4,
  "nbformat_minor": 0,
  "metadata": {
    "accelerator": "GPU",
    "colab": {
      "name": "Copia de Untitled1.ipynb",
      "version": "0.3.2",
      "provenance": [],
      "machine_shape": "hm",
      "include_colab_link": true
    },
    "kernelspec": {
      "display_name": "Python 3",
      "language": "python",
      "name": "python3"
    },
    "language_info": {
      "codemirror_mode": {
        "name": "ipython",
        "version": 3
      },
      "file_extension": ".py",
      "mimetype": "text/x-python",
      "name": "python",
      "nbconvert_exporter": "python",
      "pygments_lexer": "ipython3",
      "version": "3.6.9"
    }
  },
  "cells": [
    {
      "cell_type": "markdown",
      "metadata": {
        "id": "view-in-github",
        "colab_type": "text"
      },
      "source": [
        "<a href=\"https://colab.research.google.com/github/maxsanchezdp/music_classifier/blob/master/VGG16.ipynb\" target=\"_parent\"><img src=\"https://colab.research.google.com/assets/colab-badge.svg\" alt=\"Open In Colab\"/></a>"
      ]
    },
    {
      "cell_type": "code",
      "metadata": {
        "colab_type": "code",
        "id": "vRpZoatv3LDq",
        "colab": {
          "base_uri": "https://localhost:8080/",
          "height": 34
        },
        "outputId": "99f22438-ce71-49cf-ab78-b4e443d9e4b0"
      },
      "source": [
        "import warnings\n",
        "warnings.filterwarnings(\"ignore\", category = FutureWarning)\n",
        "\n",
        "import os\n",
        "import keras\n",
        "import h5py\n",
        "import librosa\n",
        "import itertools\n",
        "import numpy as np\n",
        "import matplotlib.pyplot as plt\n",
        "from collections import OrderedDict\n",
        "\n",
        "\n",
        "from keras.utils import to_categorical\n",
        "from sklearn.model_selection import train_test_split\n",
        "from sklearn.metrics import confusion_matrix\n",
        "\n",
        "from keras.models import Sequential\n",
        "from keras.layers import Dense\n",
        "from keras.layers import Activation\n",
        "from keras.layers import Flatten\n",
        "from keras.layers import Input\n",
        "from keras.layers import Dropout\n",
        "from keras.models import Model\n",
        "from keras.applications.vgg16 import VGG16\n"
      ],
      "execution_count": 1,
      "outputs": [
        {
          "output_type": "stream",
          "text": [
            "Using TensorFlow backend.\n"
          ],
          "name": "stderr"
        }
      ]
    },
    {
      "cell_type": "code",
      "metadata": {
        "colab_type": "code",
        "id": "rJQGP6c73P0n",
        "outputId": "0d1d055c-5241-4fea-d86d-0502acc82a9b",
        "colab": {
          "base_uri": "https://localhost:8080/",
          "height": 122
        }
      },
      "source": [
        "from google.colab import drive\n",
        "drive.mount('/content/drive')"
      ],
      "execution_count": 3,
      "outputs": [
        {
          "output_type": "stream",
          "text": [
            "Go to this URL in a browser: https://accounts.google.com/o/oauth2/auth?client_id=947318989803-6bn6qk8qdgf4n4g3pfee6491hc0brc4i.apps.googleusercontent.com&redirect_uri=urn%3Aietf%3Awg%3Aoauth%3A2.0%3Aoob&scope=email%20https%3A%2F%2Fwww.googleapis.com%2Fauth%2Fdocs.test%20https%3A%2F%2Fwww.googleapis.com%2Fauth%2Fdrive%20https%3A%2F%2Fwww.googleapis.com%2Fauth%2Fdrive.photos.readonly%20https%3A%2F%2Fwww.googleapis.com%2Fauth%2Fpeopleapi.readonly&response_type=code\n",
            "\n",
            "Enter your authorization code:\n",
            "··········\n",
            "Mounted at /content/drive\n"
          ],
          "name": "stdout"
        }
      ]
    },
    {
      "cell_type": "code",
      "metadata": {
        "colab_type": "code",
        "id": "VX57CgaD3LDy",
        "colab": {}
      },
      "source": [
        "\n",
        "def split_songs(X, y, window = 0.1, overlap = 0.5):\n",
        "    \"\"\"\n",
        "    Function to split a song into multiple songs.\n",
        "    \"\"\"\n",
        "    # Temporary lists to hold results\n",
        "    temp_X = []\n",
        "    temp_y = []\n",
        "\n",
        "    # Get input song array size\n",
        "    xshape = X.shape[0]\n",
        "    chunk = int(xshape*window)\n",
        "    offset = int(chunk*(1.-overlap))\n",
        "    \n",
        "    # Split the song and create new ones\n",
        "    spsong = [X[i:i+chunk] for i in range(0, xshape - chunk + offset, offset)]\n",
        "    for s in spsong:\n",
        "        temp_X.append(s)\n",
        "        temp_y.append(y)\n",
        "\n",
        "    return np.array(temp_X), np.array(temp_y)"
      ],
      "execution_count": 0,
      "outputs": []
    },
    {
      "cell_type": "code",
      "metadata": {
        "colab_type": "code",
        "id": "Mu5UuNni3LD5",
        "colab": {}
      },
      "source": [
        "def melspectrogram(songs, n_fft = 1024, hop_length = 512):\n",
        "    \"\"\"\n",
        "    Function to convert a list of songs to an array of melspectrograms\n",
        "    \"\"\"\n",
        "    # Transformation function\n",
        "    melspec = lambda x: librosa.feature.melspectrogram(x, n_fft = n_fft, hop_length = hop_length)[:,:,np.newaxis]\n",
        "\n",
        "    # map function to songs\n",
        "    tsongs = map(melspec, songs)\n",
        "    return np.array(list(tsongs))"
      ],
      "execution_count": 0,
      "outputs": []
    },
    {
      "cell_type": "code",
      "metadata": {
        "colab_type": "code",
        "id": "hPCXTbQ53LD9",
        "colab": {}
      },
      "source": [
        "def read_data(src_dir, genres, song_samples, spec_format, debug = False):\n",
        "    \"\"\"\n",
        "    Function to read songs, split them, create melspectrograms and saving X and y to np.arrays\n",
        "    \"\"\"\n",
        "    # Empty array to create np.arrays\n",
        "    arr_specs = []\n",
        "    arr_genres = []\n",
        "\n",
        "    # Read files\n",
        "    for x,_ in genres.items():\n",
        "        folder = src_dir + x\n",
        "        \n",
        "        for root, subdirs, files in os.walk(folder):\n",
        "            for file in files:\n",
        "                # Read audio file\n",
        "                file_name = folder + \"/\" + file\n",
        "                signal, sr = librosa.load(file_name)\n",
        "                signal = signal[:song_samples] #keep only specified length of song array\n",
        "                \n",
        "                # Debug \n",
        "                if debug:\n",
        "                    print(f\"Reading file: {file_name}\")\n",
        "                \n",
        "                # Split songs\n",
        "                signals, y = split_songs(signal, genres[x])\n",
        "                \n",
        "                # Convert to melspectrograms\n",
        "                specs = spec_format(signals)\n",
        "                \n",
        "                # Save files\n",
        "                arr_genres.extend(y)\n",
        "                arr_specs.extend(specs)\n",
        "                \n",
        "                \n",
        "    return np.array(arr_specs), np.array(arr_genres)"
      ],
      "execution_count": 0,
      "outputs": []
    },
    {
      "cell_type": "code",
      "metadata": {
        "colab_type": "code",
        "id": "whe_NpQz3LED",
        "colab": {}
      },
      "source": [
        "# Parameters\n",
        "audio_dir = '/content/drive/My Drive/final_project_dataset/genres/' #/content/drive/My Drive/final_project_dataset/genres/\n",
        "song_samples = 660000\n",
        "genres = {'blues': 0, 'classical': 1, 'country': 2, 'disco': 3, 'hiphop': 4, \n",
        "          'jazz': 5, 'metal': 6, 'pop': 7, 'reggae': 8, 'rock': 9}"
      ],
      "execution_count": 0,
      "outputs": []
    },
    {
      "cell_type": "code",
      "metadata": {
        "colab_type": "code",
        "id": "dStg68ip3LEJ",
        "colab": {}
      },
      "source": [
        "# Read the data\n",
        "X, y = read_data(audio_dir, genres, song_samples, melspectrogram, debug=True)\n",
        "np.save('/content/drive/My Drive/x_audio_npy.npy', X)#/content/drive/My Drive/x_audio_npy.npy\n",
        "np.save('/content/drive/My Drive/y_audio_npy.npy', y)#/content/drive/My Drive/y_audio_npy.npy"
      ],
      "execution_count": 0,
      "outputs": []
    },
    {
      "cell_type": "code",
      "metadata": {
        "colab_type": "code",
        "id": "0m7B2b0z3LEV",
        "colab": {}
      },
      "source": [
        "\n",
        "X = np.load('/content/drive/My Drive/x_audio_npy.npy')#/content/drive/My Drive/x_audio_npy.npy\n",
        "y = np.load('/content/drive/My Drive/y_audio_npy.npy')#/content/drive/My Drive/y_audio_npy.npy"
      ],
      "execution_count": 0,
      "outputs": []
    },
    {
      "cell_type": "code",
      "metadata": {
        "colab_type": "code",
        "id": "WH88bhLK3LEb",
        "colab": {}
      },
      "source": [
        "# One hot encoding of song labels \n",
        "y = to_categorical(y)"
      ],
      "execution_count": 0,
      "outputs": []
    },
    {
      "cell_type": "code",
      "metadata": {
        "colab_type": "code",
        "id": "kV1Y3iOl3LEi",
        "outputId": "ebeadbd6-857d-43bb-c71d-77854b528c7b",
        "colab": {
          "base_uri": "https://localhost:8080/",
          "height": 34
        }
      },
      "source": [
        "X_stack = np.squeeze(np.stack((X,) * 3, -1))\n",
        "X_stack.shape"
      ],
      "execution_count": 8,
      "outputs": [
        {
          "output_type": "execute_result",
          "data": {
            "text/plain": [
              "(19000, 128, 129, 3)"
            ]
          },
          "metadata": {
            "tags": []
          },
          "execution_count": 8
        }
      ]
    },
    {
      "cell_type": "code",
      "metadata": {
        "colab_type": "code",
        "id": "M9mYink_7oSe",
        "colab": {}
      },
      "source": [
        "\n",
        "X_train, X_test, y_train, y_test = train_test_split(X_stack, y, test_size=0.3, random_state=42, stratify = y)"
      ],
      "execution_count": 0,
      "outputs": []
    },
    {
      "cell_type": "code",
      "metadata": {
        "colab_type": "code",
        "id": "23lHpM1l71t3",
        "outputId": "30d3ce9d-f172-4fff-8058-7298edb55ee8",
        "colab": {
          "base_uri": "https://localhost:8080/",
          "height": 34
        }
      },
      "source": [
        "print(X_train.shape, X_test.shape, y_train.shape, y_test.shape)"
      ],
      "execution_count": 10,
      "outputs": [
        {
          "output_type": "stream",
          "text": [
            "(13300, 128, 129, 3) (5700, 128, 129, 3) (13300, 10) (5700, 10)\n"
          ],
          "name": "stdout"
        }
      ]
    },
    {
      "cell_type": "code",
      "metadata": {
        "colab_type": "code",
        "id": "U2gzlS-VAnH0",
        "outputId": "b0e447eb-ccf5-481e-8a27-e2e8fcfab118",
        "colab": {
          "base_uri": "https://localhost:8080/",
          "height": 269
        }
      },
      "source": [
        "# Histogram for train and test \n",
        "values, count = np.unique(np.argmax(y_train, axis=1), return_counts=True)\n",
        "plt.bar(values, count)\n",
        "\n",
        "values, count = np.unique(np.argmax(y_test, axis=1), return_counts=True)\n",
        "plt.bar(values, count)\n",
        "plt.show()"
      ],
      "execution_count": 11,
      "outputs": [
        {
          "output_type": "display_data",
          "data": {
            "image/png": "[encoded data removed]",
            "text/plain": [
              "<Figure size 432x288 with 1 Axes>"
            ]
          },
          "metadata": {
            "tags": []
          }
        }
      ]
    },
    {
      "cell_type": "code",
      "metadata": {
        "colab_type": "code",
        "id": "thmtllbgApRo",
        "outputId": "eddf34e1-6683-4b02-c215-23108a9a6157",
        "colab": {
          "base_uri": "https://localhost:8080/",
          "height": 816
        }
      },
      "source": [
        "input_shape = X_train[0].shape\n",
        "num_genres = 10\n",
        "\n",
        "def cnn_vgg16(input_shape, num_genres, freezed_layers):\n",
        "    input_tensor = Input(shape=input_shape)\n",
        "    vgg16 = VGG16(include_top=False, weights='imagenet',\n",
        "                  input_tensor=input_tensor)\n",
        "\n",
        "    top = Sequential()\n",
        "    top.add(Flatten(input_shape=vgg16.output_shape[1:]))\n",
        "    top.add(Dense(128, activation='relu'))\n",
        "    top.add(Dropout(0.5))\n",
        "    top.add(Dense(num_genres, activation='softmax'))\n",
        "\n",
        "    model = Model(inputs=vgg16.input, outputs=top(vgg16.output))\n",
        "    for layer in model.layers[:freezed_layers]:\n",
        "        layer.trainable = False\n",
        "\n",
        "    return model\n",
        "\n",
        "model = cnn_vgg16(input_shape, num_genres, 5)\n",
        "model.summary()"
      ],
      "execution_count": 16,
      "outputs": [
        {
          "output_type": "stream",
          "text": [
            "_________________________________________________________________\n",
            "Layer (type)                 Output Shape              Param #   \n",
            "=================================================================\n",
            "input_2 (InputLayer)         (None, 128, 129, 3)       0         \n",
            "_________________________________________________________________\n",
            "block1_conv1 (Conv2D)        (None, 128, 129, 64)      1792      \n",
            "_________________________________________________________________\n",
            "block1_conv2 (Conv2D)        (None, 128, 129, 64)      36928     \n",
            "_________________________________________________________________\n",
            "block1_pool (MaxPooling2D)   (None, 64, 64, 64)        0         \n",
            "_________________________________________________________________\n",
            "block2_conv1 (Conv2D)        (None, 64, 64, 128)       73856     \n",
            "_________________________________________________________________\n",
            "block2_conv2 (Conv2D)        (None, 64, 64, 128)       147584    \n",
            "_________________________________________________________________\n",
            "block2_pool (MaxPooling2D)   (None, 32, 32, 128)       0         \n",
            "_________________________________________________________________\n",
            "block3_conv1 (Conv2D)        (None, 32, 32, 256)       295168    \n",
            "_________________________________________________________________\n",
            "block3_conv2 (Conv2D)        (None, 32, 32, 256)       590080    \n",
            "_________________________________________________________________\n",
            "block3_conv3 (Conv2D)        (None, 32, 32, 256)       590080    \n",
            "_________________________________________________________________\n",
            "block3_pool (MaxPooling2D)   (None, 16, 16, 256)       0         \n",
            "_________________________________________________________________\n",
            "block4_conv1 (Conv2D)        (None, 16, 16, 512)       1180160   \n",
            "_________________________________________________________________\n",
            "block4_conv2 (Conv2D)        (None, 16, 16, 512)       2359808   \n",
            "_________________________________________________________________\n",
            "block4_conv3 (Conv2D)        (None, 16, 16, 512)       2359808   \n",
            "_________________________________________________________________\n",
            "block4_pool (MaxPooling2D)   (None, 8, 8, 512)         0         \n",
            "_________________________________________________________________\n",
            "block5_conv1 (Conv2D)        (None, 8, 8, 512)         2359808   \n",
            "_________________________________________________________________\n",
            "block5_conv2 (Conv2D)        (None, 8, 8, 512)         2359808   \n",
            "_________________________________________________________________\n",
            "block5_conv3 (Conv2D)        (None, 8, 8, 512)         2359808   \n",
            "_________________________________________________________________\n",
            "block5_pool (MaxPooling2D)   (None, 4, 4, 512)         0         \n",
            "_________________________________________________________________\n",
            "sequential_2 (Sequential)    (None, 10)                1049994   \n",
            "=================================================================\n",
            "Total params: 15,764,682\n",
            "Trainable params: 15,652,106\n",
            "Non-trainable params: 112,576\n",
            "_________________________________________________________________\n"
          ],
          "name": "stdout"
        }
      ]
    },
    {
      "cell_type": "code",
      "metadata": {
        "colab_type": "code",
        "id": "KYM-3i4tAuLG",
        "outputId": "54af85bd-7176-4274-82d4-7f68841de92e",
        "colab": {
          "base_uri": "https://localhost:8080/",
          "height": 1000
        }
      },
      "source": [
        "model.compile(loss=keras.losses.categorical_crossentropy,\n",
        "              optimizer=keras.optimizers.Adam(),\n",
        "              metrics=['accuracy'])\n",
        "\n",
        "hist = model.fit(X_train, y_train,\n",
        "          batch_size=128,\n",
        "          epochs=50,\n",
        "          verbose=1,\n",
        "          validation_data=(X_test, y_test))"
      ],
      "execution_count": 17,
      "outputs": [
        {
          "output_type": "stream",
          "text": [
            "Train on 13300 samples, validate on 5700 samples\n",
            "Epoch 1/50\n",
            "13300/13300 [==============================] - 53s 4ms/step - loss: 2.1691 - acc: 0.2538 - val_loss: 1.7334 - val_acc: 0.3665\n",
            "Epoch 2/50\n",
            "13300/13300 [==============================] - 52s 4ms/step - loss: 1.7218 - acc: 0.3688 - val_loss: 1.4580 - val_acc: 0.4884\n",
            "Epoch 3/50\n",
            "13300/13300 [==============================] - 52s 4ms/step - loss: 1.4779 - acc: 0.4728 - val_loss: 1.3297 - val_acc: 0.5179\n",
            "Epoch 4/50\n",
            "13300/13300 [==============================] - 52s 4ms/step - loss: 1.3060 - acc: 0.5367 - val_loss: 1.1761 - val_acc: 0.5900\n",
            "Epoch 5/50\n",
            "13300/13300 [==============================] - 52s 4ms/step - loss: 1.1902 - acc: 0.5789 - val_loss: 1.0658 - val_acc: 0.6249\n",
            "Epoch 6/50\n",
            "13300/13300 [==============================] - 52s 4ms/step - loss: 1.1005 - acc: 0.6171 - val_loss: 0.9947 - val_acc: 0.6486\n",
            "Epoch 7/50\n",
            "13300/13300 [==============================] - 52s 4ms/step - loss: 0.9754 - acc: 0.6628 - val_loss: 0.8917 - val_acc: 0.6928\n",
            "Epoch 8/50\n",
            "13300/13300 [==============================] - 52s 4ms/step - loss: 0.8876 - acc: 0.6909 - val_loss: 0.8547 - val_acc: 0.7060\n",
            "Epoch 9/50\n",
            "13300/13300 [==============================] - 52s 4ms/step - loss: 0.8568 - acc: 0.7056 - val_loss: 0.7694 - val_acc: 0.7418\n",
            "Epoch 10/50\n",
            "13300/13300 [==============================] - 52s 4ms/step - loss: 0.7540 - acc: 0.7448 - val_loss: 0.8643 - val_acc: 0.7175\n",
            "Epoch 11/50\n",
            "13300/13300 [==============================] - 52s 4ms/step - loss: 0.7430 - acc: 0.7533 - val_loss: 0.6542 - val_acc: 0.7802\n",
            "Epoch 12/50\n",
            "13300/13300 [==============================] - 52s 4ms/step - loss: 0.6208 - acc: 0.7897 - val_loss: 0.6145 - val_acc: 0.7970\n",
            "Epoch 13/50\n",
            "13300/13300 [==============================] - 52s 4ms/step - loss: 0.6215 - acc: 0.7881 - val_loss: 0.6170 - val_acc: 0.7912\n",
            "Epoch 14/50\n",
            "13300/13300 [==============================] - 52s 4ms/step - loss: 0.5519 - acc: 0.8125 - val_loss: 0.5450 - val_acc: 0.8256\n",
            "Epoch 15/50\n",
            "13300/13300 [==============================] - 52s 4ms/step - loss: 0.4917 - acc: 0.8383 - val_loss: 0.5984 - val_acc: 0.8095\n",
            "Epoch 16/50\n",
            "13300/13300 [==============================] - 52s 4ms/step - loss: 0.4411 - acc: 0.8554 - val_loss: 0.5377 - val_acc: 0.8379\n",
            "Epoch 17/50\n",
            "13300/13300 [==============================] - 52s 4ms/step - loss: 0.4023 - acc: 0.8635 - val_loss: 0.5740 - val_acc: 0.8133\n",
            "Epoch 18/50\n",
            "13300/13300 [==============================] - 52s 4ms/step - loss: 0.3719 - acc: 0.8756 - val_loss: 0.4690 - val_acc: 0.8556\n",
            "Epoch 19/50\n",
            "13300/13300 [==============================] - 52s 4ms/step - loss: 0.3297 - acc: 0.8909 - val_loss: 0.4796 - val_acc: 0.8518\n",
            "Epoch 20/50\n",
            "13300/13300 [==============================] - 52s 4ms/step - loss: 0.3139 - acc: 0.9007 - val_loss: 0.4594 - val_acc: 0.8612\n",
            "Epoch 21/50\n",
            "13300/13300 [==============================] - 52s 4ms/step - loss: 0.2876 - acc: 0.9074 - val_loss: 0.5151 - val_acc: 0.8481\n",
            "Epoch 22/50\n",
            "13300/13300 [==============================] - 52s 4ms/step - loss: 0.2541 - acc: 0.9181 - val_loss: 0.5209 - val_acc: 0.8488\n",
            "Epoch 23/50\n",
            "13300/13300 [==============================] - 52s 4ms/step - loss: 0.2615 - acc: 0.9175 - val_loss: 0.4229 - val_acc: 0.8779\n",
            "Epoch 24/50\n",
            "13300/13300 [==============================] - 52s 4ms/step - loss: 0.1922 - acc: 0.9356 - val_loss: 0.4785 - val_acc: 0.8632\n",
            "Epoch 25/50\n",
            "13300/13300 [==============================] - 52s 4ms/step - loss: 0.2674 - acc: 0.9151 - val_loss: 0.5437 - val_acc: 0.8556\n",
            "Epoch 26/50\n",
            "13300/13300 [==============================] - 52s 4ms/step - loss: 0.2357 - acc: 0.9236 - val_loss: 0.4989 - val_acc: 0.8665\n",
            "Epoch 27/50\n",
            "13300/13300 [==============================] - 52s 4ms/step - loss: 0.2233 - acc: 0.9292 - val_loss: 0.4880 - val_acc: 0.8693\n",
            "Epoch 28/50\n",
            "13300/13300 [==============================] - 52s 4ms/step - loss: 0.1925 - acc: 0.9399 - val_loss: 0.4530 - val_acc: 0.8767\n",
            "Epoch 29/50\n",
            "13300/13300 [==============================] - 52s 4ms/step - loss: 0.1668 - acc: 0.9474 - val_loss: 0.5744 - val_acc: 0.8561\n",
            "Epoch 30/50\n",
            "13300/13300 [==============================] - 52s 4ms/step - loss: 0.2093 - acc: 0.9350 - val_loss: 0.4295 - val_acc: 0.8902\n",
            "Epoch 31/50\n",
            "13300/13300 [==============================] - 52s 4ms/step - loss: 0.2243 - acc: 0.9328 - val_loss: 0.4367 - val_acc: 0.8811\n",
            "Epoch 32/50\n",
            "13300/13300 [==============================] - 52s 4ms/step - loss: 0.1825 - acc: 0.9426 - val_loss: 0.5335 - val_acc: 0.8644\n",
            "Epoch 33/50\n",
            "13300/13300 [==============================] - 52s 4ms/step - loss: 0.1916 - acc: 0.9415 - val_loss: 0.4034 - val_acc: 0.8912\n",
            "Epoch 34/50\n",
            "13300/13300 [==============================] - 52s 4ms/step - loss: 0.1354 - acc: 0.9580 - val_loss: 0.4117 - val_acc: 0.8972\n",
            "Epoch 35/50\n",
            "13300/13300 [==============================] - 52s 4ms/step - loss: 0.1496 - acc: 0.9541 - val_loss: 0.4740 - val_acc: 0.8786\n",
            "Epoch 36/50\n",
            "13300/13300 [==============================] - 52s 4ms/step - loss: 0.1334 - acc: 0.9594 - val_loss: 0.4659 - val_acc: 0.8909\n",
            "Epoch 37/50\n",
            "13300/13300 [==============================] - 52s 4ms/step - loss: 0.1867 - acc: 0.9471 - val_loss: 0.5031 - val_acc: 0.8718\n",
            "Epoch 38/50\n",
            "13300/13300 [==============================] - 52s 4ms/step - loss: 0.1696 - acc: 0.9514 - val_loss: 0.4396 - val_acc: 0.8961\n",
            "Epoch 39/50\n",
            "13300/13300 [==============================] - 52s 4ms/step - loss: 0.1728 - acc: 0.9509 - val_loss: 0.5162 - val_acc: 0.8667\n",
            "Epoch 40/50\n",
            "13300/13300 [==============================] - 52s 4ms/step - loss: 0.1848 - acc: 0.9434 - val_loss: 0.5065 - val_acc: 0.8707\n",
            "Epoch 41/50\n",
            "13300/13300 [==============================] - 52s 4ms/step - loss: 0.1179 - acc: 0.9636 - val_loss: 0.4728 - val_acc: 0.8846\n",
            "Epoch 42/50\n",
            "13300/13300 [==============================] - 52s 4ms/step - loss: 0.1405 - acc: 0.9594 - val_loss: 0.4158 - val_acc: 0.8988\n",
            "Epoch 43/50\n",
            "13300/13300 [==============================] - 52s 4ms/step - loss: 0.2225 - acc: 0.9378 - val_loss: 0.5008 - val_acc: 0.8791\n",
            "Epoch 44/50\n",
            "13300/13300 [==============================] - 52s 4ms/step - loss: 0.1443 - acc: 0.9548 - val_loss: 0.4365 - val_acc: 0.8944\n",
            "Epoch 45/50\n",
            "13300/13300 [==============================] - 52s 4ms/step - loss: 0.1203 - acc: 0.9632 - val_loss: 0.5597 - val_acc: 0.8725\n",
            "Epoch 46/50\n",
            "13300/13300 [==============================] - 52s 4ms/step - loss: 0.1359 - acc: 0.9585 - val_loss: 0.5749 - val_acc: 0.8777\n",
            "Epoch 47/50\n",
            "13300/13300 [==============================] - 52s 4ms/step - loss: 0.2084 - acc: 0.9379 - val_loss: 0.4490 - val_acc: 0.8937\n",
            "Epoch 48/50\n",
            "13300/13300 [==============================] - 52s 4ms/step - loss: 0.0987 - acc: 0.9692 - val_loss: 0.5041 - val_acc: 0.8877\n",
            "Epoch 49/50\n",
            "13300/13300 [==============================] - 52s 4ms/step - loss: 0.1255 - acc: 0.9611 - val_loss: 0.4598 - val_acc: 0.8860\n",
            "Epoch 50/50\n",
            "13300/13300 [==============================] - 52s 4ms/step - loss: 0.2471 - acc: 0.9301 - val_loss: 0.4689 - val_acc: 0.8740\n"
          ],
          "name": "stdout"
        }
      ]
    },
    {
      "cell_type": "code",
      "metadata": {
        "colab_type": "code",
        "id": "kU2vu0ItBVSk",
        "outputId": "b102e4ef-a491-4b5a-8ba9-7d2188665c96",
        "colab": {
          "base_uri": "https://localhost:8080/",
          "height": 34
        }
      },
      "source": [
        "score = model.evaluate(X_test, y_test, verbose=0)\n",
        "print(\"val_loss = {:.3f} and val_acc = {:.3f}\".format(score[0], score[1]))"
      ],
      "execution_count": 18,
      "outputs": [
        {
          "output_type": "stream",
          "text": [
            "val_loss = 0.469 and val_acc = 0.874\n"
          ],
          "name": "stdout"
        }
      ]
    },
    {
      "cell_type": "code",
      "metadata": {
        "colab_type": "code",
        "id": "eGj3bcZaH6ya",
        "outputId": "1db2ee09-d96f-493d-cb1e-a5cc32535cdd",
        "colab": {
          "base_uri": "https://localhost:8080/",
          "height": 533
        }
      },
      "source": [
        "plt.figure(figsize=(15,7))\n",
        "\n",
        "plt.subplot(1,2,1)\n",
        "plt.plot(hist.history['acc'], label='train')\n",
        "plt.plot(hist.history['val_acc'], label='validation')\n",
        "plt.title('Accuracy')\n",
        "plt.xlabel('Epochs')\n",
        "plt.ylabel('Accuracy')\n",
        "plt.legend()\n",
        "\n",
        "plt.subplot(1,2,2)\n",
        "plt.plot(hist.history['loss'], label='train')\n",
        "plt.plot(hist.history['val_loss'], label='validation')\n",
        "plt.title('Loss')\n",
        "plt.xlabel('Epochs')\n",
        "plt.ylabel('Loss')\n",
        "plt.legend()\n",
        "\n",
        "plt.tight_layout()\n",
        "plt.show()"
      ],
      "execution_count": 19,
      "outputs": [
        {
          "output_type": "display_data",
          "data": {
            "image/png": "[encoded data removed]",
            "text/plain": [
              "<Figure size 1080x504 with 2 Axes>"
            ]
          },
          "metadata": {
            "tags": []
          }
        }
      ]
    },
    {
      "cell_type": "code",
      "metadata": {
        "colab_type": "code",
        "id": "Va8LtAIiH9vs",
        "colab": {}
      },
      "source": [
        "#http://scikit-learn.org/stable/auto_examples/model_selection/plot_confusion_matrix.html\n",
        "def plot_confusion_matrix(cm, classes,\n",
        "                          normalize=False,\n",
        "                          title='Confusion matrix',\n",
        "                          cmap=plt.cm.Blues):\n",
        "    \"\"\"\n",
        "    This function prints and plots the confusion matrix.\n",
        "    Normalization can be applied by setting `normalize=True`.\n",
        "    \"\"\"\n",
        "    if normalize:\n",
        "        cm = cm.astype('float') / cm.sum(axis=1)[:, np.newaxis]\n",
        "        print(\"Normalized confusion matrix\")\n",
        "    else:\n",
        "        print('Confusion matrix, without normalization')\n",
        "\n",
        "    plt.imshow(cm, interpolation='nearest', cmap=cmap)\n",
        "    plt.title(title)\n",
        "    plt.colorbar()\n",
        "    tick_marks = np.arange(len(classes))\n",
        "    plt.xticks(tick_marks, classes, rotation=45)\n",
        "    plt.yticks(tick_marks, classes)\n",
        "\n",
        "    fmt = '.2f' if normalize else 'd'\n",
        "    thresh = cm.max() / 2.\n",
        "    for i, j in itertools.product(range(cm.shape[0]), range(cm.shape[1])):\n",
        "        plt.text(j, i, format(cm[i, j], fmt),\n",
        "                 horizontalalignment=\"center\",\n",
        "                 color=\"white\" if cm[i, j] > thresh else \"black\")\n",
        "\n",
        "    plt.tight_layout()\n",
        "    plt.ylabel('True label')\n",
        "    plt.xlabel('Predicted label')"
      ],
      "execution_count": 0,
      "outputs": []
    },
    {
      "cell_type": "code",
      "metadata": {
        "colab_type": "code",
        "id": "bw2goFrQIArS",
        "colab": {}
      },
      "source": [
        "preds = np.argmax(model.predict(X_test), axis = 1)\n",
        "y_orig = np.argmax(y_test, axis = 1)\n",
        "cm = confusion_matrix(y_orig, preds)"
      ],
      "execution_count": 0,
      "outputs": []
    },
    {
      "cell_type": "code",
      "metadata": {
        "colab_type": "code",
        "id": "fWRxlkHNIENW",
        "outputId": "2073cae6-c78f-446a-dd8b-70ce73128d8f",
        "colab": {
          "base_uri": "https://localhost:8080/",
          "height": 602
        }
      },
      "source": [
        "keys = OrderedDict(sorted(genres.items(), key=lambda t: t[1])).keys()\n",
        "\n",
        "plt.figure(figsize=(8,8))\n",
        "plot_confusion_matrix(cm, keys, normalize=True)"
      ],
      "execution_count": 22,
      "outputs": [
        {
          "output_type": "stream",
          "text": [
            "Normalized confusion matrix\n"
          ],
          "name": "stdout"
        },
        {
          "output_type": "display_data",
          "data": {
            "image/png": "[encoded data removed]",
            "text/plain": [
              "<Figure size 576x576 with 2 Axes>"
            ]
          },
          "metadata": {
            "tags": []
          }
        }
      ]
    },
    {
      "cell_type": "code",
      "metadata": {
        "colab_type": "code",
        "id": "dDde-sFIIGvZ",
        "colab": {}
      },
      "source": [
        "# Save the model\n",
        "model.save('/content/drive/My Drive/modelo_vgg16.h5')#cambiar path"
      ],
      "execution_count": 0,
      "outputs": []
    },
    {
      "cell_type": "code",
      "metadata": {
        "colab_type": "code",
        "id": "tVXgoJNHLa3I",
        "colab": {}
      },
      "source": [
        ""
      ],
      "execution_count": 0,
      "outputs": []
    }
  ]
}