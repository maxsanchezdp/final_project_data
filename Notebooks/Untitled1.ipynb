{
 "cells": [
  {
   "cell_type": "code",
   "execution_count": 148,
   "metadata": {},
   "outputs": [],
   "source": [
    "import spotipy \n",
    "sp = spotipy.Spotify() \n",
    "from spotipy.oauth2 import SpotifyClientCredentials\n",
    "cid =\"7af7b921e949474c8885744c3929bc0c\" \n",
    "secret = \"8aafb4c6e372441abd96a6ed456894e8\" \n",
    "client_credentials_manager = SpotifyClientCredentials(client_id=cid, client_secret=secret) \n",
    "sp = spotipy.Spotify(client_credentials_manager=client_credentials_manager) \n",
    "artist= 'Raphael'\n",
    "track= 'Mi gran noche'\n",
    "\n",
    "track_id = sp.search(q='artist:' + artist + ' track:' + track, type='track')\n",
    "top=track_id['tracks']['items'][:3]"
   ]
  },
  {
   "cell_type": "code",
   "execution_count": 149,
   "metadata": {},
   "outputs": [
    {
     "data": {
      "text/plain": [
       "[{'external_urls': {'spotify': 'https://open.spotify.com/artist/796OSRuB0E9Hq55uTFL9U8'},\n",
       "  'href': 'https://api.spotify.com/v1/artists/796OSRuB0E9Hq55uTFL9U8',\n",
       "  'id': '796OSRuB0E9Hq55uTFL9U8',\n",
       "  'name': 'Raphael',\n",
       "  'type': 'artist',\n",
       "  'uri': 'spotify:artist:796OSRuB0E9Hq55uTFL9U8'}]"
      ]
     },
     "execution_count": 149,
     "metadata": {},
     "output_type": "execute_result"
    }
   ],
   "source": [
    "top[0]['artists']"
   ]
  },
  {
   "cell_type": "code",
   "execution_count": 150,
   "metadata": {},
   "outputs": [
    {
     "data": {
      "text/plain": [
       "[['Mi gran noche', ['Raphael'], '3cU7TRRcphb5iziZ7t5X5A'],\n",
       " ['Mi gran noche', ['Raphael'], '6qNqrAHiYRVRgjTXAOgYZ0'],\n",
       " ['Mi gran noche', ['Raphael'], '3sLcKEgSI0gOcky6srCj4j']]"
      ]
     },
     "execution_count": 150,
     "metadata": {},
     "output_type": "execute_result"
    }
   ],
   "source": [
    "lista=[]\n",
    "for element in top:\n",
    "    elemento=[]\n",
    "    elemento.append(element['name'])\n",
    "    lista.append(elemento)\n",
    "    artistas=[]\n",
    "    for a in element['artists']:\n",
    "        artistas.append(a['name'])\n",
    "    elemento.append(artistas)\n",
    "    elemento.append(element['id'])\n",
    "        \n",
    "lista"
   ]
  },
  {
   "cell_type": "code",
   "execution_count": 144,
   "metadata": {},
   "outputs": [],
   "source": [
    "track=sp.track(lista[0][2])"
   ]
  },
  {
   "cell_type": "code",
   "execution_count": 145,
   "metadata": {},
   "outputs": [],
   "source": [
    "url=track['preview_url']"
   ]
  },
  {
   "cell_type": "code",
   "execution_count": 146,
   "metadata": {},
   "outputs": [],
   "source": [
    "name=track['name']"
   ]
  },
  {
   "cell_type": "code",
   "execution_count": 147,
   "metadata": {},
   "outputs": [
    {
     "name": "stdout",
     "output_type": "stream",
     "text": [
      "Beginning file download with urllib2...\n"
     ]
    },
    {
     "data": {
      "text/plain": [
       "('../Veneno Pa Tu Piel.mp3', <http.client.HTTPMessage at 0x7fc4880f3cc0>)"
      ]
     },
     "execution_count": 147,
     "metadata": {},
     "output_type": "execute_result"
    }
   ],
   "source": [
    "import urllib.request\n",
    "\n",
    "print('Beginning file download with urllib2...')\n",
    "\n",
    "urllib.request.urlretrieve(url, f'../{name}.mp3')"
   ]
  },
  {
   "cell_type": "code",
   "execution_count": 114,
   "metadata": {},
   "outputs": [
    {
     "data": {
      "text/plain": [
       "'La Mujer de Verde - En Directo'"
      ]
     },
     "execution_count": 114,
     "metadata": {},
     "output_type": "execute_result"
    }
   ],
   "source": [
    "track['name']"
   ]
  },
  {
   "cell_type": "code",
   "execution_count": null,
   "metadata": {},
   "outputs": [],
   "source": []
  }
 ],
 "metadata": {
  "kernelspec": {
   "display_name": "Python 3",
   "language": "python",
   "name": "python3"
  },
  "language_info": {
   "codemirror_mode": {
    "name": "ipython",
    "version": 3
   },
   "file_extension": ".py",
   "mimetype": "text/x-python",
   "name": "python",
   "nbconvert_exporter": "python",
   "pygments_lexer": "ipython3",
   "version": "3.6.9"
  }
 },
 "nbformat": 4,
 "nbformat_minor": 4
}
