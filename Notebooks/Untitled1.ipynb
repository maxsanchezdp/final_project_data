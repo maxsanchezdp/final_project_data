{
 "cells": [
  {
   "cell_type": "code",
   "execution_count": 610,
   "metadata": {},
   "outputs": [],
   "source": [
    "import spotipy \n",
    "from spotipy.oauth2 import SpotifyClientCredentials\n",
    "import urllib.request\n",
    "import os\n",
    "from dotenv import load_dotenv\n",
    "load_dotenv()\n",
    "\n",
    "if not (\"CID\" or \"SECRET\") in os.environ:\n",
    "    raise ValueError(\"You should have a valid Client ID and Client Secret for Spotify for devs in os.environ. Check https://developer.spotify.com/\")\n",
    "\n",
    "CID=os.environ['CID']\n",
    "SECRET=os.environ['SECRET']\n"
   ]
  },
  {
   "cell_type": "code",
   "execution_count": 615,
   "metadata": {},
   "outputs": [],
   "source": [
    "def get_songs():\n",
    "    client_credentials_manager = SpotifyClientCredentials(client_id=CID, client_secret=SECRET) \n",
    "    sp = spotipy.Spotify(client_credentials_manager=client_credentials_manager)\n",
    "    artist = input(\"Artist: \")\n",
    "    song = input(\"Song: \")\n",
    "    search = sp.search(q='artist:' + artist + ' track:' + song, type='track')\n",
    "    top = search['tracks']['items'][:10]\n",
    "    lista=[]\n",
    "    for element in top:\n",
    "        elemento=[]\n",
    "        elemento.append(element['name'])\n",
    "        lista.append(elemento)\n",
    "        artistas=[]\n",
    "        for a in element['artists']:\n",
    "            artistas.append(a['name'])\n",
    "        elemento.append(artistas)\n",
    "        elemento.append(element['id'])\n",
    "    if len(lista)==0: print(\"Sorry, artist/song not found :( ...\")\n",
    "    else: return lista\n",
    "    "
   ]
  },
  {
   "cell_type": "code",
   "execution_count": 616,
   "metadata": {},
   "outputs": [],
   "source": [
    "def select_song(lista):\n",
    "    for i, el in enumerate(lista):\n",
    "        print(f'{i}. {el[0]} - {el[1]}')\n",
    "    choice = int(input(\"Choose your song (number): \"))\n",
    "    song_id = lista[choice][2]\n",
    "    return song_id"
   ]
  },
  {
   "cell_type": "code",
   "execution_count": 628,
   "metadata": {},
   "outputs": [],
   "source": [
    "def get_url(song_id):\n",
    "    track = sp.track(song_id)\n",
    "    url=[]\n",
    "    url.append(track['preview_url'])\n",
    "    if len(url)==0 or url[0]==None: print (\"Sorry, there's no preview available for your song :( ... \")\n",
    "    else: return url[0]"
   ]
  },
  {
   "cell_type": "code",
   "execution_count": 637,
   "metadata": {},
   "outputs": [],
   "source": [
    "def download_song(url):\n",
    "    print('Beginning file download with urllib2...')\n",
    "    path = '../Data/unlabelled_songs/song.mp3'\n",
    "    urllib.request.urlretrieve(url, f'../Data/unlabelled_songs/song.mp3')\n",
    "    print('File downloaded')\n",
    "    return path\n",
    "    "
   ]
  },
  {
   "cell_type": "code",
   "execution_count": 629,
   "metadata": {},
   "outputs": [
    {
     "name": "stdin",
     "output_type": "stream",
     "text": [
      "Artist:  Metallica\n",
      "Song:  one\n"
     ]
    }
   ],
   "source": [
    "a=get_songs()"
   ]
  },
  {
   "cell_type": "code",
   "execution_count": 634,
   "metadata": {},
   "outputs": [
    {
     "name": "stdout",
     "output_type": "stream",
     "text": [
      "0. One (Remastered) - ['Metallica']\n",
      "1. One (Remastered) - ['Metallica']\n",
      "2. Murder One - ['Metallica']\n",
      "3. One - Live with the SFSO - ['Metallica']\n",
      "4. Murder One - ['Metallica']\n",
      "5. One (Live) - ['Metallica']\n",
      "6. One (Live in Mexico City) - ['Metallica']\n",
      "7. One (Live - Seattle '89) - ['Metallica']\n",
      "8. One (Live at Long Beach Arena, Long Beach, CA - December 7th, 1988) - ['Metallica']\n",
      "9. One (Radio Edit) - ['Metallica']\n"
     ]
    },
    {
     "name": "stdin",
     "output_type": "stream",
     "text": [
      "Choose your song (number):  0\n"
     ]
    }
   ],
   "source": [
    "ida=select_song(a)"
   ]
  },
  {
   "cell_type": "code",
   "execution_count": 635,
   "metadata": {},
   "outputs": [],
   "source": [
    "url = get_url(ida)"
   ]
  },
  {
   "cell_type": "code",
   "execution_count": 636,
   "metadata": {},
   "outputs": [
    {
     "data": {
      "text/plain": [
       "'https://p.scdn.co/mp3-preview/4b448b02d032feffc0ea50533b9885d5fdcf9b6a?cid=7af7b921e949474c8885744c3929bc0c'"
      ]
     },
     "execution_count": 636,
     "metadata": {},
     "output_type": "execute_result"
    }
   ],
   "source": [
    "url"
   ]
  },
  {
   "cell_type": "code",
   "execution_count": 638,
   "metadata": {},
   "outputs": [
    {
     "name": "stdout",
     "output_type": "stream",
     "text": [
      "Beginning file download with urllib2...\n"
     ]
    }
   ],
   "source": [
    "p = download_song(url)"
   ]
  },
  {
   "cell_type": "code",
   "execution_count": 540,
   "metadata": {},
   "outputs": [
    {
     "name": "stdout",
     "output_type": "stream",
     "text": [
      "Beginning file download with urllib2...\n"
     ]
    },
    {
     "data": {
      "text/plain": [
       "('../Data/unlabelled_songs/song.mp3',\n",
       " <http.client.HTTPMessage at 0x7fc476de9da0>)"
      ]
     },
     "execution_count": 540,
     "metadata": {},
     "output_type": "execute_result"
    }
   ],
   "source": [
    "import urllib.request\n",
    "\n",
    "print('Beginning file download with urllib2...')\n",
    "\n",
    "urllib.request.urlretrieve(url, f'../Data/unlabelled_songs/song.mp3')"
   ]
  },
  {
   "cell_type": "code",
   "execution_count": null,
   "metadata": {},
   "outputs": [],
   "source": [
    "track['name']"
   ]
  },
  {
   "cell_type": "code",
   "execution_count": null,
   "metadata": {},
   "outputs": [],
   "source": []
  }
 ],
 "metadata": {
  "kernelspec": {
   "display_name": "Python 3",
   "language": "python",
   "name": "python3"
  },
  "language_info": {
   "codemirror_mode": {
    "name": "ipython",
    "version": 3
   },
   "file_extension": ".py",
   "mimetype": "text/x-python",
   "name": "python",
   "nbconvert_exporter": "python",
   "pygments_lexer": "ipython3",
   "version": "3.6.9"
  }
 },
 "nbformat": 4,
 "nbformat_minor": 4
}
