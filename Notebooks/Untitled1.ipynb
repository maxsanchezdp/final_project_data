{
 "cells": [
  {
   "cell_type": "code",
   "execution_count": 255,
   "metadata": {},
   "outputs": [],
   "source": [
    "import spotipy \n",
    "sp = spotipy.Spotify() \n",
    "from spotipy.oauth2 import SpotifyClientCredentials\n",
    "cid =\"7af7b921e949474c8885744c3929bc0c\" \n",
    "secret = \"8aafb4c6e372441abd96a6ed456894e8\" \n",
    "client_credentials_manager = SpotifyClientCredentials(client_id=cid, client_secret=secret) \n",
    "sp = spotipy.Spotify(client_credentials_manager=client_credentials_manager) \n",
    "artist= 'Vivaldi'\n",
    "track= 'four seasons'\n",
    "\n",
    "track_id = sp.search(q='artist:' + artist + ' track:' + track, type='track')\n",
    "top=track_id['tracks']['items'][:10]"
   ]
  },
  {
   "cell_type": "code",
   "execution_count": 256,
   "metadata": {},
   "outputs": [
    {
     "data": {
      "text/plain": [
       "[{'external_urls': {'spotify': 'https://open.spotify.com/artist/2QOIawHpSlOwXDvSqQ9YJR'},\n",
       "  'href': 'https://api.spotify.com/v1/artists/2QOIawHpSlOwXDvSqQ9YJR',\n",
       "  'id': '2QOIawHpSlOwXDvSqQ9YJR',\n",
       "  'name': 'Antonio Vivaldi',\n",
       "  'type': 'artist',\n",
       "  'uri': 'spotify:artist:2QOIawHpSlOwXDvSqQ9YJR'},\n",
       " {'external_urls': {'spotify': 'https://open.spotify.com/artist/6KxLsPEyo1B169xGOWUCwD'},\n",
       "  'href': 'https://api.spotify.com/v1/artists/6KxLsPEyo1B169xGOWUCwD',\n",
       "  'id': '6KxLsPEyo1B169xGOWUCwD',\n",
       "  'name': 'Dmitry Sinkovsky',\n",
       "  'type': 'artist',\n",
       "  'uri': 'spotify:artist:6KxLsPEyo1B169xGOWUCwD'},\n",
       " {'external_urls': {'spotify': 'https://open.spotify.com/artist/0hQy24Snm3txnO86NWwQe1'},\n",
       "  'href': 'https://api.spotify.com/v1/artists/0hQy24Snm3txnO86NWwQe1',\n",
       "  'id': '0hQy24Snm3txnO86NWwQe1',\n",
       "  'name': 'La Voce Strumentale',\n",
       "  'type': 'artist',\n",
       "  'uri': 'spotify:artist:0hQy24Snm3txnO86NWwQe1'}]"
      ]
     },
     "execution_count": 256,
     "metadata": {},
     "output_type": "execute_result"
    }
   ],
   "source": [
    "top[0]['artists']"
   ]
  },
  {
   "cell_type": "code",
   "execution_count": 257,
   "metadata": {},
   "outputs": [
    {
     "data": {
      "text/plain": [
       "[['The Four Seasons, Violin Concerto No. 2 in G Minor, RV 315 \"Summer\": III. Presto',\n",
       "  ['Antonio Vivaldi', 'Dmitry Sinkovsky', 'La Voce Strumentale'],\n",
       "  '3qwVqJyXKNiPZLz9VBMd6r'],\n",
       " ['The Four Seasons - Summer in G Minor, RV. 315: III. Presto',\n",
       "  ['Antonio Vivaldi', 'Adrian Chandler', 'La Serenissima'],\n",
       "  '1Ojz92vyPK4fJ5K8RVnV5u'],\n",
       " ['The Four Seasons, Violin Concerto No. 4 in F Minor, RV 297 \"Winter\": II. Largo',\n",
       "  ['Antonio Vivaldi', 'Dmitry Sinkovsky', 'La Voce Strumentale'],\n",
       "  '7njAZhca4o80qQdCgyEWya'],\n",
       " ['The Four Seasons - Winter in F Minor, RV. 297: I. Allegro non molto',\n",
       "  ['Antonio Vivaldi', 'Adrian Chandler', 'La Serenissima'],\n",
       "  '0ROMalDdNg3L2HoZP4qFyJ'],\n",
       " ['The Four Seasons, Violin Concerto No. 2 in G Minor, RV 315 \"L\\'estate\": III. Tempo impetuoso d\\'estate',\n",
       "  ['Antonio Vivaldi', 'Europa Galante', 'Fabio Biondi'],\n",
       "  '0VQMAup2VdeQWLCvM14Uz2'],\n",
       " ['The Four Seasons - Violin Concerto in G Minor, RV 315, \"L\\'estate\" (Summer): I. Allegro non molto',\n",
       "  ['Antonio Vivaldi', 'Joshua Bell'],\n",
       "  '1g4eJ28gfl9zEjsDKkkrij'],\n",
       " ['Four Seasons op.8 (1987 Digital Remaster), Summer: Presto',\n",
       "  ['Antonio Vivaldi', 'Itzhak Perlman', 'London Philharmonic Orchestra'],\n",
       "  '5N82c9RY2k4VeAel1pl5bJ'],\n",
       " ['The Four Seasons - Spring in E Major, RV. 269: I. Allegro',\n",
       "  ['Antonio Vivaldi', 'Adrian Chandler', 'La Serenissima'],\n",
       "  '4jOlYUMMsCacMm3xcrYRLl'],\n",
       " ['Vivaldi: Violin Concerto in F Minor, RV 297 \"L\\'inverno\" (No. 4 from \"Il cimento dell\\'armonia e dell\\'inventione\", Op. 8): I. Allegro non molto',\n",
       "  ['Antonio Vivaldi', 'Nigel Kennedy', 'English Chamber Orchestra'],\n",
       "  '2rK7CTkYxErJvMGKu3Pbkc'],\n",
       " ['The Four Seasons, Violin Concerto No. 1 in E Major, RV 269 \"Spring\": I. Allegro',\n",
       "  ['Antonio Vivaldi', 'Dmitry Sinkovsky', 'La Voce Strumentale'],\n",
       "  '1rvN0lK6p10AzC6pWPuoRq']]"
      ]
     },
     "execution_count": 257,
     "metadata": {},
     "output_type": "execute_result"
    }
   ],
   "source": [
    "lista=[]\n",
    "for element in top:\n",
    "    elemento=[]\n",
    "    elemento.append(element['name'])\n",
    "    lista.append(elemento)\n",
    "    artistas=[]\n",
    "    for a in element['artists']:\n",
    "        artistas.append(a['name'])\n",
    "    elemento.append(artistas)\n",
    "    elemento.append(element['id'])\n",
    "        \n",
    "lista"
   ]
  },
  {
   "cell_type": "code",
   "execution_count": 258,
   "metadata": {},
   "outputs": [],
   "source": [
    "track=sp.track(lista[0][2])"
   ]
  },
  {
   "cell_type": "code",
   "execution_count": 259,
   "metadata": {},
   "outputs": [
    {
     "data": {
      "text/plain": [
       "{'album': {'album_type': 'album',\n",
       "  'artists': [{'external_urls': {'spotify': 'https://open.spotify.com/artist/2QOIawHpSlOwXDvSqQ9YJR'},\n",
       "    'href': 'https://api.spotify.com/v1/artists/2QOIawHpSlOwXDvSqQ9YJR',\n",
       "    'id': '2QOIawHpSlOwXDvSqQ9YJR',\n",
       "    'name': 'Antonio Vivaldi',\n",
       "    'type': 'artist',\n",
       "    'uri': 'spotify:artist:2QOIawHpSlOwXDvSqQ9YJR'},\n",
       "   {'external_urls': {'spotify': 'https://open.spotify.com/artist/6KxLsPEyo1B169xGOWUCwD'},\n",
       "    'href': 'https://api.spotify.com/v1/artists/6KxLsPEyo1B169xGOWUCwD',\n",
       "    'id': '6KxLsPEyo1B169xGOWUCwD',\n",
       "    'name': 'Dmitry Sinkovsky',\n",
       "    'type': 'artist',\n",
       "    'uri': 'spotify:artist:6KxLsPEyo1B169xGOWUCwD'}],\n",
       "  'available_markets': ['AD',\n",
       "   'AE',\n",
       "   'AR',\n",
       "   'AT',\n",
       "   'AU',\n",
       "   'BE',\n",
       "   'BG',\n",
       "   'BH',\n",
       "   'BO',\n",
       "   'BR',\n",
       "   'CA',\n",
       "   'CH',\n",
       "   'CL',\n",
       "   'CO',\n",
       "   'CR',\n",
       "   'CY',\n",
       "   'CZ',\n",
       "   'DE',\n",
       "   'DK',\n",
       "   'DO',\n",
       "   'DZ',\n",
       "   'EC',\n",
       "   'EE',\n",
       "   'EG',\n",
       "   'ES',\n",
       "   'FI',\n",
       "   'FR',\n",
       "   'GB',\n",
       "   'GR',\n",
       "   'GT',\n",
       "   'HK',\n",
       "   'HN',\n",
       "   'HU',\n",
       "   'ID',\n",
       "   'IE',\n",
       "   'IL',\n",
       "   'IN',\n",
       "   'IS',\n",
       "   'IT',\n",
       "   'JO',\n",
       "   'JP',\n",
       "   'KW',\n",
       "   'LB',\n",
       "   'LI',\n",
       "   'LT',\n",
       "   'LU',\n",
       "   'LV',\n",
       "   'MA',\n",
       "   'MC',\n",
       "   'MT',\n",
       "   'MX',\n",
       "   'MY',\n",
       "   'NI',\n",
       "   'NL',\n",
       "   'NO',\n",
       "   'NZ',\n",
       "   'OM',\n",
       "   'PA',\n",
       "   'PE',\n",
       "   'PH',\n",
       "   'PL',\n",
       "   'PS',\n",
       "   'PT',\n",
       "   'PY',\n",
       "   'QA',\n",
       "   'RO',\n",
       "   'SA',\n",
       "   'SE',\n",
       "   'SG',\n",
       "   'SK',\n",
       "   'SV',\n",
       "   'TH',\n",
       "   'TN',\n",
       "   'TR',\n",
       "   'TW',\n",
       "   'US',\n",
       "   'UY',\n",
       "   'VN',\n",
       "   'ZA'],\n",
       "  'external_urls': {'spotify': 'https://open.spotify.com/album/2VkyrOTwER1K6bsK1qona9'},\n",
       "  'href': 'https://api.spotify.com/v1/albums/2VkyrOTwER1K6bsK1qona9',\n",
       "  'id': '2VkyrOTwER1K6bsK1qona9',\n",
       "  'images': [{'height': 640,\n",
       "    'url': 'https://i.scdn.co/image/3899f642c06dfbb8e83c07993d4d9de55fd6f97e',\n",
       "    'width': 640},\n",
       "   {'height': 300,\n",
       "    'url': 'https://i.scdn.co/image/071d118735c0ceaf63369245638356a40c8362ec',\n",
       "    'width': 300},\n",
       "   {'height': 64,\n",
       "    'url': 'https://i.scdn.co/image/b274c1acc83812d022724ce126fbd672b079420a',\n",
       "    'width': 64}],\n",
       "  'name': 'Sinkovsky Plays and Sings Vivaldi',\n",
       "  'release_date': '2014',\n",
       "  'release_date_precision': 'year',\n",
       "  'total_tracks': 17,\n",
       "  'type': 'album',\n",
       "  'uri': 'spotify:album:2VkyrOTwER1K6bsK1qona9'},\n",
       " 'artists': [{'external_urls': {'spotify': 'https://open.spotify.com/artist/2QOIawHpSlOwXDvSqQ9YJR'},\n",
       "   'href': 'https://api.spotify.com/v1/artists/2QOIawHpSlOwXDvSqQ9YJR',\n",
       "   'id': '2QOIawHpSlOwXDvSqQ9YJR',\n",
       "   'name': 'Antonio Vivaldi',\n",
       "   'type': 'artist',\n",
       "   'uri': 'spotify:artist:2QOIawHpSlOwXDvSqQ9YJR'},\n",
       "  {'external_urls': {'spotify': 'https://open.spotify.com/artist/6KxLsPEyo1B169xGOWUCwD'},\n",
       "   'href': 'https://api.spotify.com/v1/artists/6KxLsPEyo1B169xGOWUCwD',\n",
       "   'id': '6KxLsPEyo1B169xGOWUCwD',\n",
       "   'name': 'Dmitry Sinkovsky',\n",
       "   'type': 'artist',\n",
       "   'uri': 'spotify:artist:6KxLsPEyo1B169xGOWUCwD'},\n",
       "  {'external_urls': {'spotify': 'https://open.spotify.com/artist/0hQy24Snm3txnO86NWwQe1'},\n",
       "   'href': 'https://api.spotify.com/v1/artists/0hQy24Snm3txnO86NWwQe1',\n",
       "   'id': '0hQy24Snm3txnO86NWwQe1',\n",
       "   'name': 'La Voce Strumentale',\n",
       "   'type': 'artist',\n",
       "   'uri': 'spotify:artist:0hQy24Snm3txnO86NWwQe1'}],\n",
       " 'available_markets': ['AD',\n",
       "  'AE',\n",
       "  'AR',\n",
       "  'AT',\n",
       "  'AU',\n",
       "  'BE',\n",
       "  'BG',\n",
       "  'BH',\n",
       "  'BO',\n",
       "  'BR',\n",
       "  'CA',\n",
       "  'CH',\n",
       "  'CL',\n",
       "  'CO',\n",
       "  'CR',\n",
       "  'CY',\n",
       "  'CZ',\n",
       "  'DE',\n",
       "  'DK',\n",
       "  'DO',\n",
       "  'DZ',\n",
       "  'EC',\n",
       "  'EE',\n",
       "  'EG',\n",
       "  'ES',\n",
       "  'FI',\n",
       "  'FR',\n",
       "  'GB',\n",
       "  'GR',\n",
       "  'GT',\n",
       "  'HK',\n",
       "  'HN',\n",
       "  'HU',\n",
       "  'ID',\n",
       "  'IE',\n",
       "  'IL',\n",
       "  'IN',\n",
       "  'IS',\n",
       "  'IT',\n",
       "  'JO',\n",
       "  'JP',\n",
       "  'KW',\n",
       "  'LB',\n",
       "  'LI',\n",
       "  'LT',\n",
       "  'LU',\n",
       "  'LV',\n",
       "  'MA',\n",
       "  'MC',\n",
       "  'MT',\n",
       "  'MX',\n",
       "  'MY',\n",
       "  'NI',\n",
       "  'NL',\n",
       "  'NO',\n",
       "  'NZ',\n",
       "  'OM',\n",
       "  'PA',\n",
       "  'PE',\n",
       "  'PH',\n",
       "  'PL',\n",
       "  'PS',\n",
       "  'PT',\n",
       "  'PY',\n",
       "  'QA',\n",
       "  'RO',\n",
       "  'SA',\n",
       "  'SE',\n",
       "  'SG',\n",
       "  'SK',\n",
       "  'SV',\n",
       "  'TH',\n",
       "  'TN',\n",
       "  'TR',\n",
       "  'TW',\n",
       "  'US',\n",
       "  'UY',\n",
       "  'VN',\n",
       "  'ZA'],\n",
       " 'disc_number': 1,\n",
       " 'duration_ms': 153573,\n",
       " 'explicit': False,\n",
       " 'external_ids': {'isrc': 'FRZ131402060'},\n",
       " 'external_urls': {'spotify': 'https://open.spotify.com/track/3qwVqJyXKNiPZLz9VBMd6r'},\n",
       " 'href': 'https://api.spotify.com/v1/tracks/3qwVqJyXKNiPZLz9VBMd6r',\n",
       " 'id': '3qwVqJyXKNiPZLz9VBMd6r',\n",
       " 'is_local': False,\n",
       " 'name': 'The Four Seasons, Violin Concerto No. 2 in G Minor, RV 315 \"Summer\": III. Presto',\n",
       " 'popularity': 55,\n",
       " 'preview_url': 'https://p.scdn.co/mp3-preview/f3b99896328dbcecd75101c0ca54877acce3a4b4?cid=7af7b921e949474c8885744c3929bc0c',\n",
       " 'track_number': 6,\n",
       " 'type': 'track',\n",
       " 'uri': 'spotify:track:3qwVqJyXKNiPZLz9VBMd6r'}"
      ]
     },
     "execution_count": 259,
     "metadata": {},
     "output_type": "execute_result"
    }
   ],
   "source": [
    "track"
   ]
  },
  {
   "cell_type": "code",
   "execution_count": 260,
   "metadata": {},
   "outputs": [],
   "source": [
    "url=track['preview_url']"
   ]
  },
  {
   "cell_type": "code",
   "execution_count": 261,
   "metadata": {},
   "outputs": [
    {
     "data": {
      "text/plain": [
       "'https://p.scdn.co/mp3-preview/f3b99896328dbcecd75101c0ca54877acce3a4b4?cid=7af7b921e949474c8885744c3929bc0c'"
      ]
     },
     "execution_count": 261,
     "metadata": {},
     "output_type": "execute_result"
    }
   ],
   "source": [
    "url"
   ]
  },
  {
   "cell_type": "code",
   "execution_count": 262,
   "metadata": {},
   "outputs": [],
   "source": [
    "name=\"_\".join(track['name'].split())"
   ]
  },
  {
   "cell_type": "code",
   "execution_count": 263,
   "metadata": {},
   "outputs": [
    {
     "data": {
      "text/plain": [
       "'The_Four_Seasons,_Violin_Concerto_No._2_in_G_Minor,_RV_315_\"Summer\":_III._Presto'"
      ]
     },
     "execution_count": 263,
     "metadata": {},
     "output_type": "execute_result"
    }
   ],
   "source": [
    "name"
   ]
  },
  {
   "cell_type": "code",
   "execution_count": null,
   "metadata": {},
   "outputs": [],
   "source": []
  },
  {
   "cell_type": "code",
   "execution_count": 264,
   "metadata": {},
   "outputs": [
    {
     "name": "stdout",
     "output_type": "stream",
     "text": [
      "Beginning file download with urllib2...\n"
     ]
    },
    {
     "data": {
      "text/plain": [
       "('../Data/unlabelled_songs/song.mp3',\n",
       " <http.client.HTTPMessage at 0x7fc477e7f5c0>)"
      ]
     },
     "execution_count": 264,
     "metadata": {},
     "output_type": "execute_result"
    }
   ],
   "source": [
    "import urllib.request\n",
    "\n",
    "print('Beginning file download with urllib2...')\n",
    "\n",
    "urllib.request.urlretrieve(url, f'../Data/unlabelled_songs/song.mp3')"
   ]
  },
  {
   "cell_type": "code",
   "execution_count": 265,
   "metadata": {},
   "outputs": [
    {
     "data": {
      "text/plain": [
       "'The Four Seasons, Violin Concerto No. 2 in G Minor, RV 315 \"Summer\": III. Presto'"
      ]
     },
     "execution_count": 265,
     "metadata": {},
     "output_type": "execute_result"
    }
   ],
   "source": [
    "track['name']"
   ]
  },
  {
   "cell_type": "code",
   "execution_count": null,
   "metadata": {},
   "outputs": [],
   "source": []
  }
 ],
 "metadata": {
  "kernelspec": {
   "display_name": "Python 3",
   "language": "python",
   "name": "python3"
  },
  "language_info": {
   "codemirror_mode": {
    "name": "ipython",
    "version": 3
   },
   "file_extension": ".py",
   "mimetype": "text/x-python",
   "name": "python",
   "nbconvert_exporter": "python",
   "pygments_lexer": "ipython3",
   "version": "3.6.9"
  }
 },
 "nbformat": 4,
 "nbformat_minor": 4
}
