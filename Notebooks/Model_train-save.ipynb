{
 "cells": [
  {
   "cell_type": "code",
   "execution_count": 28,
   "metadata": {},
   "outputs": [],
   "source": [
    "import itertools\n",
    "import pandas as pd\n",
    "import numpy as np\n",
    "import matplotlib.pyplot as plt\n",
    "%matplotlib inline\n",
    "from collections import OrderedDict\n",
    "\n",
    "# Preprocessing\n",
    "from sklearn.model_selection import train_test_split\n",
    "from sklearn.preprocessing import StandardScaler\n",
    "\n",
    "#Keras\n",
    "from keras import models\n",
    "from keras import layers\n",
    "\n",
    "import warnings\n",
    "warnings.filterwarnings('ignore')"
   ]
  },
  {
   "cell_type": "code",
   "execution_count": 29,
   "metadata": {},
   "outputs": [],
   "source": [
    "#Dictionary for genres label encoding:\n",
    "GENRES = {'blues': 0, 'classical': 1, 'country': 2, 'disco': 3, 'hiphop': 4, \n",
    "          'jazz': 5, 'metal': 6, 'pop': 7, 'reggae': 8, 'rock': 9}"
   ]
  },
  {
   "cell_type": "code",
   "execution_count": 30,
   "metadata": {},
   "outputs": [],
   "source": [
    "PATH = './Features/dataset_features/data_features.csv'"
   ]
  },
  {
   "cell_type": "code",
   "execution_count": 31,
   "metadata": {},
   "outputs": [],
   "source": [
    "def prepare_data(path, test_size=0.2):\n",
    "    \"\"\"\n",
    "    Prepares data in given path to feed the model\n",
    "    \"\"\"\n",
    "    data = pd.read_csv(path)\n",
    "    X = data.drop('genre', axis=1)\n",
    "    y = data.genre\n",
    "\n",
    "    # Normalize data in X:\n",
    "    scaled_features = StandardScaler().fit_transform(X.values)\n",
    "    X = pd.DataFrame(scaled_features, index=X.index, columns=X.columns)\n",
    "    X_train, X_test, y_train, y_test = train_test_split(X, y, test_size=test_size, random_state=42)\n",
    "    return X_train, X_test, y_train, y_test"
   ]
  },
  {
   "cell_type": "code",
   "execution_count": 32,
   "metadata": {},
   "outputs": [],
   "source": [
    "X_train, X_test, y_train, y_test = prepare_data(PATH)"
   ]
  },
  {
   "cell_type": "code",
   "execution_count": 33,
   "metadata": {},
   "outputs": [
    {
     "data": {
      "text/html": [
       "<div>\n",
       "<style scoped>\n",
       "    .dataframe tbody tr th:only-of-type {\n",
       "        vertical-align: middle;\n",
       "    }\n",
       "\n",
       "    .dataframe tbody tr th {\n",
       "        vertical-align: top;\n",
       "    }\n",
       "\n",
       "    .dataframe thead th {\n",
       "        text-align: right;\n",
       "    }\n",
       "</style>\n",
       "<table border=\"1\" class=\"dataframe\">\n",
       "  <thead>\n",
       "    <tr style=\"text-align: right;\">\n",
       "      <th></th>\n",
       "      <th>centroid_kurtosis</th>\n",
       "      <th>centroid_mean</th>\n",
       "      <th>centroid_skew</th>\n",
       "      <th>centroid_std</th>\n",
       "      <th>chroma_kurtosis</th>\n",
       "      <th>chroma_mean</th>\n",
       "      <th>chroma_skew</th>\n",
       "      <th>chroma_std</th>\n",
       "      <th>flux_kurtosis</th>\n",
       "      <th>flux_mean</th>\n",
       "      <th>...</th>\n",
       "      <th>rmse_std</th>\n",
       "      <th>roloff_kurtosis</th>\n",
       "      <th>roloff_mean</th>\n",
       "      <th>roloff_skew</th>\n",
       "      <th>roloff_std</th>\n",
       "      <th>tempo</th>\n",
       "      <th>zcr_kurtosis</th>\n",
       "      <th>zcr_mean</th>\n",
       "      <th>zcr_skew</th>\n",
       "      <th>zcr_std</th>\n",
       "    </tr>\n",
       "  </thead>\n",
       "  <tbody>\n",
       "    <tr>\n",
       "      <th>5879</th>\n",
       "      <td>0.417087</td>\n",
       "      <td>1.131290</td>\n",
       "      <td>0.896740</td>\n",
       "      <td>0.653484</td>\n",
       "      <td>-0.071454</td>\n",
       "      <td>-0.949388</td>\n",
       "      <td>0.514809</td>\n",
       "      <td>1.398203</td>\n",
       "      <td>-0.710312</td>\n",
       "      <td>0.852178</td>\n",
       "      <td>...</td>\n",
       "      <td>-0.625782</td>\n",
       "      <td>-0.109964</td>\n",
       "      <td>0.732676</td>\n",
       "      <td>-0.163575</td>\n",
       "      <td>-0.431389</td>\n",
       "      <td>-0.885562</td>\n",
       "      <td>0.140342</td>\n",
       "      <td>1.717850</td>\n",
       "      <td>0.572242</td>\n",
       "      <td>1.171504</td>\n",
       "    </tr>\n",
       "    <tr>\n",
       "      <th>5458</th>\n",
       "      <td>-0.430164</td>\n",
       "      <td>0.396446</td>\n",
       "      <td>-0.314204</td>\n",
       "      <td>-1.154507</td>\n",
       "      <td>-0.340458</td>\n",
       "      <td>0.975517</td>\n",
       "      <td>-0.808548</td>\n",
       "      <td>-1.273408</td>\n",
       "      <td>-0.334303</td>\n",
       "      <td>-1.016499</td>\n",
       "      <td>...</td>\n",
       "      <td>-0.506292</td>\n",
       "      <td>-0.064258</td>\n",
       "      <td>0.256739</td>\n",
       "      <td>0.555976</td>\n",
       "      <td>-1.230545</td>\n",
       "      <td>-0.472355</td>\n",
       "      <td>-0.666136</td>\n",
       "      <td>0.904267</td>\n",
       "      <td>-0.839735</td>\n",
       "      <td>-0.602464</td>\n",
       "    </tr>\n",
       "    <tr>\n",
       "      <th>1758</th>\n",
       "      <td>-0.276003</td>\n",
       "      <td>-1.518328</td>\n",
       "      <td>0.281259</td>\n",
       "      <td>-1.084124</td>\n",
       "      <td>3.704449</td>\n",
       "      <td>-2.378763</td>\n",
       "      <td>2.629595</td>\n",
       "      <td>0.494530</td>\n",
       "      <td>-0.063726</td>\n",
       "      <td>-1.116668</td>\n",
       "      <td>...</td>\n",
       "      <td>-0.960753</td>\n",
       "      <td>-0.267928</td>\n",
       "      <td>-1.710023</td>\n",
       "      <td>0.262293</td>\n",
       "      <td>-1.016188</td>\n",
       "      <td>0.302407</td>\n",
       "      <td>-0.330078</td>\n",
       "      <td>-0.885054</td>\n",
       "      <td>0.072868</td>\n",
       "      <td>-1.183552</td>\n",
       "    </tr>\n",
       "    <tr>\n",
       "      <th>957</th>\n",
       "      <td>1.905831</td>\n",
       "      <td>-1.943976</td>\n",
       "      <td>2.372533</td>\n",
       "      <td>-1.715235</td>\n",
       "      <td>4.192446</td>\n",
       "      <td>-2.654797</td>\n",
       "      <td>2.857593</td>\n",
       "      <td>0.492545</td>\n",
       "      <td>1.610924</td>\n",
       "      <td>-2.190116</td>\n",
       "      <td>...</td>\n",
       "      <td>-1.449882</td>\n",
       "      <td>1.478786</td>\n",
       "      <td>-2.126546</td>\n",
       "      <td>2.031830</td>\n",
       "      <td>-1.868325</td>\n",
       "      <td>0.019557</td>\n",
       "      <td>-0.223334</td>\n",
       "      <td>-1.426988</td>\n",
       "      <td>-1.761702</td>\n",
       "      <td>-1.644390</td>\n",
       "    </tr>\n",
       "    <tr>\n",
       "      <th>6309</th>\n",
       "      <td>0.285016</td>\n",
       "      <td>1.439657</td>\n",
       "      <td>0.291514</td>\n",
       "      <td>1.482449</td>\n",
       "      <td>-0.941711</td>\n",
       "      <td>0.149562</td>\n",
       "      <td>-0.540119</td>\n",
       "      <td>1.268953</td>\n",
       "      <td>-0.033806</td>\n",
       "      <td>0.677824</td>\n",
       "      <td>...</td>\n",
       "      <td>0.591125</td>\n",
       "      <td>0.316831</td>\n",
       "      <td>1.980212</td>\n",
       "      <td>-2.049113</td>\n",
       "      <td>0.622727</td>\n",
       "      <td>0.019557</td>\n",
       "      <td>3.713169</td>\n",
       "      <td>0.172911</td>\n",
       "      <td>2.820090</td>\n",
       "      <td>1.200462</td>\n",
       "    </tr>\n",
       "  </tbody>\n",
       "</table>\n",
       "<p>5 rows × 77 columns</p>\n",
       "</div>"
      ],
      "text/plain": [
       "      centroid_kurtosis  centroid_mean  centroid_skew  centroid_std  \\\n",
       "5879           0.417087       1.131290       0.896740      0.653484   \n",
       "5458          -0.430164       0.396446      -0.314204     -1.154507   \n",
       "1758          -0.276003      -1.518328       0.281259     -1.084124   \n",
       "957            1.905831      -1.943976       2.372533     -1.715235   \n",
       "6309           0.285016       1.439657       0.291514      1.482449   \n",
       "\n",
       "      chroma_kurtosis  chroma_mean  chroma_skew  chroma_std  flux_kurtosis  \\\n",
       "5879        -0.071454    -0.949388     0.514809    1.398203      -0.710312   \n",
       "5458        -0.340458     0.975517    -0.808548   -1.273408      -0.334303   \n",
       "1758         3.704449    -2.378763     2.629595    0.494530      -0.063726   \n",
       "957          4.192446    -2.654797     2.857593    0.492545       1.610924   \n",
       "6309        -0.941711     0.149562    -0.540119    1.268953      -0.033806   \n",
       "\n",
       "      flux_mean  ...  rmse_std  roloff_kurtosis  roloff_mean  roloff_skew  \\\n",
       "5879   0.852178  ... -0.625782        -0.109964     0.732676    -0.163575   \n",
       "5458  -1.016499  ... -0.506292        -0.064258     0.256739     0.555976   \n",
       "1758  -1.116668  ... -0.960753        -0.267928    -1.710023     0.262293   \n",
       "957   -2.190116  ... -1.449882         1.478786    -2.126546     2.031830   \n",
       "6309   0.677824  ...  0.591125         0.316831     1.980212    -2.049113   \n",
       "\n",
       "      roloff_std     tempo  zcr_kurtosis  zcr_mean  zcr_skew   zcr_std  \n",
       "5879   -0.431389 -0.885562      0.140342  1.717850  0.572242  1.171504  \n",
       "5458   -1.230545 -0.472355     -0.666136  0.904267 -0.839735 -0.602464  \n",
       "1758   -1.016188  0.302407     -0.330078 -0.885054  0.072868 -1.183552  \n",
       "957    -1.868325  0.019557     -0.223334 -1.426988 -1.761702 -1.644390  \n",
       "6309    0.622727  0.019557      3.713169  0.172911  2.820090  1.200462  \n",
       "\n",
       "[5 rows x 77 columns]"
      ]
     },
     "execution_count": 33,
     "metadata": {},
     "output_type": "execute_result"
    }
   ],
   "source": [
    "X_train.head()"
   ]
  },
  {
   "cell_type": "code",
   "execution_count": 34,
   "metadata": {},
   "outputs": [],
   "source": [
    "def define_model(x_train, show=False):\n",
    "    \"\"\"\n",
    "    Defines Keras model to be trained\n",
    "    \"\"\"\n",
    "    model = models.Sequential()\n",
    "    model.add(layers.Dense(256, activation='relu', input_shape=(x_train.shape[1],)))\n",
    "    model.add(layers.Dropout(rate=0.25, noise_shape=None, seed=None))\n",
    "    model.add(layers.Dense(128, activation='relu'))\n",
    "    model.add(layers.Dropout(rate=0.25, noise_shape=None, seed=None))\n",
    "    model.add(layers.Dense(64, activation='relu'))\n",
    "    model.add(layers.Dropout(rate=0.25, noise_shape=None, seed=None))\n",
    "    model.add(layers.Dense(10, activation='softmax'))\n",
    "\n",
    "    if show:\n",
    "        print(model.summary())\n",
    "    return model"
   ]
  },
  {
   "cell_type": "code",
   "execution_count": 35,
   "metadata": {},
   "outputs": [
    {
     "name": "stdout",
     "output_type": "stream",
     "text": [
      "_________________________________________________________________\n",
      "Layer (type)                 Output Shape              Param #   \n",
      "=================================================================\n",
      "dense_5 (Dense)              (None, 256)               19968     \n",
      "_________________________________________________________________\n",
      "dropout_4 (Dropout)          (None, 256)               0         \n",
      "_________________________________________________________________\n",
      "dense_6 (Dense)              (None, 128)               32896     \n",
      "_________________________________________________________________\n",
      "dropout_5 (Dropout)          (None, 128)               0         \n",
      "_________________________________________________________________\n",
      "dense_7 (Dense)              (None, 64)                8256      \n",
      "_________________________________________________________________\n",
      "dropout_6 (Dropout)          (None, 64)                0         \n",
      "_________________________________________________________________\n",
      "dense_8 (Dense)              (None, 10)                650       \n",
      "=================================================================\n",
      "Total params: 61,770\n",
      "Trainable params: 61,770\n",
      "Non-trainable params: 0\n",
      "_________________________________________________________________\n",
      "None\n"
     ]
    }
   ],
   "source": [
    "modelo=define_model(X_train,True)"
   ]
  },
  {
   "cell_type": "code",
   "execution_count": 36,
   "metadata": {},
   "outputs": [
    {
     "data": {
      "text/plain": [
       "(1782, 77)"
      ]
     },
     "execution_count": 36,
     "metadata": {},
     "output_type": "execute_result"
    }
   ],
   "source": [
    "X_test.shape"
   ]
  },
  {
   "cell_type": "code",
   "execution_count": 37,
   "metadata": {},
   "outputs": [],
   "source": [
    "modelo.compile(optimizer='adam',\n",
    "              loss='sparse_categorical_crossentropy',\n",
    "              metrics=['accuracy'])"
   ]
  },
  {
   "cell_type": "code",
   "execution_count": 38,
   "metadata": {},
   "outputs": [
    {
     "name": "stdout",
     "output_type": "stream",
     "text": [
      "Train on 6415 samples, validate on 713 samples\n",
      "Epoch 1/60\n",
      "6415/6415 [==============================] - 2s 263us/step - loss: 2.0055 - acc: 0.2859 - val_loss: 1.4754 - val_acc: 0.4881\n",
      "Epoch 2/60\n",
      "6415/6415 [==============================] - 0s 43us/step - loss: 1.4662 - acc: 0.4744 - val_loss: 1.1067 - val_acc: 0.6381\n",
      "Epoch 3/60\n",
      "6415/6415 [==============================] - 0s 41us/step - loss: 1.2164 - acc: 0.5724 - val_loss: 0.9167 - val_acc: 0.7111\n",
      "Epoch 4/60\n",
      "6415/6415 [==============================] - 0s 57us/step - loss: 1.0831 - acc: 0.6259 - val_loss: 0.7911 - val_acc: 0.7419\n",
      "Epoch 5/60\n",
      "6415/6415 [==============================] - 0s 47us/step - loss: 0.9564 - acc: 0.6698 - val_loss: 0.7049 - val_acc: 0.7770\n",
      "Epoch 6/60\n",
      "6415/6415 [==============================] - 0s 46us/step - loss: 0.8756 - acc: 0.6973 - val_loss: 0.6552 - val_acc: 0.7938\n",
      "Epoch 7/60\n",
      "6415/6415 [==============================] - 0s 50us/step - loss: 0.8317 - acc: 0.7101 - val_loss: 0.6160 - val_acc: 0.8065\n",
      "Epoch 8/60\n",
      "6415/6415 [==============================] - 0s 50us/step - loss: 0.7756 - acc: 0.7281 - val_loss: 0.6104 - val_acc: 0.7994\n",
      "Epoch 9/60\n",
      "6415/6415 [==============================] - 0s 63us/step - loss: 0.7342 - acc: 0.7472 - val_loss: 0.5782 - val_acc: 0.8022\n",
      "Epoch 10/60\n",
      "6415/6415 [==============================] - 0s 43us/step - loss: 0.6881 - acc: 0.7665 - val_loss: 0.5459 - val_acc: 0.8191\n",
      "Epoch 11/60\n",
      "6415/6415 [==============================] - 0s 45us/step - loss: 0.6393 - acc: 0.7811 - val_loss: 0.5170 - val_acc: 0.8331\n",
      "Epoch 12/60\n",
      "6415/6415 [==============================] - 0s 60us/step - loss: 0.6185 - acc: 0.7894 - val_loss: 0.4992 - val_acc: 0.8359\n",
      "Epoch 13/60\n",
      "6415/6415 [==============================] - 0s 57us/step - loss: 0.5934 - acc: 0.7998 - val_loss: 0.4856 - val_acc: 0.8373\n",
      "Epoch 14/60\n",
      "6415/6415 [==============================] - 0s 49us/step - loss: 0.5691 - acc: 0.8036 - val_loss: 0.4683 - val_acc: 0.8331\n",
      "Epoch 15/60\n",
      "6415/6415 [==============================] - 0s 44us/step - loss: 0.5554 - acc: 0.8106 - val_loss: 0.4494 - val_acc: 0.8429\n",
      "Epoch 16/60\n",
      "6415/6415 [==============================] - 0s 42us/step - loss: 0.5226 - acc: 0.8195 - val_loss: 0.4391 - val_acc: 0.8612\n",
      "Epoch 17/60\n",
      "6415/6415 [==============================] - 0s 61us/step - loss: 0.5026 - acc: 0.8263 - val_loss: 0.4178 - val_acc: 0.8597\n",
      "Epoch 18/60\n",
      "6415/6415 [==============================] - 0s 47us/step - loss: 0.5024 - acc: 0.8338 - val_loss: 0.4105 - val_acc: 0.8597\n",
      "Epoch 19/60\n",
      "6415/6415 [==============================] - 0s 48us/step - loss: 0.4742 - acc: 0.8380 - val_loss: 0.4019 - val_acc: 0.8612\n",
      "Epoch 20/60\n",
      "6415/6415 [==============================] - 0s 58us/step - loss: 0.4618 - acc: 0.8458 - val_loss: 0.3862 - val_acc: 0.8597\n",
      "Epoch 21/60\n",
      "6415/6415 [==============================] - 0s 46us/step - loss: 0.4334 - acc: 0.8538 - val_loss: 0.3776 - val_acc: 0.8780\n",
      "Epoch 22/60\n",
      "6415/6415 [==============================] - 0s 43us/step - loss: 0.4158 - acc: 0.8580 - val_loss: 0.3683 - val_acc: 0.8780\n",
      "Epoch 23/60\n",
      "6415/6415 [==============================] - 0s 53us/step - loss: 0.3972 - acc: 0.8677 - val_loss: 0.3618 - val_acc: 0.8766\n",
      "Epoch 24/60\n",
      "6415/6415 [==============================] - 0s 46us/step - loss: 0.4020 - acc: 0.8617 - val_loss: 0.3478 - val_acc: 0.8794\n",
      "Epoch 25/60\n",
      "6415/6415 [==============================] - 0s 49us/step - loss: 0.3816 - acc: 0.8694 - val_loss: 0.3420 - val_acc: 0.8822\n",
      "Epoch 26/60\n",
      "6415/6415 [==============================] - 0s 52us/step - loss: 0.3797 - acc: 0.8691 - val_loss: 0.3320 - val_acc: 0.8934\n",
      "Epoch 27/60\n",
      "6415/6415 [==============================] - 0s 46us/step - loss: 0.3627 - acc: 0.8765 - val_loss: 0.3379 - val_acc: 0.8864\n",
      "Epoch 28/60\n",
      "6415/6415 [==============================] - 0s 44us/step - loss: 0.3478 - acc: 0.8781 - val_loss: 0.3210 - val_acc: 0.8906\n",
      "Epoch 29/60\n",
      "6415/6415 [==============================] - 0s 53us/step - loss: 0.3383 - acc: 0.8803 - val_loss: 0.3145 - val_acc: 0.8920\n",
      "Epoch 30/60\n",
      "6415/6415 [==============================] - 0s 52us/step - loss: 0.3172 - acc: 0.8942 - val_loss: 0.3188 - val_acc: 0.8808\n",
      "Epoch 31/60\n",
      "6415/6415 [==============================] - 0s 43us/step - loss: 0.3135 - acc: 0.8952 - val_loss: 0.3218 - val_acc: 0.9004\n",
      "Epoch 32/60\n",
      "6415/6415 [==============================] - 0s 48us/step - loss: 0.3228 - acc: 0.8876 - val_loss: 0.3272 - val_acc: 0.8906\n",
      "Epoch 33/60\n",
      "6415/6415 [==============================] - 0s 50us/step - loss: 0.3069 - acc: 0.8934 - val_loss: 0.3081 - val_acc: 0.8934\n",
      "Epoch 34/60\n",
      "6415/6415 [==============================] - 0s 44us/step - loss: 0.2948 - acc: 0.9009 - val_loss: 0.3036 - val_acc: 0.8906\n",
      "Epoch 35/60\n",
      "6415/6415 [==============================] - 0s 54us/step - loss: 0.2867 - acc: 0.9034 - val_loss: 0.3123 - val_acc: 0.9004\n",
      "Epoch 36/60\n",
      "6415/6415 [==============================] - 0s 48us/step - loss: 0.2852 - acc: 0.9038 - val_loss: 0.2946 - val_acc: 0.8962\n",
      "Epoch 37/60\n",
      "6415/6415 [==============================] - 0s 47us/step - loss: 0.2740 - acc: 0.9069 - val_loss: 0.2805 - val_acc: 0.9032\n",
      "Epoch 38/60\n",
      "6415/6415 [==============================] - 0s 49us/step - loss: 0.2541 - acc: 0.9136 - val_loss: 0.2652 - val_acc: 0.9130\n",
      "Epoch 39/60\n",
      "6415/6415 [==============================] - 0s 52us/step - loss: 0.2454 - acc: 0.9146 - val_loss: 0.2746 - val_acc: 0.9018\n",
      "Epoch 40/60\n",
      "6415/6415 [==============================] - 0s 47us/step - loss: 0.2428 - acc: 0.9172 - val_loss: 0.2728 - val_acc: 0.9102\n",
      "Epoch 41/60\n",
      "6415/6415 [==============================] - 0s 49us/step - loss: 0.2230 - acc: 0.9270 - val_loss: 0.2671 - val_acc: 0.9144\n",
      "Epoch 42/60\n",
      "6415/6415 [==============================] - 0s 52us/step - loss: 0.2230 - acc: 0.9275 - val_loss: 0.2624 - val_acc: 0.9074\n",
      "Epoch 43/60\n",
      "6415/6415 [==============================] - 0s 50us/step - loss: 0.2303 - acc: 0.9242 - val_loss: 0.2620 - val_acc: 0.9158\n",
      "Epoch 44/60\n",
      "6415/6415 [==============================] - 0s 50us/step - loss: 0.2233 - acc: 0.9267 - val_loss: 0.2604 - val_acc: 0.9130\n",
      "Epoch 45/60\n",
      "6415/6415 [==============================] - 0s 49us/step - loss: 0.2166 - acc: 0.9236 - val_loss: 0.2413 - val_acc: 0.9201\n",
      "Epoch 46/60\n",
      "6415/6415 [==============================] - 0s 47us/step - loss: 0.2133 - acc: 0.9231 - val_loss: 0.2467 - val_acc: 0.9144\n",
      "Epoch 47/60\n",
      "6415/6415 [==============================] - 0s 52us/step - loss: 0.2091 - acc: 0.9319 - val_loss: 0.2476 - val_acc: 0.9215\n",
      "Epoch 48/60\n",
      "6415/6415 [==============================] - 0s 55us/step - loss: 0.2128 - acc: 0.9320 - val_loss: 0.2382 - val_acc: 0.9173\n",
      "Epoch 49/60\n",
      "6415/6415 [==============================] - 0s 50us/step - loss: 0.2095 - acc: 0.9280 - val_loss: 0.2375 - val_acc: 0.9215\n",
      "Epoch 50/60\n",
      "6415/6415 [==============================] - 0s 51us/step - loss: 0.2002 - acc: 0.9330 - val_loss: 0.2456 - val_acc: 0.9257\n",
      "Epoch 51/60\n",
      "6415/6415 [==============================] - 0s 46us/step - loss: 0.1920 - acc: 0.9380 - val_loss: 0.2340 - val_acc: 0.9229\n",
      "Epoch 52/60\n",
      "6415/6415 [==============================] - 0s 50us/step - loss: 0.1848 - acc: 0.9390 - val_loss: 0.2343 - val_acc: 0.9229\n",
      "Epoch 53/60\n",
      "6415/6415 [==============================] - 0s 52us/step - loss: 0.1831 - acc: 0.9426 - val_loss: 0.2294 - val_acc: 0.9187\n",
      "Epoch 54/60\n",
      "6415/6415 [==============================] - 0s 49us/step - loss: 0.1783 - acc: 0.9378 - val_loss: 0.2179 - val_acc: 0.9215\n",
      "Epoch 55/60\n",
      "6415/6415 [==============================] - 0s 53us/step - loss: 0.1697 - acc: 0.9436 - val_loss: 0.2238 - val_acc: 0.9229\n",
      "Epoch 56/60\n",
      "6415/6415 [==============================] - 0s 51us/step - loss: 0.1761 - acc: 0.9398 - val_loss: 0.2213 - val_acc: 0.9271\n",
      "Epoch 57/60\n",
      "6415/6415 [==============================] - 0s 53us/step - loss: 0.1769 - acc: 0.9431 - val_loss: 0.2145 - val_acc: 0.9313\n",
      "Epoch 58/60\n",
      "6415/6415 [==============================] - 0s 50us/step - loss: 0.1582 - acc: 0.9487 - val_loss: 0.2177 - val_acc: 0.9187\n",
      "Epoch 59/60\n",
      "6415/6415 [==============================] - 0s 49us/step - loss: 0.1525 - acc: 0.9509 - val_loss: 0.2328 - val_acc: 0.9201\n",
      "Epoch 60/60\n",
      "6415/6415 [==============================] - 0s 50us/step - loss: 0.1674 - acc: 0.9443 - val_loss: 0.2197 - val_acc: 0.9229\n"
     ]
    }
   ],
   "source": [
    "history = modelo.fit(X_train,\n",
    "                    y_train,\n",
    "                    epochs=60,\n",
    "                    batch_size=256,validation_split=0.1)"
   ]
  },
  {
   "cell_type": "code",
   "execution_count": 39,
   "metadata": {},
   "outputs": [
    {
     "name": "stdout",
     "output_type": "stream",
     "text": [
      "1782/1782 [==============================] - 0s 72us/step\n"
     ]
    }
   ],
   "source": [
    "test_loss, test_acc = modelo.evaluate(X_test,y_test)"
   ]
  },
  {
   "cell_type": "code",
   "execution_count": 40,
   "metadata": {},
   "outputs": [
    {
     "name": "stdout",
     "output_type": "stream",
     "text": [
      "0.2691917526133267 0.9180695845355623\n"
     ]
    }
   ],
   "source": [
    "print(test_loss, test_acc)"
   ]
  },
  {
   "cell_type": "code",
   "execution_count": 41,
   "metadata": {},
   "outputs": [
    {
     "data": {
      "image/png": "[encoded data removed]",
      "text/plain": [
       "<Figure size 1080x504 with 2 Axes>"
      ]
     },
     "metadata": {
      "needs_background": "light"
     },
     "output_type": "display_data"
    }
   ],
   "source": [
    "plt.figure(figsize=(15,7))\n",
    "\n",
    "plt.subplot(1,2,1)\n",
    "plt.plot(history.history['acc'], label='train')\n",
    "plt.plot(history.history['val_acc'], label='validation')\n",
    "plt.title('Accuracy')\n",
    "plt.xlabel('Epochs')\n",
    "plt.ylabel('Accuracy')\n",
    "plt.legend()\n",
    "\n",
    "plt.subplot(1,2,2)\n",
    "plt.plot(history.history['loss'], label='train')\n",
    "plt.plot(history.history['val_loss'], label='validation')\n",
    "plt.title('Loss')\n",
    "plt.xlabel('Epochs')\n",
    "plt.ylabel('Loss')\n",
    "plt.legend()\n",
    "\n",
    "plt.tight_layout()\n",
    "plt.show()"
   ]
  },
  {
   "cell_type": "code",
   "execution_count": 42,
   "metadata": {},
   "outputs": [],
   "source": [
    "#http://scikit-learn.org/stable/auto_examples/model_selection/plot_confusion_matrix.html\n",
    "def plot_confusion_matrix(cm, classes,\n",
    "                          normalize=False,\n",
    "                          title='Confusion matrix',\n",
    "                          cmap=plt.cm.Blues):\n",
    "    \"\"\"\n",
    "    This function prints and plots the confusion matrix.\n",
    "    Normalization can be applied by setting `normalize=True`.\n",
    "    \"\"\"\n",
    "    if normalize:\n",
    "        cm = cm.astype('float') / cm.sum(axis=1)[:, np.newaxis]\n",
    "        print(\"Normalized confusion matrix\")\n",
    "    else:\n",
    "        print('Confusion matrix, without normalization')\n",
    "\n",
    "    plt.imshow(cm, interpolation='nearest', cmap=cmap)\n",
    "    plt.title(title)\n",
    "    plt.colorbar()\n",
    "    tick_marks = np.arange(len(classes))\n",
    "    plt.xticks(tick_marks, classes, rotation=45)\n",
    "    plt.yticks(tick_marks, classes)\n",
    "\n",
    "    fmt = '.2f' if normalize else 'd'\n",
    "    thresh = cm.max() / 2.\n",
    "    for i, j in itertools.product(range(cm.shape[0]), range(cm.shape[1])):\n",
    "        plt.text(j, i, format(cm[i, j], fmt),\n",
    "                 horizontalalignment=\"center\",\n",
    "                 color=\"white\" if cm[i, j] > thresh else \"black\")\n",
    "\n",
    "    plt.tight_layout(pad=0.4,w_pad=0.5,h_pad=1)\n",
    "    plt.ylabel('True label')\n",
    "    plt.xlabel('Predicted label')"
   ]
  },
  {
   "cell_type": "code",
   "execution_count": 43,
   "metadata": {},
   "outputs": [
    {
     "name": "stdout",
     "output_type": "stream",
     "text": [
      "Normalized confusion matrix\n"
     ]
    },
    {
     "data": {
      "image/png": "[encoded data removed]",
      "text/plain": [
       "<Figure size 576x576 with 2 Axes>"
      ]
     },
     "metadata": {
      "needs_background": "light"
     },
     "output_type": "display_data"
    }
   ],
   "source": [
    "from sklearn.metrics import confusion_matrix\n",
    "preds = modelo.predict_classes(X_test)\n",
    "cm = confusion_matrix(preds,y_test)\n",
    "keys = OrderedDict(sorted(GENRES.items(), key=lambda t: t[1])).keys()\n",
    "\n",
    "plt.figure(figsize=(8,8))\n",
    "plot_confusion_matrix(cm, keys, normalize=True)"
   ]
  },
  {
   "cell_type": "code",
   "execution_count": 114,
   "metadata": {},
   "outputs": [
    {
     "name": "stdout",
     "output_type": "stream",
     "text": [
      "10/10 [==============================] - 0s 1ms/step\n",
      "0.4693319797515869 0.800000011920929\n"
     ]
    }
   ],
   "source": [
    "#\n",
    "test_loss, test_acc = modelo.evaluate(Xt1,yt1)\n",
    "print(test_loss, test_acc)"
   ]
  },
  {
   "cell_type": "code",
   "execution_count": 115,
   "metadata": {},
   "outputs": [
    {
     "data": {
      "text/plain": [
       "array([2, 1, 2, 3, 4, 5, 6, 7, 9, 9])"
      ]
     },
     "execution_count": 115,
     "metadata": {},
     "output_type": "execute_result"
    }
   ],
   "source": [
    "model1.predict_classes(Xt1)"
   ]
  },
  {
   "cell_type": "code",
   "execution_count": 116,
   "metadata": {},
   "outputs": [
    {
     "name": "stdout",
     "output_type": "stream",
     "text": [
      "30/30 [==============================] - 0s 347us/step\n",
      "0.7381046414375305 0.8666666746139526\n"
     ]
    }
   ],
   "source": [
    "test_loss, test_acc = model1.evaluate(Xt3,yt3)\n",
    "print(test_loss, test_acc)"
   ]
  },
  {
   "cell_type": "code",
   "execution_count": 118,
   "metadata": {},
   "outputs": [
    {
     "name": "stdout",
     "output_type": "stream",
     "text": [
      "1782/1782 [==============================] - 0s 95us/step\n",
      "0.25669951081342834 0.9214365879025658\n"
     ]
    }
   ],
   "source": [
    "test_loss, test_acc = model1.evaluate(X_test,y_test)\n",
    "print(test_loss, test_acc)"
   ]
  },
  {
   "cell_type": "code",
   "execution_count": 1,
   "metadata": {},
   "outputs": [
    {
     "ename": "NameError",
     "evalue": "name 'model1' is not defined",
     "output_type": "error",
     "traceback": [
      "\u001b[0;31m---------------------------------------------------------------------------\u001b[0m",
      "\u001b[0;31mNameError\u001b[0m                                 Traceback (most recent call last)",
      "\u001b[0;32m<ipython-input-1-f7bcb44436cc>\u001b[0m in \u001b[0;36m<module>\u001b[0;34m\u001b[0m\n\u001b[0;32m----> 1\u001b[0;31m \u001b[0mmodel1\u001b[0m\u001b[0;34m.\u001b[0m\u001b[0msave\u001b[0m\u001b[0;34m(\u001b[0m\u001b[0;34m'./Models/FN_NNt.h5'\u001b[0m\u001b[0;34m)\u001b[0m\u001b[0;34m\u001b[0m\u001b[0;34m\u001b[0m\u001b[0m\n\u001b[0m",
      "\u001b[0;31mNameError\u001b[0m: name 'model1' is not defined"
     ]
    }
   ],
   "source": [
    "model1.save('./Models/FN_NNt.h5')"
   ]
  },
  {
   "cell_type": "code",
   "execution_count": null,
   "metadata": {},
   "outputs": [],
   "source": []
  }
 ],
 "metadata": {
  "kernelspec": {
   "display_name": "Python 3",
   "language": "python",
   "name": "python3"
  },
  "language_info": {
   "codemirror_mode": {
    "name": "ipython",
    "version": 3
   },
   "file_extension": ".py",
   "mimetype": "text/x-python",
   "name": "python",
   "nbconvert_exporter": "python",
   "pygments_lexer": "ipython3",
   "version": "3.6.9"
  }
 },
 "nbformat": 4,
 "nbformat_minor": 4
}
