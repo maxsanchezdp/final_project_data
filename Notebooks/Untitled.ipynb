{
 "cells": [
  {
   "cell_type": "code",
   "execution_count": 42,
   "metadata": {},
   "outputs": [],
   "source": [
    "import itertools\n",
    "import pandas as pd\n",
    "import numpy as np\n",
    "import matplotlib.pyplot as plt\n",
    "from collections import OrderedDict\n",
    "import h5py\n",
    "from sklearn.model_selection import train_test_split\n",
    "from sklearn.preprocessing import StandardScaler\n",
    "from keras.models import load_model\n",
    "import warnings\n",
    "warnings.filterwarnings('ignore')"
   ]
  },
  {
   "cell_type": "code",
   "execution_count": 43,
   "metadata": {},
   "outputs": [],
   "source": [
    "# Paths to data features and test song features:\n",
    "\n",
    "TRAIN = '../Features/dataset_features/data_features.csv'\n",
    "TEST = '../Features/test_songs_features/test_features.csv'\n",
    "TEST_SPLIT = '../Features/test_songs_features/test_features_split.csv'\n",
    "MODEL = '../Models/FC_NN.h5'"
   ]
  },
  {
   "cell_type": "code",
   "execution_count": 44,
   "metadata": {},
   "outputs": [
    {
     "name": "stdout",
     "output_type": "stream",
     "text": [
      "_________________________________________________________________\n",
      "Layer (type)                 Output Shape              Param #   \n",
      "=================================================================\n",
      "dense_37 (Dense)             (None, 256)               19968     \n",
      "_________________________________________________________________\n",
      "dropout_28 (Dropout)         (None, 256)               0         \n",
      "_________________________________________________________________\n",
      "dense_38 (Dense)             (None, 128)               32896     \n",
      "_________________________________________________________________\n",
      "dropout_29 (Dropout)         (None, 128)               0         \n",
      "_________________________________________________________________\n",
      "dense_39 (Dense)             (None, 64)                8256      \n",
      "_________________________________________________________________\n",
      "dropout_30 (Dropout)         (None, 64)                0         \n",
      "_________________________________________________________________\n",
      "dense_40 (Dense)             (None, 10)                650       \n",
      "=================================================================\n",
      "Total params: 61,770\n",
      "Trainable params: 61,770\n",
      "Non-trainable params: 0\n",
      "_________________________________________________________________\n"
     ]
    }
   ],
   "source": [
    "# load model\n",
    "model = load_model('FC_NN.h5')\n",
    "# summarize model.\n",
    "model.summary()\n"
   ]
  },
  {
   "cell_type": "code",
   "execution_count": 14,
   "metadata": {},
   "outputs": [],
   "source": [
    "def normalize(path):\n",
    "    \"\"\"\n",
    "    Normalize test data for prediction\n",
    "    \"\"\"\n",
    "    # Training data:\n",
    "    data = pd.read_csv(TRAIN)\n",
    "    X = data.drop('genre', axis=1)\n",
    "    # Test data:\n",
    "    tdata = pd.read_csv(path)\n",
    "    Xt = tdata.drop('genre', axis=1)\n",
    "    yt = tdata.genre\n",
    "    rows = Xt.shape[0]\n",
    "    # Append original data and test data for normalization:\n",
    "    Xt = X.append(Xt, ignore_index=True)\n",
    "    # Normalize:\n",
    "    sc = StandardScaler().fit_transform(Xt.values)\n",
    "    Xt = pd.DataFrame(sc[-rows:], index=Xt[-rows:].index, columns=Xt.columns)\n",
    "    splits = int(rows/10)\n",
    "    return Xt, yt, splits"
   ]
  },
  {
   "cell_type": "code",
   "execution_count": 15,
   "metadata": {},
   "outputs": [],
   "source": [
    "X, y, sp = normalize(TEST)"
   ]
  },
  {
   "cell_type": "code",
   "execution_count": 16,
   "metadata": {},
   "outputs": [
    {
     "data": {
      "text/plain": [
       "1"
      ]
     },
     "execution_count": 16,
     "metadata": {},
     "output_type": "execute_result"
    }
   ],
   "source": [
    "sp"
   ]
  },
  {
   "cell_type": "code",
   "execution_count": 17,
   "metadata": {},
   "outputs": [],
   "source": [
    "X, y, sp = normalize(TEST_SPLIT)"
   ]
  },
  {
   "cell_type": "code",
   "execution_count": 20,
   "metadata": {},
   "outputs": [
    {
     "data": {
      "text/plain": [
       "3"
      ]
     },
     "execution_count": 20,
     "metadata": {},
     "output_type": "execute_result"
    }
   ],
   "source": [
    "sp"
   ]
  },
  {
   "cell_type": "code",
   "execution_count": 45,
   "metadata": {},
   "outputs": [],
   "source": [
    "#cargo csvs:\n",
    "data=pd.read_csv(TRAIN)#training data\n",
    "t1data=pd.read_csv(TEST)#test songs 1 row\n"
   ]
  },
  {
   "cell_type": "code",
   "execution_count": 46,
   "metadata": {},
   "outputs": [],
   "source": [
    "X=data.drop('genre',axis=1)\n",
    "Xt1=t1data.drop('genre',axis=1)\n"
   ]
  },
  {
   "cell_type": "code",
   "execution_count": 47,
   "metadata": {},
   "outputs": [
    {
     "data": {
      "text/plain": [
       "(8910, 77)"
      ]
     },
     "execution_count": 47,
     "metadata": {},
     "output_type": "execute_result"
    }
   ],
   "source": [
    "yt1=t1data.genre\n",
    "\n",
    "X.shape"
   ]
  },
  {
   "cell_type": "code",
   "execution_count": 48,
   "metadata": {},
   "outputs": [],
   "source": [
    "Xt1=X.append(Xt1,ignore_index=True)\n"
   ]
  },
  {
   "cell_type": "code",
   "execution_count": 49,
   "metadata": {},
   "outputs": [],
   "source": [
    "\n",
    "sc1=StandardScaler().fit_transform(Xt1.values)\n",
    "\n",
    "\n",
    "Xt1=pd.DataFrame(sc1[-10:], index=Xt1[-10:].index, columns=Xt1.columns)\n"
   ]
  },
  {
   "cell_type": "code",
   "execution_count": 50,
   "metadata": {},
   "outputs": [
    {
     "name": "stdout",
     "output_type": "stream",
     "text": [
      "10/10 [==============================] - 1s 104ms/step\n",
      "0.5902891755104065 0.800000011920929\n"
     ]
    }
   ],
   "source": [
    "test_loss, test_acc = model.evaluate(Xt1,yt1)\n",
    "print(test_loss, test_acc)"
   ]
  },
  {
   "cell_type": "code",
   "execution_count": 51,
   "metadata": {},
   "outputs": [
    {
     "data": {
      "text/plain": [
       "array([5, 1, 2, 3, 4, 5, 6, 7, 9, 9])"
      ]
     },
     "execution_count": 51,
     "metadata": {},
     "output_type": "execute_result"
    }
   ],
   "source": [
    "model.predict_classes(Xt1)"
   ]
  },
  {
   "cell_type": "code",
   "execution_count": 52,
   "metadata": {},
   "outputs": [
    {
     "data": {
      "text/plain": [
       "array([[3.33057255e-01, 9.74418968e-03, 1.03382319e-01, 3.93546466e-03,\n",
       "        2.01610825e-03, 3.65844995e-01, 1.62994750e-02, 1.54736196e-03,\n",
       "        2.66627371e-02, 1.37510106e-01],\n",
       "       [1.31484281e-08, 9.99650478e-01, 1.06035216e-07, 5.16505838e-10,\n",
       "        5.53176283e-10, 3.49368260e-04, 4.26387068e-08, 5.81542503e-09,\n",
       "        2.11345282e-11, 5.55744570e-08],\n",
       "       [8.18640739e-02, 3.57510813e-04, 8.70368838e-01, 7.27455132e-03,\n",
       "        1.53727492e-03, 2.90324539e-03, 2.15546880e-03, 3.49050242e-04,\n",
       "        2.62745912e-03, 3.05625219e-02],\n",
       "       [3.68297881e-09, 1.44874623e-09, 1.29154910e-06, 9.98972774e-01,\n",
       "        1.02097681e-03, 3.96653554e-09, 1.62307359e-08, 7.28106272e-07,\n",
       "        3.30049943e-06, 9.12006101e-07],\n",
       "       [9.55935800e-04, 1.86716889e-07, 4.90080993e-07, 5.78925537e-04,\n",
       "        9.98223960e-01, 5.51880134e-07, 2.22475483e-05, 3.08393442e-06,\n",
       "        2.07933466e-04, 6.60813021e-06],\n",
       "       [1.28831583e-04, 9.72292945e-03, 8.83353132e-05, 2.22879066e-06,\n",
       "        1.37853888e-07, 9.90010917e-01, 3.23580616e-06, 3.39666741e-07,\n",
       "        4.46585716e-07, 4.25225335e-05],\n",
       "       [1.85901388e-06, 1.04524609e-07, 7.85081156e-08, 6.13352631e-06,\n",
       "        1.95923131e-02, 9.20743748e-09, 9.80353117e-01, 3.03644110e-09,\n",
       "        1.15895477e-06, 4.52005406e-05],\n",
       "       [8.33038586e-12, 6.38404107e-10, 9.93127358e-09, 1.24401549e-06,\n",
       "        4.97625160e-06, 2.30628960e-09, 1.71380617e-14, 9.99993205e-01,\n",
       "        4.41747460e-07, 5.04292741e-09],\n",
       "       [9.66878459e-02, 4.49636136e-04, 1.77648687e-03, 4.75572720e-02,\n",
       "        6.15541190e-02, 1.19007390e-03, 2.92246789e-01, 8.03027942e-04,\n",
       "        1.12268813e-02, 4.86507982e-01],\n",
       "       [5.34651626e-05, 4.72625345e-03, 6.90583140e-03, 2.66703337e-05,\n",
       "        1.05058204e-03, 4.79789829e-04, 1.19085275e-01, 5.42285561e-05,\n",
       "        1.03768849e-04, 8.67514253e-01]], dtype=float32)"
      ]
     },
     "execution_count": 52,
     "metadata": {},
     "output_type": "execute_result"
    }
   ],
   "source": [
    "model.predict(Xt1)"
   ]
  },
  {
   "cell_type": "code",
   "execution_count": null,
   "metadata": {},
   "outputs": [],
   "source": []
  },
  {
   "cell_type": "code",
   "execution_count": 106,
   "metadata": {},
   "outputs": [
    {
     "name": "stdout",
     "output_type": "stream",
     "text": [
      "30/30 [==============================] - 0s 423us/step\n",
      "0.9436196088790894 0.8333333134651184\n"
     ]
    }
   ],
   "source": [
    "test_loss, test_acc = model.evaluate(Xt3,yt3)\n",
    "print(test_loss, test_acc)"
   ]
  },
  {
   "cell_type": "code",
   "execution_count": 40,
   "metadata": {},
   "outputs": [],
   "source": [
    "genres = {'blues': 0, 'classical': 1, 'country': 2, 'disco': 3, 'hiphop': 4, \n",
    "          'jazz': 5, 'metal': 6, 'pop': 7, 'reggae': 8, 'rock': 9}"
   ]
  },
  {
   "cell_type": "code",
   "execution_count": 41,
   "metadata": {},
   "outputs": [
    {
     "data": {
      "text/plain": [
       "dict_values([0, 1, 2, 3, 4, 5, 6, 7, 8, 9])"
      ]
     },
     "execution_count": 41,
     "metadata": {},
     "output_type": "execute_result"
    }
   ],
   "source": [
    "genres.values()"
   ]
  },
  {
   "cell_type": "code",
   "execution_count": 124,
   "metadata": {},
   "outputs": [],
   "source": [
    "Xsp1=pd.read_csv(\"../Features/fsp1.csv\")#test songs 1 row\n",
    "Xsp3=pd.read_csv(\"../Features/fsp3.csv\")#test songs 3 rows\n",
    "Xsp1=X.append(Xsp1,ignore_index=True)\n",
    "Xsp3=X.append(Xsp3,ignore_index=True)\n",
    "\n",
    "sc1=StandardScaler().fit_transform(Xsp1.values)\n",
    "sc3=StandardScaler().fit_transform(Xsp3.values)\n",
    "\n",
    "\n",
    "Xsp1=pd.DataFrame(sc1[-1:], index=Xt1[-1:].index, columns=Xt1.columns)\n",
    "Xsp3=pd.DataFrame(sc3[-3:], index=Xt3[-3:].index, columns=Xt3.columns)\n",
    "\n",
    "\n"
   ]
  },
  {
   "cell_type": "code",
   "execution_count": 125,
   "metadata": {},
   "outputs": [
    {
     "data": {
      "text/plain": [
       "array([8])"
      ]
     },
     "execution_count": 125,
     "metadata": {},
     "output_type": "execute_result"
    }
   ],
   "source": [
    "model.predict_classes(Xsp1)"
   ]
  },
  {
   "cell_type": "code",
   "execution_count": 126,
   "metadata": {},
   "outputs": [
    {
     "data": {
      "text/plain": [
       "array([[4.4347332e-03, 1.5072101e-04, 8.9566214e-03, 8.1167752e-03,\n",
       "        2.9062687e-03, 1.1398055e-04, 4.0776687e-04, 1.1468789e-02,\n",
       "        9.4445282e-01, 1.8991562e-02]], dtype=float32)"
      ]
     },
     "execution_count": 126,
     "metadata": {},
     "output_type": "execute_result"
    }
   ],
   "source": [
    "model.predict(Xsp1)"
   ]
  },
  {
   "cell_type": "code",
   "execution_count": 127,
   "metadata": {},
   "outputs": [
    {
     "data": {
      "text/plain": [
       "array([8, 8, 8])"
      ]
     },
     "execution_count": 127,
     "metadata": {},
     "output_type": "execute_result"
    }
   ],
   "source": [
    "model.predict_classes(Xsp3)"
   ]
  },
  {
   "cell_type": "code",
   "execution_count": 91,
   "metadata": {},
   "outputs": [
    {
     "data": {
      "text/plain": [
       "array([[3.5550096e-03, 8.0931502e-05, 1.1809486e-02, 8.3717680e-01,\n",
       "        1.1275105e-01, 1.6493093e-03, 7.2042859e-04, 9.0997173e-03,\n",
       "        2.0600369e-02, 2.5568816e-03]], dtype=float32)"
      ]
     },
     "execution_count": 91,
     "metadata": {},
     "output_type": "execute_result"
    }
   ],
   "source": [
    "model.predict(Xsp1)"
   ]
  },
  {
   "cell_type": "code",
   "execution_count": 87,
   "metadata": {},
   "outputs": [
    {
     "data": {
      "text/plain": [
       "array([[4.0721011e-04, 5.1566737e-04, 4.7162161e-04, 1.3951976e-04,\n",
       "        2.6522547e-02, 1.1368097e-04, 9.5937091e-01, 3.0514673e-05,\n",
       "        7.4185315e-04, 1.1686442e-02]], dtype=float32)"
      ]
     },
     "execution_count": 87,
     "metadata": {},
     "output_type": "execute_result"
    }
   ],
   "source": [
    "model.predict(Xsp1)"
   ]
  },
  {
   "cell_type": "code",
   "execution_count": null,
   "metadata": {},
   "outputs": [],
   "source": []
  }
 ],
 "metadata": {
  "kernelspec": {
   "display_name": "Python 3",
   "language": "python",
   "name": "python3"
  },
  "language_info": {
   "codemirror_mode": {
    "name": "ipython",
    "version": 3
   },
   "file_extension": ".py",
   "mimetype": "text/x-python",
   "name": "python",
   "nbconvert_exporter": "python",
   "pygments_lexer": "ipython3",
   "version": "3.6.9"
  }
 },
 "nbformat": 4,
 "nbformat_minor": 4
}
