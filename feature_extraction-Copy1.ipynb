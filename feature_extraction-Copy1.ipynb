{
 "cells": [
  {
   "cell_type": "code",
   "execution_count": 13,
   "metadata": {},
   "outputs": [],
   "source": [
    "# Libraries for feature extraction:\n",
    "import librosa\n",
    "import pandas as pd\n",
    "import numpy as np\n",
    "import os\n",
    "import pathlib\n",
    "from scipy.stats import kurtosis\n",
    "from scipy.stats import skew\n"
   ]
  },
  {
   "cell_type": "code",
   "execution_count": 14,
   "metadata": {},
   "outputs": [],
   "source": [
    "#Audio data directory:\n",
    "audio_dir = './Data/genres/'\n",
    "test_dir = './Data/test_songs/'\n",
    "spoty_dir='./Data/spotify_songs/'"
   ]
  },
  {
   "cell_type": "code",
   "execution_count": 15,
   "metadata": {},
   "outputs": [],
   "source": [
    "#Dictionary for genres label encoding:\n",
    "genres = {'blues': 0, 'classical': 1, 'country': 2, 'disco': 3, 'hiphop': 4, \n",
    "          'jazz': 5, 'metal': 6, 'pop': 7, 'reggae': 8, 'rock': 9}"
   ]
  },
  {
   "cell_type": "code",
   "execution_count": 16,
   "metadata": {},
   "outputs": [],
   "source": [
    "def split_songs(X, window, overlap):\n",
    "    \"\"\"\n",
    "    Function to split a song into multiple songs.\n",
    "    \"\"\"\n",
    "    # Temporary lists to hold results\n",
    "    temp_X = []\n",
    "\n",
    "    # Get input song array size\n",
    "    xshape = X.shape[0]\n",
    "    chunk = int(xshape*window)\n",
    "    offset = int(chunk*(1.-overlap))\n",
    "    \n",
    "    # Split the song and create new ones\n",
    "    spsong = [X[i:i+chunk] for i in range(0, xshape - chunk + offset, offset)]\n",
    "    for s in spsong:\n",
    "        temp_X.append(s)\n",
    "\n",
    "    return np.array(temp_X)"
   ]
  },
  {
   "cell_type": "code",
   "execution_count": 17,
   "metadata": {},
   "outputs": [],
   "source": [
    "#Get selected features from each song using librosa and numpy:\n",
    "def get_features(y, sr, n_fft = 1024, hop_length = 512):\n",
    "    # Selected features:\n",
    "    features = {'centroid': None, 'roloff': None, 'flux': None, 'rmse': None, 'zcr': None, 'chroma':None}\n",
    "    \n",
    "    # Using librosa to calculate the features\n",
    "    features['centroid'] = librosa.feature.spectral_centroid(y, sr=sr, n_fft=n_fft, hop_length=hop_length).ravel()\n",
    "    features['roloff'] = librosa.feature.spectral_rolloff(y, sr=sr, n_fft=n_fft, hop_length=hop_length).ravel()\n",
    "    features['zcr'] = librosa.feature.zero_crossing_rate(y, frame_length=n_fft, hop_length=hop_length).ravel()\n",
    "    features['rmse'] = librosa.feature.rms(y, frame_length=n_fft, hop_length=hop_length).ravel()\n",
    "    features['flux'] = librosa.onset.onset_strength(y=y, sr=sr).ravel()\n",
    "    features['chroma'] = librosa.feature.chroma_stft(y=y, sr=sr, n_fft=n_fft, hop_length=hop_length).ravel()\n",
    "    \n",
    "    # Treatment of MFCC feature\n",
    "    mfcc = librosa.feature.mfcc(y, n_fft = n_fft, hop_length = hop_length, n_mfcc=13)\n",
    "    for idx, v_mfcc in enumerate(mfcc):\n",
    "        features['mfcc_{}'.format(idx)] = v_mfcc.ravel()\n",
    "        \n",
    "    # Calculate statistics for each feature:\n",
    "    def get_moments(descriptors):\n",
    "        result = {}\n",
    "        for k, v in descriptors.items():\n",
    "            result[f'{k}_mean'] = np.mean(v)\n",
    "            result[f'{k}_std'] = np.std(v)\n",
    "            result[f'{k}_kurtosis'] = kurtosis(v)\n",
    "            result[f'{k}_skew'] = skew(v)\n",
    "        return result\n",
    "    \n",
    "    dict_agg_features = get_moments(features)\n",
    "    \n",
    "    #Calculating one more feature:\n",
    "    dict_agg_features['tempo'] = librosa.beat.tempo(y, sr=sr)[0]\n",
    "    \n",
    "    return dict_agg_features"
   ]
  },
  {
   "cell_type": "code",
   "execution_count": 18,
   "metadata": {},
   "outputs": [],
   "source": [
    "def read_process_labelled(src_dir, window=0.2, overlap=0.5, debug = True):\n",
    "    arr_features = []\n",
    "\n",
    "    # Read files from the folders\n",
    "    for x,_ in genres.items():\n",
    "        folder = src_dir + x\n",
    "    \n",
    "        for root, subdirs, files in os.walk(folder):\n",
    "            for file in files:\n",
    "                # Read the audio file\n",
    "                file_name = folder + \"/\" + file\n",
    "                signal, sr = librosa.load(file_name)\n",
    "                signal = signal[:660000]\n",
    "                \n",
    "                # Debug process\n",
    "                if debug:\n",
    "                    print(f\"Reading file: {file_name}\")\n",
    "                    \n",
    "                #Split songs:\n",
    "                samples=split_songs(signal,window,overlap)\n",
    "\n",
    "                # Append the result to the data structure\n",
    "                for s in samples:\n",
    "                    features = get_features(s, sr)\n",
    "                    features['genre'] = genres[x]\n",
    "                    arr_features.append(features)\n",
    "    return arr_features"
   ]
  },
  {
   "cell_type": "code",
   "execution_count": 8,
   "metadata": {},
   "outputs": [],
   "source": [
    "def read_process_unlabelled(src_dir, window=1, overlap=0, debug = True):\n",
    "    arr_features = []\n",
    "\n",
    "    for root, subdirs, files in os.walk(src_dir):\n",
    "        for file in files:\n",
    "            # Read the audio file\n",
    "            file_name = src_dir + file\n",
    "            signal, sr = librosa.load(file_name)\n",
    "            signal = signal[:660000]\n",
    "\n",
    "            # Debug process\n",
    "            if debug:\n",
    "                print(\"Reading file: {}\".format(file_name))\n",
    "                \n",
    "            #Split songs:\n",
    "            samples=split_songs(signal,window,overlap)\n",
    "\n",
    "            # Append the result to the data structure\n",
    "            for s in samples:\n",
    "                features = get_features(s, sr)\n",
    "                arr_features.append(features)\n",
    "\n",
    "    return arr_features"
   ]
  },
  {
   "cell_type": "code",
   "execution_count": null,
   "metadata": {},
   "outputs": [],
   "source": [
    "# Get list of dicts with features and convert to dataframe\n",
    "features = read_process_songs(audio_dir,debug=True)"
   ]
  },
  {
   "cell_type": "code",
   "execution_count": null,
   "metadata": {},
   "outputs": [],
   "source": []
  },
  {
   "cell_type": "code",
   "execution_count": 20,
   "metadata": {},
   "outputs": [],
   "source": [
    "df=pd.DataFrame(features)"
   ]
  },
  {
   "cell_type": "code",
   "execution_count": 25,
   "metadata": {},
   "outputs": [],
   "source": [
    "df.to_csv('./Features/features_augmented.csv', index=False)"
   ]
  },
  {
   "cell_type": "code",
   "execution_count": 33,
   "metadata": {},
   "outputs": [
    {
     "name": "stdout",
     "output_type": "stream",
     "text": [
      "Reading file: ./Data/test_songs/blues/blues.00099.wav\n",
      "Reading file: ./Data/test_songs/classical/classical.00099.wav\n",
      "Reading file: ./Data/test_songs/country/country.00099.wav\n",
      "Reading file: ./Data/test_songs/disco/disco.00099.wav\n",
      "Reading file: ./Data/test_songs/hiphop/hiphop.00099.wav\n",
      "Reading file: ./Data/test_songs/jazz/jazz.00099.wav\n",
      "Reading file: ./Data/test_songs/metal/metal.00099.wav\n",
      "Reading file: ./Data/test_songs/pop/pop.00099.wav\n",
      "Reading file: ./Data/test_songs/reggae/reggae.00099.wav\n",
      "Reading file: ./Data/test_songs/rock/rock.00099.wav\n"
     ]
    }
   ],
   "source": [
    "features1 = read_process_songs_t1(test_dir,debug=True)\n",
    "df1=pd.DataFrame(features1)\n",
    "df1.to_csv('./Features/features_augmented_t1.csv', index=False)"
   ]
  },
  {
   "cell_type": "code",
   "execution_count": 34,
   "metadata": {},
   "outputs": [
    {
     "name": "stdout",
     "output_type": "stream",
     "text": [
      "Reading file: ./Data/test_songs/blues/blues.00099.wav\n",
      "Reading file: ./Data/test_songs/classical/classical.00099.wav\n",
      "Reading file: ./Data/test_songs/country/country.00099.wav\n",
      "Reading file: ./Data/test_songs/disco/disco.00099.wav\n",
      "Reading file: ./Data/test_songs/hiphop/hiphop.00099.wav\n",
      "Reading file: ./Data/test_songs/jazz/jazz.00099.wav\n",
      "Reading file: ./Data/test_songs/metal/metal.00099.wav\n",
      "Reading file: ./Data/test_songs/pop/pop.00099.wav\n",
      "Reading file: ./Data/test_songs/reggae/reggae.00099.wav\n",
      "Reading file: ./Data/test_songs/rock/rock.00099.wav\n"
     ]
    }
   ],
   "source": [
    "features3 = read_process_songs_t3(test_dir,debug=True)\n",
    "df3=pd.DataFrame(features3)\n",
    "df3.to_csv('./Features/features_augmented_t3.csv', index=False)"
   ]
  },
  {
   "cell_type": "code",
   "execution_count": 127,
   "metadata": {},
   "outputs": [
    {
     "name": "stdout",
     "output_type": "stream",
     "text": [
      "Reading file: ./Data/spotify_songs/reggae.mp3\n"
     ]
    }
   ],
   "source": [
    "fsp1=read_process_songs_sp1(spoty_dir)"
   ]
  },
  {
   "cell_type": "code",
   "execution_count": 128,
   "metadata": {},
   "outputs": [],
   "source": [
    "dfs1=pd.DataFrame(fsp1)"
   ]
  },
  {
   "cell_type": "code",
   "execution_count": 129,
   "metadata": {},
   "outputs": [],
   "source": [
    "dfs1.to_csv('./Features/fsp1.csv',index=False)"
   ]
  },
  {
   "cell_type": "code",
   "execution_count": 130,
   "metadata": {},
   "outputs": [
    {
     "name": "stdout",
     "output_type": "stream",
     "text": [
      "Reading file: ./Data/spotify_songs/reggae.mp3\n"
     ]
    }
   ],
   "source": [
    "fsp3=read_process_songs_sp3(spoty_dir)"
   ]
  },
  {
   "cell_type": "code",
   "execution_count": 131,
   "metadata": {},
   "outputs": [],
   "source": [
    "dfs3=pd.DataFrame(fsp3)"
   ]
  },
  {
   "cell_type": "code",
   "execution_count": 132,
   "metadata": {},
   "outputs": [],
   "source": [
    "dfs3.to_csv('./Features/fsp3.csv',index=False)"
   ]
  },
  {
   "cell_type": "code",
   "execution_count": 32,
   "metadata": {},
   "outputs": [
    {
     "data": {
      "text/html": [
       "<div>\n",
       "<style scoped>\n",
       "    .dataframe tbody tr th:only-of-type {\n",
       "        vertical-align: middle;\n",
       "    }\n",
       "\n",
       "    .dataframe tbody tr th {\n",
       "        vertical-align: top;\n",
       "    }\n",
       "\n",
       "    .dataframe thead th {\n",
       "        text-align: right;\n",
       "    }\n",
       "</style>\n",
       "<table border=\"1\" class=\"dataframe\">\n",
       "  <thead>\n",
       "    <tr style=\"text-align: right;\">\n",
       "      <th></th>\n",
       "      <th>centroid_kurtosis</th>\n",
       "      <th>centroid_mean</th>\n",
       "      <th>centroid_skew</th>\n",
       "      <th>centroid_std</th>\n",
       "      <th>chroma_kurtosis</th>\n",
       "      <th>chroma_mean</th>\n",
       "      <th>chroma_skew</th>\n",
       "      <th>chroma_std</th>\n",
       "      <th>flux_kurtosis</th>\n",
       "      <th>flux_mean</th>\n",
       "      <th>...</th>\n",
       "      <th>rmse_std</th>\n",
       "      <th>roloff_kurtosis</th>\n",
       "      <th>roloff_mean</th>\n",
       "      <th>roloff_skew</th>\n",
       "      <th>roloff_std</th>\n",
       "      <th>tempo</th>\n",
       "      <th>zcr_kurtosis</th>\n",
       "      <th>zcr_mean</th>\n",
       "      <th>zcr_skew</th>\n",
       "      <th>zcr_std</th>\n",
       "    </tr>\n",
       "  </thead>\n",
       "  <tbody>\n",
       "    <tr>\n",
       "      <th>0</th>\n",
       "      <td>-0.272445</td>\n",
       "      <td>2292.006108</td>\n",
       "      <td>0.639644</td>\n",
       "      <td>371.370890</td>\n",
       "      <td>-0.459790</td>\n",
       "      <td>0.454361</td>\n",
       "      <td>0.717142</td>\n",
       "      <td>0.264166</td>\n",
       "      <td>6.023544</td>\n",
       "      <td>1.166718</td>\n",
       "      <td>...</td>\n",
       "      <td>0.025612</td>\n",
       "      <td>-0.252210</td>\n",
       "      <td>4324.968886</td>\n",
       "      <td>0.819843</td>\n",
       "      <td>871.146437</td>\n",
       "      <td>117.453835</td>\n",
       "      <td>-0.255651</td>\n",
       "      <td>0.145415</td>\n",
       "      <td>-0.031656</td>\n",
       "      <td>0.029378</td>\n",
       "    </tr>\n",
       "    <tr>\n",
       "      <th>1</th>\n",
       "      <td>-0.023791</td>\n",
       "      <td>2244.142916</td>\n",
       "      <td>0.831402</td>\n",
       "      <td>406.412611</td>\n",
       "      <td>-0.143059</td>\n",
       "      <td>0.395680</td>\n",
       "      <td>0.911344</td>\n",
       "      <td>0.276072</td>\n",
       "      <td>5.829755</td>\n",
       "      <td>1.247865</td>\n",
       "      <td>...</td>\n",
       "      <td>0.032220</td>\n",
       "      <td>0.380316</td>\n",
       "      <td>4294.772325</td>\n",
       "      <td>1.082511</td>\n",
       "      <td>868.057488</td>\n",
       "      <td>117.453835</td>\n",
       "      <td>-0.612709</td>\n",
       "      <td>0.140400</td>\n",
       "      <td>0.166721</td>\n",
       "      <td>0.034283</td>\n",
       "    </tr>\n",
       "    <tr>\n",
       "      <th>2</th>\n",
       "      <td>-0.624096</td>\n",
       "      <td>2381.707646</td>\n",
       "      <td>0.326672</td>\n",
       "      <td>484.115327</td>\n",
       "      <td>-0.469382</td>\n",
       "      <td>0.410844</td>\n",
       "      <td>0.744096</td>\n",
       "      <td>0.282949</td>\n",
       "      <td>6.671955</td>\n",
       "      <td>1.126775</td>\n",
       "      <td>...</td>\n",
       "      <td>0.042709</td>\n",
       "      <td>-1.168401</td>\n",
       "      <td>4817.718520</td>\n",
       "      <td>0.263824</td>\n",
       "      <td>1174.116147</td>\n",
       "      <td>117.453835</td>\n",
       "      <td>0.659586</td>\n",
       "      <td>0.128221</td>\n",
       "      <td>0.465265</td>\n",
       "      <td>0.032395</td>\n",
       "    </tr>\n",
       "  </tbody>\n",
       "</table>\n",
       "<p>3 rows × 77 columns</p>\n",
       "</div>"
      ],
      "text/plain": [
       "   centroid_kurtosis  centroid_mean  centroid_skew  centroid_std  \\\n",
       "0          -0.272445    2292.006108       0.639644    371.370890   \n",
       "1          -0.023791    2244.142916       0.831402    406.412611   \n",
       "2          -0.624096    2381.707646       0.326672    484.115327   \n",
       "\n",
       "   chroma_kurtosis  chroma_mean  chroma_skew  chroma_std  flux_kurtosis  \\\n",
       "0        -0.459790     0.454361     0.717142    0.264166       6.023544   \n",
       "1        -0.143059     0.395680     0.911344    0.276072       5.829755   \n",
       "2        -0.469382     0.410844     0.744096    0.282949       6.671955   \n",
       "\n",
       "   flux_mean  ...  rmse_std  roloff_kurtosis  roloff_mean  roloff_skew  \\\n",
       "0   1.166718  ...  0.025612        -0.252210  4324.968886     0.819843   \n",
       "1   1.247865  ...  0.032220         0.380316  4294.772325     1.082511   \n",
       "2   1.126775  ...  0.042709        -1.168401  4817.718520     0.263824   \n",
       "\n",
       "    roloff_std       tempo  zcr_kurtosis  zcr_mean  zcr_skew   zcr_std  \n",
       "0   871.146437  117.453835     -0.255651  0.145415 -0.031656  0.029378  \n",
       "1   868.057488  117.453835     -0.612709  0.140400  0.166721  0.034283  \n",
       "2  1174.116147  117.453835      0.659586  0.128221  0.465265  0.032395  \n",
       "\n",
       "[3 rows x 77 columns]"
      ]
     },
     "execution_count": 32,
     "metadata": {},
     "output_type": "execute_result"
    }
   ],
   "source": []
  },
  {
   "cell_type": "code",
   "execution_count": 3,
   "metadata": {},
   "outputs": [],
   "source": [
    "#mis pruebas para pipeline:\n",
    "dire='.Data/test_songs/blues/'\n",
    "signal, sr = librosa.load(file_name)"
   ]
  },
  {
   "cell_type": "code",
   "execution_count": 7,
   "metadata": {},
   "outputs": [],
   "source": [
    "signal=signal[:660000]"
   ]
  },
  {
   "cell_type": "code",
   "execution_count": 11,
   "metadata": {},
   "outputs": [
    {
     "name": "stdout",
     "output_type": "stream",
     "text": [
      "Reading file: ./Data/spotify_songs/blues.00099.wav\n"
     ]
    }
   ],
   "source": [
    "feats=read_process_unlabelled(spoty_dir,1/3,0,debug=True)\n",
    "df=pd.DataFrame(feats)"
   ]
  },
  {
   "cell_type": "code",
   "execution_count": 12,
   "metadata": {},
   "outputs": [
    {
     "data": {
      "text/html": [
       "<div>\n",
       "<style scoped>\n",
       "    .dataframe tbody tr th:only-of-type {\n",
       "        vertical-align: middle;\n",
       "    }\n",
       "\n",
       "    .dataframe tbody tr th {\n",
       "        vertical-align: top;\n",
       "    }\n",
       "\n",
       "    .dataframe thead th {\n",
       "        text-align: right;\n",
       "    }\n",
       "</style>\n",
       "<table border=\"1\" class=\"dataframe\">\n",
       "  <thead>\n",
       "    <tr style=\"text-align: right;\">\n",
       "      <th></th>\n",
       "      <th>centroid_kurtosis</th>\n",
       "      <th>centroid_mean</th>\n",
       "      <th>centroid_skew</th>\n",
       "      <th>centroid_std</th>\n",
       "      <th>chroma_kurtosis</th>\n",
       "      <th>chroma_mean</th>\n",
       "      <th>chroma_skew</th>\n",
       "      <th>chroma_std</th>\n",
       "      <th>flux_kurtosis</th>\n",
       "      <th>flux_mean</th>\n",
       "      <th>...</th>\n",
       "      <th>rmse_std</th>\n",
       "      <th>roloff_kurtosis</th>\n",
       "      <th>roloff_mean</th>\n",
       "      <th>roloff_skew</th>\n",
       "      <th>roloff_std</th>\n",
       "      <th>tempo</th>\n",
       "      <th>zcr_kurtosis</th>\n",
       "      <th>zcr_mean</th>\n",
       "      <th>zcr_skew</th>\n",
       "      <th>zcr_std</th>\n",
       "    </tr>\n",
       "  </thead>\n",
       "  <tbody>\n",
       "    <tr>\n",
       "      <th>0</th>\n",
       "      <td>0.949163</td>\n",
       "      <td>1340.141376</td>\n",
       "      <td>1.078580</td>\n",
       "      <td>404.889141</td>\n",
       "      <td>-1.035797</td>\n",
       "      <td>0.475457</td>\n",
       "      <td>0.297787</td>\n",
       "      <td>0.296755</td>\n",
       "      <td>33.079778</td>\n",
       "      <td>1.060128</td>\n",
       "      <td>...</td>\n",
       "      <td>0.066714</td>\n",
       "      <td>1.259107</td>\n",
       "      <td>2765.063590</td>\n",
       "      <td>0.950681</td>\n",
       "      <td>929.608641</td>\n",
       "      <td>92.285156</td>\n",
       "      <td>-0.416028</td>\n",
       "      <td>0.063277</td>\n",
       "      <td>0.833403</td>\n",
       "      <td>0.037962</td>\n",
       "    </tr>\n",
       "    <tr>\n",
       "      <th>1</th>\n",
       "      <td>-0.842783</td>\n",
       "      <td>1511.388015</td>\n",
       "      <td>0.393239</td>\n",
       "      <td>470.671228</td>\n",
       "      <td>-0.689767</td>\n",
       "      <td>0.426770</td>\n",
       "      <td>0.645852</td>\n",
       "      <td>0.287938</td>\n",
       "      <td>20.826028</td>\n",
       "      <td>1.158309</td>\n",
       "      <td>...</td>\n",
       "      <td>0.075188</td>\n",
       "      <td>-0.100544</td>\n",
       "      <td>3107.842138</td>\n",
       "      <td>0.302303</td>\n",
       "      <td>1084.135156</td>\n",
       "      <td>92.285156</td>\n",
       "      <td>-0.151604</td>\n",
       "      <td>0.076821</td>\n",
       "      <td>0.689794</td>\n",
       "      <td>0.041826</td>\n",
       "    </tr>\n",
       "    <tr>\n",
       "      <th>2</th>\n",
       "      <td>7.779262</td>\n",
       "      <td>1583.142180</td>\n",
       "      <td>2.038264</td>\n",
       "      <td>527.572782</td>\n",
       "      <td>-0.993955</td>\n",
       "      <td>0.444090</td>\n",
       "      <td>0.469302</td>\n",
       "      <td>0.303186</td>\n",
       "      <td>19.604582</td>\n",
       "      <td>1.143739</td>\n",
       "      <td>...</td>\n",
       "      <td>0.079983</td>\n",
       "      <td>0.964444</td>\n",
       "      <td>3130.627271</td>\n",
       "      <td>0.864083</td>\n",
       "      <td>1173.319918</td>\n",
       "      <td>92.285156</td>\n",
       "      <td>2.991650</td>\n",
       "      <td>0.084121</td>\n",
       "      <td>1.062447</td>\n",
       "      <td>0.044637</td>\n",
       "    </tr>\n",
       "  </tbody>\n",
       "</table>\n",
       "<p>3 rows × 77 columns</p>\n",
       "</div>"
      ],
      "text/plain": [
       "   centroid_kurtosis  centroid_mean  centroid_skew  centroid_std  \\\n",
       "0           0.949163    1340.141376       1.078580    404.889141   \n",
       "1          -0.842783    1511.388015       0.393239    470.671228   \n",
       "2           7.779262    1583.142180       2.038264    527.572782   \n",
       "\n",
       "   chroma_kurtosis  chroma_mean  chroma_skew  chroma_std  flux_kurtosis  \\\n",
       "0        -1.035797     0.475457     0.297787    0.296755      33.079778   \n",
       "1        -0.689767     0.426770     0.645852    0.287938      20.826028   \n",
       "2        -0.993955     0.444090     0.469302    0.303186      19.604582   \n",
       "\n",
       "   flux_mean  ...  rmse_std  roloff_kurtosis  roloff_mean  roloff_skew  \\\n",
       "0   1.060128  ...  0.066714         1.259107  2765.063590     0.950681   \n",
       "1   1.158309  ...  0.075188        -0.100544  3107.842138     0.302303   \n",
       "2   1.143739  ...  0.079983         0.964444  3130.627271     0.864083   \n",
       "\n",
       "    roloff_std      tempo  zcr_kurtosis  zcr_mean  zcr_skew   zcr_std  \n",
       "0   929.608641  92.285156     -0.416028  0.063277  0.833403  0.037962  \n",
       "1  1084.135156  92.285156     -0.151604  0.076821  0.689794  0.041826  \n",
       "2  1173.319918  92.285156      2.991650  0.084121  1.062447  0.044637  \n",
       "\n",
       "[3 rows x 77 columns]"
      ]
     },
     "execution_count": 12,
     "metadata": {},
     "output_type": "execute_result"
    }
   ],
   "source": [
    "df"
   ]
  },
  {
   "cell_type": "code",
   "execution_count": null,
   "metadata": {},
   "outputs": [],
   "source": []
  }
 ],
 "metadata": {
  "kernelspec": {
   "display_name": "Python 3",
   "language": "python",
   "name": "python3"
  },
  "language_info": {
   "codemirror_mode": {
    "name": "ipython",
    "version": 3
   },
   "file_extension": ".py",
   "mimetype": "text/x-python",
   "name": "python",
   "nbconvert_exporter": "python",
   "pygments_lexer": "ipython3",
   "version": "3.6.9"
  }
 },
 "nbformat": 4,
 "nbformat_minor": 4
}
